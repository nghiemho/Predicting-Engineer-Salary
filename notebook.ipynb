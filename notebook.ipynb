{
 "cells": [
  {
   "cell_type": "markdown",
   "metadata": {
    "colab_type": "text",
    "id": "cdLvxsrjGKXT"
   },
   "source": [
    "# Predicting Engineer Salaries\n",
    "###### Quevico competition\n",
    "\n",
    "###### Ho Van Nghiem\n",
    "\n",
    "28/08/2020\n",
    "\n",
    "* #### 1. Introduction\n",
    "* #### 2. Load and check data\n",
    "* #### 3. Salaries analysis\n",
    "* #### 4. Imputing missing values\n",
    "    * 4.1 Fill missing value on numeric columns\n",
    "    * 4.2 Fill missing value on categorical columns\n",
    "* #### 5. Feature Engineering\n",
    "    * 5.1 Categorical multiple-choices\n",
    "    * 5.2 Categorical option-choices\n",
    "        * 5.2.1 Ordered variables\n",
    "        * 5.2.2 Non Ordered variables\n",
    "    * 5.3 Normalization\n",
    "* #### 6. Modeling\n",
    "    * 6.1 Simple model\n",
    "        * 6.1.1 Fine tuning parameter\n",
    "        * 6.1.2 Features coefftion\n",
    "    * 6.2 Trees based model\n",
    "        * 6.2.1 Fine tuning XGBoost parameter\n",
    "        * 6.2.2 Fine tuning LighGBM parameter\n",
    "    * 6.3 Voting"
   ]
  },
  {
   "cell_type": "markdown",
   "metadata": {
    "colab_type": "text",
    "id": "dUBlvQdfGKXV"
   },
   "source": [
    "## 1. Introduction\n",
    "Understanding what’s inside the heads of engineers who have high salaries\n",
    "\n",
    "The task in this competition involves the use of regression analysis. The goal is to predict the salaries of engineers using a survey consisting of over 100 questions administered to over 90,000 engineers by Stack Overflow in 2018. The survey includes a wide range of questions including the respondents’ history, skills, and thoughts on machine learning.\n",
    "\n",
    "This competition to introduce to regression techniques and data tranformation. Firstly, I will display some feature analysis then i'll focus on feature transformation/engineering. Last part concerns modeling and prediction of engineer salary using an ensemble procedure.\n",
    "\n",
    "##### This script follows four main parts:\n",
    "\n",
    "* Data correction\n",
    "* SalePrice analysis\n",
    "* Feature engineering\n",
    "* Modeling"
   ]
  },
  {
   "cell_type": "code",
   "execution_count": 1,
   "metadata": {
    "colab": {
     "base_uri": "https://localhost:8080/",
     "height": 122
    },
    "colab_type": "code",
    "executionInfo": {
     "elapsed": 21681,
     "status": "ok",
     "timestamp": 1598858449943,
     "user": {
      "displayName": "Ho Van Nghiem",
      "photoUrl": "",
      "userId": "17867822427606298916"
     },
     "user_tz": -420
    },
    "id": "66HepGaiGOKx",
    "outputId": "7c6221e5-152e-421a-82db-639d5abced14"
   },
   "outputs": [
    {
     "name": "stdout",
     "output_type": "stream",
     "text": [
      "Go to this URL in a browser: https://accounts.google.com/o/oauth2/auth?client_id=947318989803-6bn6qk8qdgf4n4g3pfee6491hc0brc4i.apps.googleusercontent.com&redirect_uri=urn%3aietf%3awg%3aoauth%3a2.0%3aoob&scope=email%20https%3a%2f%2fwww.googleapis.com%2fauth%2fdocs.test%20https%3a%2f%2fwww.googleapis.com%2fauth%2fdrive%20https%3a%2f%2fwww.googleapis.com%2fauth%2fdrive.photos.readonly%20https%3a%2f%2fwww.googleapis.com%2fauth%2fpeopleapi.readonly&response_type=code\n",
      "\n",
      "Enter your authorization code:\n",
      "··········\n",
      "Mounted at /content/gdrive\n"
     ]
    }
   ],
   "source": [
    "from google.colab import drive\n",
    "drive.mount('/content/gdrive')"
   ]
  },
  {
   "cell_type": "code",
   "execution_count": 2,
   "metadata": {
    "colab": {
     "base_uri": "https://localhost:8080/",
     "height": 71
    },
    "colab_type": "code",
    "executionInfo": {
     "elapsed": 2242,
     "status": "ok",
     "timestamp": 1598858458546,
     "user": {
      "displayName": "Ho Van Nghiem",
      "photoUrl": "",
      "userId": "17867822427606298916"
     },
     "user_tz": -420
    },
    "id": "kIdWgZ5iGKXX",
    "outputId": "e559fd6a-482d-4969-db9a-980c52f5d07d"
   },
   "outputs": [
    {
     "name": "stderr",
     "output_type": "stream",
     "text": [
      "/usr/local/lib/python3.6/dist-packages/statsmodels/tools/_testing.py:19: FutureWarning: pandas.util.testing is deprecated. Use the functions in the public API at pandas.testing instead.\n",
      "  import pandas.util.testing as tm\n"
     ]
    }
   ],
   "source": [
    "import numpy as np\n",
    "import pandas as pd \n",
    "\n",
    "from pandas.api.types import CategoricalDtype\n",
    "from sklearn.impute import SimpleImputer \n",
    "from sklearn.preprocessing import StandardScaler\n",
    "from sklearn.linear_model import LinearRegression, Lasso, Ridge, ElasticNetCV\n",
    "from sklearn.model_selection import GridSearchCV, cross_val_score, learning_curve\n",
    "from sklearn.metrics import mean_squared_error\n",
    "from sklearn.ensemble import VotingRegressor\n",
    "import xgboost as xgb\n",
    "import lightgbm as lgb\n",
    "import itertools\n",
    "\n",
    "import matplotlib.pyplot as plt\n",
    "import seaborn as sns\n",
    "import warnings\n",
    "warnings.filterwarnings('ignore')\n",
    "sns.set(style='white', context='notebook', palette='deep')\n",
    "%matplotlib inline"
   ]
  },
  {
   "cell_type": "markdown",
   "metadata": {
    "colab_type": "text",
    "id": "HJH8jZqgGKXe"
   },
   "source": [
    "## 2. Load and check data"
   ]
  },
  {
   "cell_type": "code",
   "execution_count": 3,
   "metadata": {
    "colab": {
     "base_uri": "https://localhost:8080/",
     "height": 221
    },
    "colab_type": "code",
    "executionInfo": {
     "elapsed": 2657,
     "status": "ok",
     "timestamp": 1598858463389,
     "user": {
      "displayName": "Ho Van Nghiem",
      "photoUrl": "",
      "userId": "17867822427606298916"
     },
     "user_tz": -420
    },
    "id": "6JNG68LiGKXf",
    "outputId": "581fde31-d219-429f-b9a5-680e5a3c51bc"
   },
   "outputs": [
    {
     "name": "stdout",
     "output_type": "stream",
     "text": [
      "(129, 2)\n"
     ]
    },
    {
     "data": {
      "text/html": [
       "<div>\n",
       "<style scoped>\n",
       "    .dataframe tbody tr th:only-of-type {\n",
       "        vertical-align: middle;\n",
       "    }\n",
       "\n",
       "    .dataframe tbody tr th {\n",
       "        vertical-align: top;\n",
       "    }\n",
       "\n",
       "    .dataframe thead th {\n",
       "        text-align: right;\n",
       "    }\n",
       "</style>\n",
       "<table border=\"1\" class=\"dataframe\">\n",
       "  <thead>\n",
       "    <tr style=\"text-align: right;\">\n",
       "      <th></th>\n",
       "      <th>Column</th>\n",
       "      <th>QuestionText</th>\n",
       "    </tr>\n",
       "  </thead>\n",
       "  <tbody>\n",
       "    <tr>\n",
       "      <th>0</th>\n",
       "      <td>Respondent</td>\n",
       "      <td>Randomized respondent ID number (not in order ...</td>\n",
       "    </tr>\n",
       "    <tr>\n",
       "      <th>1</th>\n",
       "      <td>Hobby</td>\n",
       "      <td>Do you code as a hobby?</td>\n",
       "    </tr>\n",
       "    <tr>\n",
       "      <th>2</th>\n",
       "      <td>OpenSource</td>\n",
       "      <td>Do you contribute to open source projects?</td>\n",
       "    </tr>\n",
       "    <tr>\n",
       "      <th>3</th>\n",
       "      <td>Country</td>\n",
       "      <td>In which country do you currently reside?</td>\n",
       "    </tr>\n",
       "    <tr>\n",
       "      <th>4</th>\n",
       "      <td>Student</td>\n",
       "      <td>Are you currently enrolled in a formal, degree...</td>\n",
       "    </tr>\n",
       "  </tbody>\n",
       "</table>\n",
       "</div>"
      ],
      "text/plain": [
       "       Column                                       QuestionText\n",
       "0  Respondent  Randomized respondent ID number (not in order ...\n",
       "1       Hobby                            Do you code as a hobby?\n",
       "2  OpenSource         Do you contribute to open source projects?\n",
       "3     Country          In which country do you currently reside?\n",
       "4     Student  Are you currently enrolled in a formal, degree..."
      ]
     },
     "execution_count": 3,
     "metadata": {
      "tags": []
     },
     "output_type": "execute_result"
    }
   ],
   "source": [
    "#View the question data\n",
    "question_data = pd.read_csv('/content/gdrive/My Drive/Python/Final project/Predict Engineer salary/data_all/question.csv')\n",
    "print(question_data.shape)\n",
    "question_data.head(5)"
   ]
  },
  {
   "cell_type": "code",
   "execution_count": 4,
   "metadata": {
    "colab": {
     "base_uri": "https://localhost:8080/",
     "height": 610
    },
    "colab_type": "code",
    "executionInfo": {
     "elapsed": 4157,
     "status": "ok",
     "timestamp": 1598858467894,
     "user": {
      "displayName": "Ho Van Nghiem",
      "photoUrl": "",
      "userId": "17867822427606298916"
     },
     "user_tz": -420
    },
    "id": "t2NGwL3rGKXl",
    "outputId": "93833386-24e3-4199-8d2c-afb490b439ef"
   },
   "outputs": [
    {
     "name": "stdout",
     "output_type": "stream",
     "text": [
      "(33857, 128)\n"
     ]
    },
    {
     "data": {
      "text/html": [
       "<div>\n",
       "<style scoped>\n",
       "    .dataframe tbody tr th:only-of-type {\n",
       "        vertical-align: middle;\n",
       "    }\n",
       "\n",
       "    .dataframe tbody tr th {\n",
       "        vertical-align: top;\n",
       "    }\n",
       "\n",
       "    .dataframe thead th {\n",
       "        text-align: right;\n",
       "    }\n",
       "</style>\n",
       "<table border=\"1\" class=\"dataframe\">\n",
       "  <thead>\n",
       "    <tr style=\"text-align: right;\">\n",
       "      <th></th>\n",
       "      <th>No</th>\n",
       "      <th>Hobby</th>\n",
       "      <th>OpenSource</th>\n",
       "      <th>Country</th>\n",
       "      <th>Student</th>\n",
       "      <th>Employment</th>\n",
       "      <th>FormalEducation</th>\n",
       "      <th>UndergradMajor</th>\n",
       "      <th>CompanySize</th>\n",
       "      <th>DevType</th>\n",
       "      <th>YearsCoding</th>\n",
       "      <th>YearsCodingProf</th>\n",
       "      <th>JobSatisfaction</th>\n",
       "      <th>CareerSatisfaction</th>\n",
       "      <th>HopeFiveYears</th>\n",
       "      <th>JobSearchStatus</th>\n",
       "      <th>LastNewJob</th>\n",
       "      <th>AssessJob1</th>\n",
       "      <th>AssessJob2</th>\n",
       "      <th>AssessJob3</th>\n",
       "      <th>AssessJob4</th>\n",
       "      <th>AssessJob5</th>\n",
       "      <th>AssessJob6</th>\n",
       "      <th>AssessJob7</th>\n",
       "      <th>AssessJob8</th>\n",
       "      <th>AssessJob9</th>\n",
       "      <th>AssessJob10</th>\n",
       "      <th>AssessBenefits1</th>\n",
       "      <th>AssessBenefits2</th>\n",
       "      <th>AssessBenefits3</th>\n",
       "      <th>AssessBenefits4</th>\n",
       "      <th>AssessBenefits5</th>\n",
       "      <th>AssessBenefits6</th>\n",
       "      <th>AssessBenefits7</th>\n",
       "      <th>AssessBenefits8</th>\n",
       "      <th>AssessBenefits9</th>\n",
       "      <th>AssessBenefits10</th>\n",
       "      <th>AssessBenefits11</th>\n",
       "      <th>JobContactPriorities1</th>\n",
       "      <th>JobContactPriorities2</th>\n",
       "      <th>...</th>\n",
       "      <th>AdsPriorities4</th>\n",
       "      <th>AdsPriorities5</th>\n",
       "      <th>AdsPriorities6</th>\n",
       "      <th>AdsPriorities7</th>\n",
       "      <th>AIDangerous</th>\n",
       "      <th>AIInteresting</th>\n",
       "      <th>AIResponsible</th>\n",
       "      <th>AIFuture</th>\n",
       "      <th>EthicsChoice</th>\n",
       "      <th>EthicsReport</th>\n",
       "      <th>EthicsResponsible</th>\n",
       "      <th>EthicalImplications</th>\n",
       "      <th>StackOverflowRecommend</th>\n",
       "      <th>StackOverflowVisit</th>\n",
       "      <th>StackOverflowHasAccount</th>\n",
       "      <th>StackOverflowParticipate</th>\n",
       "      <th>StackOverflowJobs</th>\n",
       "      <th>StackOverflowDevStory</th>\n",
       "      <th>StackOverflowJobsRecommend</th>\n",
       "      <th>StackOverflowConsiderMember</th>\n",
       "      <th>HypotheticalTools1</th>\n",
       "      <th>HypotheticalTools2</th>\n",
       "      <th>HypotheticalTools3</th>\n",
       "      <th>HypotheticalTools4</th>\n",
       "      <th>HypotheticalTools5</th>\n",
       "      <th>WakeTime</th>\n",
       "      <th>HoursComputer</th>\n",
       "      <th>HoursOutside</th>\n",
       "      <th>SkipMeals</th>\n",
       "      <th>ErgonomicDevices</th>\n",
       "      <th>Exercise</th>\n",
       "      <th>Gender</th>\n",
       "      <th>SexualOrientation</th>\n",
       "      <th>EducationParents</th>\n",
       "      <th>RaceEthnicity</th>\n",
       "      <th>Age</th>\n",
       "      <th>Dependents</th>\n",
       "      <th>MilitaryUS</th>\n",
       "      <th>SurveyTooLong</th>\n",
       "      <th>SurveyEasy</th>\n",
       "    </tr>\n",
       "  </thead>\n",
       "  <tbody>\n",
       "    <tr>\n",
       "      <th>0</th>\n",
       "      <td>1</td>\n",
       "      <td>Yes</td>\n",
       "      <td>No</td>\n",
       "      <td>Nigeria</td>\n",
       "      <td>No</td>\n",
       "      <td>Independent contractor, freelancer, or self-em...</td>\n",
       "      <td>Bachelor’s degree (BA, BS, B.Eng., etc.)</td>\n",
       "      <td>Computer science, computer engineering, or sof...</td>\n",
       "      <td>NaN</td>\n",
       "      <td>Database administrator;Designer;Full-stack dev...</td>\n",
       "      <td>18-20 years</td>\n",
       "      <td>6-8 years</td>\n",
       "      <td>Slightly satisfied</td>\n",
       "      <td>Extremely satisfied</td>\n",
       "      <td>Working as a founder or co-founder of my own c...</td>\n",
       "      <td>I’m not actively looking, but I am open to new...</td>\n",
       "      <td>Between 1 and 2 years ago</td>\n",
       "      <td>9.0</td>\n",
       "      <td>7.0</td>\n",
       "      <td>8.0</td>\n",
       "      <td>3.0</td>\n",
       "      <td>6.0</td>\n",
       "      <td>10.0</td>\n",
       "      <td>2.0</td>\n",
       "      <td>1.0</td>\n",
       "      <td>5.0</td>\n",
       "      <td>4.0</td>\n",
       "      <td>1.0</td>\n",
       "      <td>10.0</td>\n",
       "      <td>5.0</td>\n",
       "      <td>9.0</td>\n",
       "      <td>11.0</td>\n",
       "      <td>2.0</td>\n",
       "      <td>7.0</td>\n",
       "      <td>6.0</td>\n",
       "      <td>8.0</td>\n",
       "      <td>4.0</td>\n",
       "      <td>3.0</td>\n",
       "      <td>1.0</td>\n",
       "      <td>2.0</td>\n",
       "      <td>...</td>\n",
       "      <td>6.0</td>\n",
       "      <td>2.0</td>\n",
       "      <td>3.0</td>\n",
       "      <td>7.0</td>\n",
       "      <td>Increasing automation of jobs</td>\n",
       "      <td>Algorithms making important decisions</td>\n",
       "      <td>The developers or the people creating the AI</td>\n",
       "      <td>I'm excited about the possibilities more than ...</td>\n",
       "      <td>No</td>\n",
       "      <td>Yes, but only within the company</td>\n",
       "      <td>Upper management at the company/organization</td>\n",
       "      <td>Yes</td>\n",
       "      <td>10 (Very Likely)</td>\n",
       "      <td>Multiple times per day</td>\n",
       "      <td>Yes</td>\n",
       "      <td>A few times per month or weekly</td>\n",
       "      <td>No, I didn't know that Stack Overflow had a jo...</td>\n",
       "      <td>No, and I don't know what that is</td>\n",
       "      <td>NaN</td>\n",
       "      <td>Yes</td>\n",
       "      <td>Extremely interested</td>\n",
       "      <td>Extremely interested</td>\n",
       "      <td>Extremely interested</td>\n",
       "      <td>Extremely interested</td>\n",
       "      <td>Extremely interested</td>\n",
       "      <td>Between 5:00 - 6:00 AM</td>\n",
       "      <td>5 - 8 hours</td>\n",
       "      <td>Over 4 hours</td>\n",
       "      <td>3 - 4 times per week</td>\n",
       "      <td>NaN</td>\n",
       "      <td>I don't typically exercise</td>\n",
       "      <td>Male</td>\n",
       "      <td>Straight or heterosexual</td>\n",
       "      <td>Bachelor’s degree (BA, BS, B.Eng., etc.)</td>\n",
       "      <td>Black or of African descent</td>\n",
       "      <td>35 - 44 years old</td>\n",
       "      <td>Yes</td>\n",
       "      <td>NaN</td>\n",
       "      <td>The survey was too long</td>\n",
       "      <td>Somewhat easy</td>\n",
       "    </tr>\n",
       "    <tr>\n",
       "      <th>1</th>\n",
       "      <td>2</td>\n",
       "      <td>Yes</td>\n",
       "      <td>Yes</td>\n",
       "      <td>France</td>\n",
       "      <td>No</td>\n",
       "      <td>Employed full-time</td>\n",
       "      <td>Master’s degree (MA, MS, M.Eng., MBA, etc.)</td>\n",
       "      <td>A natural science (ex. biology, chemistry, phy...</td>\n",
       "      <td>10,000 or more employees</td>\n",
       "      <td>Back-end developer</td>\n",
       "      <td>18-20 years</td>\n",
       "      <td>18-20 years</td>\n",
       "      <td>Extremely satisfied</td>\n",
       "      <td>Extremely satisfied</td>\n",
       "      <td>Doing the same work</td>\n",
       "      <td>I am not interested in new job opportunities</td>\n",
       "      <td>Between 2 and 4 years ago</td>\n",
       "      <td>9.0</td>\n",
       "      <td>2.0</td>\n",
       "      <td>1.0</td>\n",
       "      <td>6.0</td>\n",
       "      <td>4.0</td>\n",
       "      <td>8.0</td>\n",
       "      <td>3.0</td>\n",
       "      <td>5.0</td>\n",
       "      <td>10.0</td>\n",
       "      <td>7.0</td>\n",
       "      <td>2.0</td>\n",
       "      <td>7.0</td>\n",
       "      <td>3.0</td>\n",
       "      <td>6.0</td>\n",
       "      <td>11.0</td>\n",
       "      <td>8.0</td>\n",
       "      <td>10.0</td>\n",
       "      <td>1.0</td>\n",
       "      <td>4.0</td>\n",
       "      <td>9.0</td>\n",
       "      <td>5.0</td>\n",
       "      <td>NaN</td>\n",
       "      <td>NaN</td>\n",
       "      <td>...</td>\n",
       "      <td>7.0</td>\n",
       "      <td>4.0</td>\n",
       "      <td>6.0</td>\n",
       "      <td>5.0</td>\n",
       "      <td>Evolving definitions of \"fairness\" in algorith...</td>\n",
       "      <td>Increasing automation of jobs</td>\n",
       "      <td>The developers or the people creating the AI</td>\n",
       "      <td>I'm worried about the dangers more than I'm ex...</td>\n",
       "      <td>No</td>\n",
       "      <td>Yes, but only within the company</td>\n",
       "      <td>The developer who wrote it</td>\n",
       "      <td>Yes</td>\n",
       "      <td>8</td>\n",
       "      <td>Daily or almost daily</td>\n",
       "      <td>Yes</td>\n",
       "      <td>A few times per week</td>\n",
       "      <td>No, I knew that Stack Overflow had a jobs boar...</td>\n",
       "      <td>No, and I don't know what that is</td>\n",
       "      <td>NaN</td>\n",
       "      <td>Yes</td>\n",
       "      <td>Very interested</td>\n",
       "      <td>Somewhat interested</td>\n",
       "      <td>A little bit interested</td>\n",
       "      <td>A little bit interested</td>\n",
       "      <td>A little bit interested</td>\n",
       "      <td>Between 7:01 - 8:00 AM</td>\n",
       "      <td>Over 12 hours</td>\n",
       "      <td>30 - 59 minutes</td>\n",
       "      <td>Never</td>\n",
       "      <td>Ergonomic keyboard or mouse</td>\n",
       "      <td>I don't typically exercise</td>\n",
       "      <td>Male</td>\n",
       "      <td>Straight or heterosexual</td>\n",
       "      <td>Master’s degree (MA, MS, M.Eng., MBA, etc.)</td>\n",
       "      <td>White or of European descent</td>\n",
       "      <td>35 - 44 years old</td>\n",
       "      <td>Yes</td>\n",
       "      <td>NaN</td>\n",
       "      <td>The survey was too long</td>\n",
       "      <td>Somewhat easy</td>\n",
       "    </tr>\n",
       "    <tr>\n",
       "      <th>2</th>\n",
       "      <td>3</td>\n",
       "      <td>Yes</td>\n",
       "      <td>Yes</td>\n",
       "      <td>United Kingdom</td>\n",
       "      <td>No</td>\n",
       "      <td>Employed full-time</td>\n",
       "      <td>Some college/university study without earning ...</td>\n",
       "      <td>Computer science, computer engineering, or sof...</td>\n",
       "      <td>NaN</td>\n",
       "      <td>Designer;Full-stack developer</td>\n",
       "      <td>27-29 years</td>\n",
       "      <td>15-17 years</td>\n",
       "      <td>Extremely satisfied</td>\n",
       "      <td>Moderately satisfied</td>\n",
       "      <td>Working in a different or more specialized tec...</td>\n",
       "      <td>I’m not actively looking, but I am open to new...</td>\n",
       "      <td>Between 1 and 2 years ago</td>\n",
       "      <td>9.0</td>\n",
       "      <td>4.0</td>\n",
       "      <td>6.0</td>\n",
       "      <td>1.0</td>\n",
       "      <td>3.0</td>\n",
       "      <td>5.0</td>\n",
       "      <td>2.0</td>\n",
       "      <td>8.0</td>\n",
       "      <td>10.0</td>\n",
       "      <td>7.0</td>\n",
       "      <td>1.0</td>\n",
       "      <td>11.0</td>\n",
       "      <td>9.0</td>\n",
       "      <td>2.0</td>\n",
       "      <td>7.0</td>\n",
       "      <td>6.0</td>\n",
       "      <td>8.0</td>\n",
       "      <td>3.0</td>\n",
       "      <td>4.0</td>\n",
       "      <td>10.0</td>\n",
       "      <td>5.0</td>\n",
       "      <td>2.0</td>\n",
       "      <td>1.0</td>\n",
       "      <td>...</td>\n",
       "      <td>3.0</td>\n",
       "      <td>5.0</td>\n",
       "      <td>6.0</td>\n",
       "      <td>7.0</td>\n",
       "      <td>Algorithms making important decisions</td>\n",
       "      <td>Evolving definitions of \"fairness\" in algorith...</td>\n",
       "      <td>A governmental or other regulatory body</td>\n",
       "      <td>I don't care about it, or I haven't thought ab...</td>\n",
       "      <td>Depends on what it is</td>\n",
       "      <td>Depends on what it is</td>\n",
       "      <td>Upper management at the company/organization</td>\n",
       "      <td>Unsure / I don't know</td>\n",
       "      <td>5</td>\n",
       "      <td>A few times per week</td>\n",
       "      <td>Yes</td>\n",
       "      <td>A few times per month or weekly</td>\n",
       "      <td>Yes</td>\n",
       "      <td>No, I have one but it's out of date</td>\n",
       "      <td>4</td>\n",
       "      <td>Yes</td>\n",
       "      <td>Not at all interested</td>\n",
       "      <td>Not at all interested</td>\n",
       "      <td>Not at all interested</td>\n",
       "      <td>A little bit interested</td>\n",
       "      <td>A little bit interested</td>\n",
       "      <td>Between 6:01 - 7:00 AM</td>\n",
       "      <td>5 - 8 hours</td>\n",
       "      <td>1 - 2 hours</td>\n",
       "      <td>Never</td>\n",
       "      <td>NaN</td>\n",
       "      <td>I don't typically exercise</td>\n",
       "      <td>Male</td>\n",
       "      <td>Straight or heterosexual</td>\n",
       "      <td>Secondary school (e.g. American high school, G...</td>\n",
       "      <td>White or of European descent</td>\n",
       "      <td>35 - 44 years old</td>\n",
       "      <td>No</td>\n",
       "      <td>NaN</td>\n",
       "      <td>The survey was too long</td>\n",
       "      <td>Somewhat easy</td>\n",
       "    </tr>\n",
       "    <tr>\n",
       "      <th>3</th>\n",
       "      <td>4</td>\n",
       "      <td>Yes</td>\n",
       "      <td>No</td>\n",
       "      <td>Russian Federation</td>\n",
       "      <td>No</td>\n",
       "      <td>Employed full-time</td>\n",
       "      <td>Bachelor’s degree (BA, BS, B.Eng., etc.)</td>\n",
       "      <td>Computer science, computer engineering, or sof...</td>\n",
       "      <td>100 to 499 employees</td>\n",
       "      <td>Back-end developer;Desktop or enterprise appli...</td>\n",
       "      <td>9-11 years</td>\n",
       "      <td>9-11 years</td>\n",
       "      <td>Slightly satisfied</td>\n",
       "      <td>Slightly dissatisfied</td>\n",
       "      <td>Retirement</td>\n",
       "      <td>I’m not actively looking, but I am open to new...</td>\n",
       "      <td>Between 2 and 4 years ago</td>\n",
       "      <td>NaN</td>\n",
       "      <td>NaN</td>\n",
       "      <td>NaN</td>\n",
       "      <td>NaN</td>\n",
       "      <td>NaN</td>\n",
       "      <td>NaN</td>\n",
       "      <td>NaN</td>\n",
       "      <td>NaN</td>\n",
       "      <td>NaN</td>\n",
       "      <td>NaN</td>\n",
       "      <td>8.0</td>\n",
       "      <td>7.0</td>\n",
       "      <td>1.0</td>\n",
       "      <td>11.0</td>\n",
       "      <td>5.0</td>\n",
       "      <td>2.0</td>\n",
       "      <td>4.0</td>\n",
       "      <td>10.0</td>\n",
       "      <td>3.0</td>\n",
       "      <td>6.0</td>\n",
       "      <td>9.0</td>\n",
       "      <td>4.0</td>\n",
       "      <td>1.0</td>\n",
       "      <td>...</td>\n",
       "      <td>6.0</td>\n",
       "      <td>2.0</td>\n",
       "      <td>7.0</td>\n",
       "      <td>4.0</td>\n",
       "      <td>Algorithms making important decisions</td>\n",
       "      <td>Evolving definitions of \"fairness\" in algorith...</td>\n",
       "      <td>Nobody</td>\n",
       "      <td>I'm excited about the possibilities more than ...</td>\n",
       "      <td>No</td>\n",
       "      <td>Depends on what it is</td>\n",
       "      <td>Upper management at the company/organization</td>\n",
       "      <td>Yes</td>\n",
       "      <td>10 (Very Likely)</td>\n",
       "      <td>Daily or almost daily</td>\n",
       "      <td>Yes</td>\n",
       "      <td>I have never participated in Q&amp;A on Stack Over...</td>\n",
       "      <td>Yes</td>\n",
       "      <td>No, I have one but it's out of date</td>\n",
       "      <td>10 (Very Likely)</td>\n",
       "      <td>I'm not sure</td>\n",
       "      <td>A little bit interested</td>\n",
       "      <td>A little bit interested</td>\n",
       "      <td>Not at all interested</td>\n",
       "      <td>Somewhat interested</td>\n",
       "      <td>Not at all interested</td>\n",
       "      <td>Between 9:01 - 10:00 AM</td>\n",
       "      <td>5 - 8 hours</td>\n",
       "      <td>30 - 59 minutes</td>\n",
       "      <td>Never</td>\n",
       "      <td>NaN</td>\n",
       "      <td>I don't typically exercise</td>\n",
       "      <td>Male</td>\n",
       "      <td>Straight or heterosexual</td>\n",
       "      <td>Primary/elementary school</td>\n",
       "      <td>White or of European descent</td>\n",
       "      <td>25 - 34 years old</td>\n",
       "      <td>Yes</td>\n",
       "      <td>NaN</td>\n",
       "      <td>The survey was an appropriate length</td>\n",
       "      <td>Very easy</td>\n",
       "    </tr>\n",
       "    <tr>\n",
       "      <th>4</th>\n",
       "      <td>5</td>\n",
       "      <td>No</td>\n",
       "      <td>Yes</td>\n",
       "      <td>Germany</td>\n",
       "      <td>No</td>\n",
       "      <td>Independent contractor, freelancer, or self-em...</td>\n",
       "      <td>Primary/elementary school</td>\n",
       "      <td>NaN</td>\n",
       "      <td>NaN</td>\n",
       "      <td>Back-end developer;Game or graphics developer</td>\n",
       "      <td>6-8 years</td>\n",
       "      <td>0-2 years</td>\n",
       "      <td>Neither satisfied nor dissatisfied</td>\n",
       "      <td>Neither satisfied nor dissatisfied</td>\n",
       "      <td>Doing the same work</td>\n",
       "      <td>I am not interested in new job opportunities</td>\n",
       "      <td>More than 4 years ago</td>\n",
       "      <td>3.0</td>\n",
       "      <td>8.0</td>\n",
       "      <td>10.0</td>\n",
       "      <td>2.0</td>\n",
       "      <td>7.0</td>\n",
       "      <td>9.0</td>\n",
       "      <td>1.0</td>\n",
       "      <td>5.0</td>\n",
       "      <td>6.0</td>\n",
       "      <td>4.0</td>\n",
       "      <td>6.0</td>\n",
       "      <td>8.0</td>\n",
       "      <td>9.0</td>\n",
       "      <td>5.0</td>\n",
       "      <td>11.0</td>\n",
       "      <td>4.0</td>\n",
       "      <td>10.0</td>\n",
       "      <td>1.0</td>\n",
       "      <td>7.0</td>\n",
       "      <td>3.0</td>\n",
       "      <td>2.0</td>\n",
       "      <td>NaN</td>\n",
       "      <td>NaN</td>\n",
       "      <td>...</td>\n",
       "      <td>2.0</td>\n",
       "      <td>5.0</td>\n",
       "      <td>7.0</td>\n",
       "      <td>3.0</td>\n",
       "      <td>Algorithms making important decisions</td>\n",
       "      <td>Artificial intelligence surpassing human intel...</td>\n",
       "      <td>The developers or the people creating the AI</td>\n",
       "      <td>I'm excited about the possibilities more than ...</td>\n",
       "      <td>Yes</td>\n",
       "      <td>Depends on what it is</td>\n",
       "      <td>The person who came up with the idea</td>\n",
       "      <td>No</td>\n",
       "      <td>5</td>\n",
       "      <td>Multiple times per day</td>\n",
       "      <td>Yes</td>\n",
       "      <td>Less than once per month or monthly</td>\n",
       "      <td>No, I knew that Stack Overflow had a jobs boar...</td>\n",
       "      <td>No, and I don't know what that is</td>\n",
       "      <td>NaN</td>\n",
       "      <td>I'm not sure</td>\n",
       "      <td>A little bit interested</td>\n",
       "      <td>Very interested</td>\n",
       "      <td>A little bit interested</td>\n",
       "      <td>Somewhat interested</td>\n",
       "      <td>A little bit interested</td>\n",
       "      <td>I do not have a set schedule</td>\n",
       "      <td>Over 12 hours</td>\n",
       "      <td>Less than 30 minutes</td>\n",
       "      <td>Daily or almost every day</td>\n",
       "      <td>NaN</td>\n",
       "      <td>I don't typically exercise</td>\n",
       "      <td>Male</td>\n",
       "      <td>Straight or heterosexual</td>\n",
       "      <td>Secondary school (e.g. American high school, G...</td>\n",
       "      <td>White or of European descent</td>\n",
       "      <td>Under 18 years old</td>\n",
       "      <td>No</td>\n",
       "      <td>NaN</td>\n",
       "      <td>The survey was too short</td>\n",
       "      <td>Very easy</td>\n",
       "    </tr>\n",
       "  </tbody>\n",
       "</table>\n",
       "<p>5 rows × 128 columns</p>\n",
       "</div>"
      ],
      "text/plain": [
       "   No Hobby  ...                         SurveyTooLong     SurveyEasy\n",
       "0   1   Yes  ...               The survey was too long  Somewhat easy\n",
       "1   2   Yes  ...               The survey was too long  Somewhat easy\n",
       "2   3   Yes  ...               The survey was too long  Somewhat easy\n",
       "3   4   Yes  ...  The survey was an appropriate length      Very easy\n",
       "4   5    No  ...              The survey was too short      Very easy\n",
       "\n",
       "[5 rows x 128 columns]"
      ]
     },
     "execution_count": 4,
     "metadata": {
      "tags": []
     },
     "output_type": "execute_result"
    }
   ],
   "source": [
    "#View the training data\n",
    "train_data = pd.read_csv('/content/gdrive/My Drive/Python/Final project/Predict Engineer salary/data_all/train.csv')\n",
    "print(train_data.shape)\n",
    "train_data.head(5)"
   ]
  },
  {
   "cell_type": "code",
   "execution_count": 5,
   "metadata": {
    "colab": {
     "base_uri": "https://localhost:8080/",
     "height": 593
    },
    "colab_type": "code",
    "executionInfo": {
     "elapsed": 1736,
     "status": "ok",
     "timestamp": 1598858470566,
     "user": {
      "displayName": "Ho Van Nghiem",
      "photoUrl": "",
      "userId": "17867822427606298916"
     },
     "user_tz": -420
    },
    "id": "4UZ-4PYMGKXp",
    "outputId": "ddf49ad0-d587-4671-868c-3263aacd9399"
   },
   "outputs": [
    {
     "name": "stdout",
     "output_type": "stream",
     "text": [
      "(11259, 127)\n"
     ]
    },
    {
     "data": {
      "text/html": [
       "<div>\n",
       "<style scoped>\n",
       "    .dataframe tbody tr th:only-of-type {\n",
       "        vertical-align: middle;\n",
       "    }\n",
       "\n",
       "    .dataframe tbody tr th {\n",
       "        vertical-align: top;\n",
       "    }\n",
       "\n",
       "    .dataframe thead th {\n",
       "        text-align: right;\n",
       "    }\n",
       "</style>\n",
       "<table border=\"1\" class=\"dataframe\">\n",
       "  <thead>\n",
       "    <tr style=\"text-align: right;\">\n",
       "      <th></th>\n",
       "      <th>No</th>\n",
       "      <th>Hobby</th>\n",
       "      <th>OpenSource</th>\n",
       "      <th>Country</th>\n",
       "      <th>Student</th>\n",
       "      <th>Employment</th>\n",
       "      <th>FormalEducation</th>\n",
       "      <th>UndergradMajor</th>\n",
       "      <th>CompanySize</th>\n",
       "      <th>DevType</th>\n",
       "      <th>YearsCoding</th>\n",
       "      <th>YearsCodingProf</th>\n",
       "      <th>JobSatisfaction</th>\n",
       "      <th>CareerSatisfaction</th>\n",
       "      <th>HopeFiveYears</th>\n",
       "      <th>JobSearchStatus</th>\n",
       "      <th>LastNewJob</th>\n",
       "      <th>AssessJob1</th>\n",
       "      <th>AssessJob2</th>\n",
       "      <th>AssessJob3</th>\n",
       "      <th>AssessJob4</th>\n",
       "      <th>AssessJob5</th>\n",
       "      <th>AssessJob6</th>\n",
       "      <th>AssessJob7</th>\n",
       "      <th>AssessJob8</th>\n",
       "      <th>AssessJob9</th>\n",
       "      <th>AssessJob10</th>\n",
       "      <th>AssessBenefits1</th>\n",
       "      <th>AssessBenefits2</th>\n",
       "      <th>AssessBenefits3</th>\n",
       "      <th>AssessBenefits4</th>\n",
       "      <th>AssessBenefits5</th>\n",
       "      <th>AssessBenefits6</th>\n",
       "      <th>AssessBenefits7</th>\n",
       "      <th>AssessBenefits8</th>\n",
       "      <th>AssessBenefits9</th>\n",
       "      <th>AssessBenefits10</th>\n",
       "      <th>AssessBenefits11</th>\n",
       "      <th>JobContactPriorities1</th>\n",
       "      <th>JobContactPriorities2</th>\n",
       "      <th>...</th>\n",
       "      <th>AdsPriorities4</th>\n",
       "      <th>AdsPriorities5</th>\n",
       "      <th>AdsPriorities6</th>\n",
       "      <th>AdsPriorities7</th>\n",
       "      <th>AIDangerous</th>\n",
       "      <th>AIInteresting</th>\n",
       "      <th>AIResponsible</th>\n",
       "      <th>AIFuture</th>\n",
       "      <th>EthicsChoice</th>\n",
       "      <th>EthicsReport</th>\n",
       "      <th>EthicsResponsible</th>\n",
       "      <th>EthicalImplications</th>\n",
       "      <th>StackOverflowRecommend</th>\n",
       "      <th>StackOverflowVisit</th>\n",
       "      <th>StackOverflowHasAccount</th>\n",
       "      <th>StackOverflowParticipate</th>\n",
       "      <th>StackOverflowJobs</th>\n",
       "      <th>StackOverflowDevStory</th>\n",
       "      <th>StackOverflowJobsRecommend</th>\n",
       "      <th>StackOverflowConsiderMember</th>\n",
       "      <th>HypotheticalTools1</th>\n",
       "      <th>HypotheticalTools2</th>\n",
       "      <th>HypotheticalTools3</th>\n",
       "      <th>HypotheticalTools4</th>\n",
       "      <th>HypotheticalTools5</th>\n",
       "      <th>WakeTime</th>\n",
       "      <th>HoursComputer</th>\n",
       "      <th>HoursOutside</th>\n",
       "      <th>SkipMeals</th>\n",
       "      <th>ErgonomicDevices</th>\n",
       "      <th>Exercise</th>\n",
       "      <th>Gender</th>\n",
       "      <th>SexualOrientation</th>\n",
       "      <th>EducationParents</th>\n",
       "      <th>RaceEthnicity</th>\n",
       "      <th>Age</th>\n",
       "      <th>Dependents</th>\n",
       "      <th>MilitaryUS</th>\n",
       "      <th>SurveyTooLong</th>\n",
       "      <th>SurveyEasy</th>\n",
       "    </tr>\n",
       "  </thead>\n",
       "  <tbody>\n",
       "    <tr>\n",
       "      <th>0</th>\n",
       "      <td>33858</td>\n",
       "      <td>No</td>\n",
       "      <td>No</td>\n",
       "      <td>United States</td>\n",
       "      <td>No</td>\n",
       "      <td>Employed full-time</td>\n",
       "      <td>Bachelor’s degree (BA, BS, B.Eng., etc.)</td>\n",
       "      <td>Computer science, computer engineering, or sof...</td>\n",
       "      <td>NaN</td>\n",
       "      <td>Back-end developer;Front-end developer;Full-st...</td>\n",
       "      <td>9-11 years</td>\n",
       "      <td>3-5 years</td>\n",
       "      <td>Neither satisfied nor dissatisfied</td>\n",
       "      <td>Slightly satisfied</td>\n",
       "      <td>Doing the same work</td>\n",
       "      <td>I’m not actively looking, but I am open to new...</td>\n",
       "      <td>More than 4 years ago</td>\n",
       "      <td>9.0</td>\n",
       "      <td>8.0</td>\n",
       "      <td>6.0</td>\n",
       "      <td>3.0</td>\n",
       "      <td>1.0</td>\n",
       "      <td>5.0</td>\n",
       "      <td>4.0</td>\n",
       "      <td>2.0</td>\n",
       "      <td>10.0</td>\n",
       "      <td>7.0</td>\n",
       "      <td>1.0</td>\n",
       "      <td>7.0</td>\n",
       "      <td>3.0</td>\n",
       "      <td>10.0</td>\n",
       "      <td>5.0</td>\n",
       "      <td>6.0</td>\n",
       "      <td>8.0</td>\n",
       "      <td>2.0</td>\n",
       "      <td>11.0</td>\n",
       "      <td>9.0</td>\n",
       "      <td>4.0</td>\n",
       "      <td>3.0</td>\n",
       "      <td>1.0</td>\n",
       "      <td>...</td>\n",
       "      <td>NaN</td>\n",
       "      <td>NaN</td>\n",
       "      <td>NaN</td>\n",
       "      <td>NaN</td>\n",
       "      <td>NaN</td>\n",
       "      <td>NaN</td>\n",
       "      <td>NaN</td>\n",
       "      <td>NaN</td>\n",
       "      <td>NaN</td>\n",
       "      <td>NaN</td>\n",
       "      <td>NaN</td>\n",
       "      <td>NaN</td>\n",
       "      <td>NaN</td>\n",
       "      <td>NaN</td>\n",
       "      <td>NaN</td>\n",
       "      <td>NaN</td>\n",
       "      <td>NaN</td>\n",
       "      <td>NaN</td>\n",
       "      <td>NaN</td>\n",
       "      <td>NaN</td>\n",
       "      <td>NaN</td>\n",
       "      <td>NaN</td>\n",
       "      <td>NaN</td>\n",
       "      <td>NaN</td>\n",
       "      <td>NaN</td>\n",
       "      <td>NaN</td>\n",
       "      <td>NaN</td>\n",
       "      <td>NaN</td>\n",
       "      <td>NaN</td>\n",
       "      <td>NaN</td>\n",
       "      <td>NaN</td>\n",
       "      <td>NaN</td>\n",
       "      <td>NaN</td>\n",
       "      <td>NaN</td>\n",
       "      <td>NaN</td>\n",
       "      <td>NaN</td>\n",
       "      <td>NaN</td>\n",
       "      <td>NaN</td>\n",
       "      <td>NaN</td>\n",
       "      <td>NaN</td>\n",
       "    </tr>\n",
       "    <tr>\n",
       "      <th>1</th>\n",
       "      <td>33859</td>\n",
       "      <td>Yes</td>\n",
       "      <td>No</td>\n",
       "      <td>United States</td>\n",
       "      <td>No</td>\n",
       "      <td>Employed full-time</td>\n",
       "      <td>Bachelor’s degree (BA, BS, B.Eng., etc.)</td>\n",
       "      <td>NaN</td>\n",
       "      <td>100 to 499 employees</td>\n",
       "      <td>Back-end developer;Database administrator;DevO...</td>\n",
       "      <td>3-5 years</td>\n",
       "      <td>3-5 years</td>\n",
       "      <td>Extremely satisfied</td>\n",
       "      <td>Extremely satisfied</td>\n",
       "      <td>Doing the same work</td>\n",
       "      <td>I’m not actively looking, but I am open to new...</td>\n",
       "      <td>Less than a year ago</td>\n",
       "      <td>10.0</td>\n",
       "      <td>4.0</td>\n",
       "      <td>9.0</td>\n",
       "      <td>1.0</td>\n",
       "      <td>2.0</td>\n",
       "      <td>8.0</td>\n",
       "      <td>7.0</td>\n",
       "      <td>3.0</td>\n",
       "      <td>6.0</td>\n",
       "      <td>5.0</td>\n",
       "      <td>1.0</td>\n",
       "      <td>10.0</td>\n",
       "      <td>2.0</td>\n",
       "      <td>8.0</td>\n",
       "      <td>11.0</td>\n",
       "      <td>4.0</td>\n",
       "      <td>7.0</td>\n",
       "      <td>6.0</td>\n",
       "      <td>5.0</td>\n",
       "      <td>9.0</td>\n",
       "      <td>3.0</td>\n",
       "      <td>2.0</td>\n",
       "      <td>1.0</td>\n",
       "      <td>...</td>\n",
       "      <td>5.0</td>\n",
       "      <td>7.0</td>\n",
       "      <td>4.0</td>\n",
       "      <td>2.0</td>\n",
       "      <td>Artificial intelligence surpassing human intel...</td>\n",
       "      <td>Increasing automation of jobs</td>\n",
       "      <td>The developers or the people creating the AI</td>\n",
       "      <td>I'm excited about the possibilities more than ...</td>\n",
       "      <td>Depends on what it is</td>\n",
       "      <td>Depends on what it is</td>\n",
       "      <td>Upper management at the company/organization</td>\n",
       "      <td>Yes</td>\n",
       "      <td>10 (Very Likely)</td>\n",
       "      <td>Multiple times per day</td>\n",
       "      <td>Yes</td>\n",
       "      <td>Multiple times per day</td>\n",
       "      <td>Yes</td>\n",
       "      <td>No, I have one but it's out of date</td>\n",
       "      <td>10 (Very Likely)</td>\n",
       "      <td>Yes</td>\n",
       "      <td>Somewhat interested</td>\n",
       "      <td>Very interested</td>\n",
       "      <td>Very interested</td>\n",
       "      <td>Extremely interested</td>\n",
       "      <td>Extremely interested</td>\n",
       "      <td>Between 5:00 - 6:00 AM</td>\n",
       "      <td>9 - 12 hours</td>\n",
       "      <td>1 - 2 hours</td>\n",
       "      <td>Never</td>\n",
       "      <td>NaN</td>\n",
       "      <td>Daily or almost every day</td>\n",
       "      <td>Male</td>\n",
       "      <td>Straight or heterosexual</td>\n",
       "      <td>Master’s degree (MA, MS, M.Eng., MBA, etc.)</td>\n",
       "      <td>White or of European descent</td>\n",
       "      <td>25 - 34 years old</td>\n",
       "      <td>Yes</td>\n",
       "      <td>No</td>\n",
       "      <td>The survey was an appropriate length</td>\n",
       "      <td>Very easy</td>\n",
       "    </tr>\n",
       "    <tr>\n",
       "      <th>2</th>\n",
       "      <td>33860</td>\n",
       "      <td>Yes</td>\n",
       "      <td>No</td>\n",
       "      <td>United States</td>\n",
       "      <td>No</td>\n",
       "      <td>Employed full-time</td>\n",
       "      <td>Bachelor’s degree (BA, BS, B.Eng., etc.)</td>\n",
       "      <td>A natural science (ex. biology, chemistry, phy...</td>\n",
       "      <td>20 to 99 employees</td>\n",
       "      <td>Front-end developer;Full-stack developer</td>\n",
       "      <td>3-5 years</td>\n",
       "      <td>0-2 years</td>\n",
       "      <td>Slightly satisfied</td>\n",
       "      <td>Slightly satisfied</td>\n",
       "      <td>Working as an engineering manager or other fun...</td>\n",
       "      <td>I am not interested in new job opportunities</td>\n",
       "      <td>Less than a year ago</td>\n",
       "      <td>4.0</td>\n",
       "      <td>8.0</td>\n",
       "      <td>10.0</td>\n",
       "      <td>6.0</td>\n",
       "      <td>3.0</td>\n",
       "      <td>1.0</td>\n",
       "      <td>9.0</td>\n",
       "      <td>7.0</td>\n",
       "      <td>2.0</td>\n",
       "      <td>5.0</td>\n",
       "      <td>1.0</td>\n",
       "      <td>4.0</td>\n",
       "      <td>2.0</td>\n",
       "      <td>6.0</td>\n",
       "      <td>10.0</td>\n",
       "      <td>3.0</td>\n",
       "      <td>5.0</td>\n",
       "      <td>8.0</td>\n",
       "      <td>9.0</td>\n",
       "      <td>7.0</td>\n",
       "      <td>11.0</td>\n",
       "      <td>NaN</td>\n",
       "      <td>NaN</td>\n",
       "      <td>...</td>\n",
       "      <td>4.0</td>\n",
       "      <td>3.0</td>\n",
       "      <td>7.0</td>\n",
       "      <td>5.0</td>\n",
       "      <td>Increasing automation of jobs</td>\n",
       "      <td>Increasing automation of jobs</td>\n",
       "      <td>The developers or the people creating the AI</td>\n",
       "      <td>I'm excited about the possibilities more than ...</td>\n",
       "      <td>No</td>\n",
       "      <td>Depends on what it is</td>\n",
       "      <td>Upper management at the company/organization</td>\n",
       "      <td>Yes</td>\n",
       "      <td>10 (Very Likely)</td>\n",
       "      <td>Multiple times per day</td>\n",
       "      <td>Yes</td>\n",
       "      <td>A few times per week</td>\n",
       "      <td>Yes</td>\n",
       "      <td>No, I have one but it's out of date</td>\n",
       "      <td>7</td>\n",
       "      <td>I'm not sure</td>\n",
       "      <td>Somewhat interested</td>\n",
       "      <td>Somewhat interested</td>\n",
       "      <td>Very interested</td>\n",
       "      <td>Very interested</td>\n",
       "      <td>Extremely interested</td>\n",
       "      <td>Between 7:01 - 8:00 AM</td>\n",
       "      <td>9 - 12 hours</td>\n",
       "      <td>30 - 59 minutes</td>\n",
       "      <td>Never</td>\n",
       "      <td>Ergonomic keyboard or mouse</td>\n",
       "      <td>I don't typically exercise</td>\n",
       "      <td>Transgender;Non-binary, genderqueer, or gender...</td>\n",
       "      <td>Bisexual or Queer</td>\n",
       "      <td>Other doctoral degree (Ph.D, Ed.D., etc.)</td>\n",
       "      <td>White or of European descent</td>\n",
       "      <td>18 - 24 years old</td>\n",
       "      <td>No</td>\n",
       "      <td>No</td>\n",
       "      <td>The survey was an appropriate length</td>\n",
       "      <td>Very easy</td>\n",
       "    </tr>\n",
       "    <tr>\n",
       "      <th>3</th>\n",
       "      <td>33861</td>\n",
       "      <td>Yes</td>\n",
       "      <td>Yes</td>\n",
       "      <td>India</td>\n",
       "      <td>No</td>\n",
       "      <td>Employed full-time</td>\n",
       "      <td>Bachelor’s degree (BA, BS, B.Eng., etc.)</td>\n",
       "      <td>Another engineering discipline (ex. civil, ele...</td>\n",
       "      <td>NaN</td>\n",
       "      <td>Back-end developer</td>\n",
       "      <td>3-5 years</td>\n",
       "      <td>0-2 years</td>\n",
       "      <td>Neither satisfied nor dissatisfied</td>\n",
       "      <td>Neither satisfied nor dissatisfied</td>\n",
       "      <td>Working in a different or more specialized tec...</td>\n",
       "      <td>I’m not actively looking, but I am open to new...</td>\n",
       "      <td>Less than a year ago</td>\n",
       "      <td>3.0</td>\n",
       "      <td>10.0</td>\n",
       "      <td>4.0</td>\n",
       "      <td>7.0</td>\n",
       "      <td>1.0</td>\n",
       "      <td>5.0</td>\n",
       "      <td>8.0</td>\n",
       "      <td>2.0</td>\n",
       "      <td>9.0</td>\n",
       "      <td>6.0</td>\n",
       "      <td>1.0</td>\n",
       "      <td>9.0</td>\n",
       "      <td>2.0</td>\n",
       "      <td>7.0</td>\n",
       "      <td>5.0</td>\n",
       "      <td>11.0</td>\n",
       "      <td>3.0</td>\n",
       "      <td>8.0</td>\n",
       "      <td>10.0</td>\n",
       "      <td>6.0</td>\n",
       "      <td>4.0</td>\n",
       "      <td>3.0</td>\n",
       "      <td>1.0</td>\n",
       "      <td>...</td>\n",
       "      <td>2.0</td>\n",
       "      <td>6.0</td>\n",
       "      <td>7.0</td>\n",
       "      <td>3.0</td>\n",
       "      <td>Evolving definitions of \"fairness\" in algorith...</td>\n",
       "      <td>Increasing automation of jobs</td>\n",
       "      <td>A governmental or other regulatory body</td>\n",
       "      <td>I'm excited about the possibilities more than ...</td>\n",
       "      <td>No</td>\n",
       "      <td>Depends on what it is</td>\n",
       "      <td>Upper management at the company/organization</td>\n",
       "      <td>Yes</td>\n",
       "      <td>8</td>\n",
       "      <td>Daily or almost daily</td>\n",
       "      <td>Yes</td>\n",
       "      <td>A few times per week</td>\n",
       "      <td>Yes</td>\n",
       "      <td>No, I have one but it's out of date</td>\n",
       "      <td>5</td>\n",
       "      <td>Yes</td>\n",
       "      <td>A little bit interested</td>\n",
       "      <td>Somewhat interested</td>\n",
       "      <td>Somewhat interested</td>\n",
       "      <td>Very interested</td>\n",
       "      <td>Extremely interested</td>\n",
       "      <td>Between 8:01 - 9:00 AM</td>\n",
       "      <td>9 - 12 hours</td>\n",
       "      <td>3 - 4 hours</td>\n",
       "      <td>Never</td>\n",
       "      <td>NaN</td>\n",
       "      <td>Daily or almost every day</td>\n",
       "      <td>Male</td>\n",
       "      <td>Straight or heterosexual</td>\n",
       "      <td>Other doctoral degree (Ph.D, Ed.D., etc.)</td>\n",
       "      <td>South Asian</td>\n",
       "      <td>18 - 24 years old</td>\n",
       "      <td>No</td>\n",
       "      <td>NaN</td>\n",
       "      <td>The survey was an appropriate length</td>\n",
       "      <td>Somewhat easy</td>\n",
       "    </tr>\n",
       "    <tr>\n",
       "      <th>4</th>\n",
       "      <td>33862</td>\n",
       "      <td>Yes</td>\n",
       "      <td>No</td>\n",
       "      <td>Norway</td>\n",
       "      <td>No</td>\n",
       "      <td>Employed full-time</td>\n",
       "      <td>Bachelor’s degree (BA, BS, B.Eng., etc.)</td>\n",
       "      <td>Computer science, computer engineering, or sof...</td>\n",
       "      <td>Fewer than 10 employees</td>\n",
       "      <td>Front-end developer;Full-stack developer;Mobil...</td>\n",
       "      <td>12-14 years</td>\n",
       "      <td>9-11 years</td>\n",
       "      <td>Moderately dissatisfied</td>\n",
       "      <td>Extremely dissatisfied</td>\n",
       "      <td>Working in a different or more specialized tec...</td>\n",
       "      <td>I am not interested in new job opportunities</td>\n",
       "      <td>Less than a year ago</td>\n",
       "      <td>6.0</td>\n",
       "      <td>9.0</td>\n",
       "      <td>4.0</td>\n",
       "      <td>5.0</td>\n",
       "      <td>3.0</td>\n",
       "      <td>2.0</td>\n",
       "      <td>1.0</td>\n",
       "      <td>8.0</td>\n",
       "      <td>10.0</td>\n",
       "      <td>7.0</td>\n",
       "      <td>1.0</td>\n",
       "      <td>3.0</td>\n",
       "      <td>8.0</td>\n",
       "      <td>2.0</td>\n",
       "      <td>11.0</td>\n",
       "      <td>7.0</td>\n",
       "      <td>10.0</td>\n",
       "      <td>4.0</td>\n",
       "      <td>6.0</td>\n",
       "      <td>5.0</td>\n",
       "      <td>9.0</td>\n",
       "      <td>NaN</td>\n",
       "      <td>NaN</td>\n",
       "      <td>...</td>\n",
       "      <td>2.0</td>\n",
       "      <td>6.0</td>\n",
       "      <td>7.0</td>\n",
       "      <td>5.0</td>\n",
       "      <td>Artificial intelligence surpassing human intel...</td>\n",
       "      <td>NaN</td>\n",
       "      <td>The developers or the people creating the AI</td>\n",
       "      <td>I don't care about it, or I haven't thought ab...</td>\n",
       "      <td>No</td>\n",
       "      <td>Yes, but only within the company</td>\n",
       "      <td>Upper management at the company/organization</td>\n",
       "      <td>Yes</td>\n",
       "      <td>8</td>\n",
       "      <td>A few times per week</td>\n",
       "      <td>Yes</td>\n",
       "      <td>Less than once per month or monthly</td>\n",
       "      <td>No, I knew that Stack Overflow had a jobs boar...</td>\n",
       "      <td>No, and I don't know what that is</td>\n",
       "      <td>NaN</td>\n",
       "      <td>Yes</td>\n",
       "      <td>Not at all interested</td>\n",
       "      <td>Not at all interested</td>\n",
       "      <td>A little bit interested</td>\n",
       "      <td>Not at all interested</td>\n",
       "      <td>Not at all interested</td>\n",
       "      <td>Between 7:01 - 8:00 AM</td>\n",
       "      <td>5 - 8 hours</td>\n",
       "      <td>1 - 2 hours</td>\n",
       "      <td>Never</td>\n",
       "      <td>Standing desk;Wrist/hand supports or braces</td>\n",
       "      <td>1 - 2 times per week</td>\n",
       "      <td>Male</td>\n",
       "      <td>Straight or heterosexual</td>\n",
       "      <td>Master’s degree (MA, MS, M.Eng., MBA, etc.)</td>\n",
       "      <td>White or of European descent</td>\n",
       "      <td>35 - 44 years old</td>\n",
       "      <td>Yes</td>\n",
       "      <td>NaN</td>\n",
       "      <td>The survey was too long</td>\n",
       "      <td>Somewhat easy</td>\n",
       "    </tr>\n",
       "  </tbody>\n",
       "</table>\n",
       "<p>5 rows × 127 columns</p>\n",
       "</div>"
      ],
      "text/plain": [
       "      No Hobby  ...                         SurveyTooLong     SurveyEasy\n",
       "0  33858    No  ...                                   NaN            NaN\n",
       "1  33859   Yes  ...  The survey was an appropriate length      Very easy\n",
       "2  33860   Yes  ...  The survey was an appropriate length      Very easy\n",
       "3  33861   Yes  ...  The survey was an appropriate length  Somewhat easy\n",
       "4  33862   Yes  ...               The survey was too long  Somewhat easy\n",
       "\n",
       "[5 rows x 127 columns]"
      ]
     },
     "execution_count": 5,
     "metadata": {
      "tags": []
     },
     "output_type": "execute_result"
    }
   ],
   "source": [
    "#View the test data\n",
    "test_data = pd.read_csv('/content/gdrive/My Drive/Python/Final project/Predict Engineer salary/data_all/test.csv')\n",
    "print(test_data.shape)\n",
    "test_data.head(5)"
   ]
  },
  {
   "cell_type": "code",
   "execution_count": 6,
   "metadata": {
    "colab": {
     "base_uri": "https://localhost:8080/",
     "height": 85
    },
    "colab_type": "code",
    "executionInfo": {
     "elapsed": 759,
     "status": "ok",
     "timestamp": 1598858473078,
     "user": {
      "displayName": "Ho Van Nghiem",
      "photoUrl": "",
      "userId": "17867822427606298916"
     },
     "user_tz": -420
    },
    "id": "ZG_oTc-gGKXt",
    "outputId": "565dea95-4729-4b88-b5d2-9467eb095c71"
   },
   "outputs": [
    {
     "data": {
      "text/plain": [
       "object     86\n",
       "float64    41\n",
       "int64       1\n",
       "dtype: int64"
      ]
     },
     "execution_count": 6,
     "metadata": {
      "tags": []
     },
     "output_type": "execute_result"
    }
   ],
   "source": [
    "# Number of each type of column\n",
    "train_data.dtypes.value_counts()"
   ]
  },
  {
   "cell_type": "code",
   "execution_count": 7,
   "metadata": {
    "colab": {
     "base_uri": "https://localhost:8080/",
     "height": 238
    },
    "colab_type": "code",
    "executionInfo": {
     "elapsed": 761,
     "status": "ok",
     "timestamp": 1598858475204,
     "user": {
      "displayName": "Ho Van Nghiem",
      "photoUrl": "",
      "userId": "17867822427606298916"
     },
     "user_tz": -420
    },
    "id": "LXqEa2CSGKXv",
    "outputId": "167c889b-d1b0-4fa6-b73e-84670519108b"
   },
   "outputs": [
    {
     "data": {
      "text/plain": [
       "Index(['No', 'AssessJob1', 'AssessJob2', 'AssessJob3', 'AssessJob4',\n",
       "       'AssessJob5', 'AssessJob6', 'AssessJob7', 'AssessJob8', 'AssessJob9',\n",
       "       'AssessJob10', 'AssessBenefits1', 'AssessBenefits2', 'AssessBenefits3',\n",
       "       'AssessBenefits4', 'AssessBenefits5', 'AssessBenefits6',\n",
       "       'AssessBenefits7', 'AssessBenefits8', 'AssessBenefits9',\n",
       "       'AssessBenefits10', 'AssessBenefits11', 'JobContactPriorities1',\n",
       "       'JobContactPriorities2', 'JobContactPriorities3',\n",
       "       'JobContactPriorities4', 'JobContactPriorities5', 'JobEmailPriorities1',\n",
       "       'JobEmailPriorities2', 'JobEmailPriorities3', 'JobEmailPriorities4',\n",
       "       'JobEmailPriorities5', 'JobEmailPriorities6', 'JobEmailPriorities7',\n",
       "       'Salary', 'AdsPriorities1', 'AdsPriorities2', 'AdsPriorities3',\n",
       "       'AdsPriorities4', 'AdsPriorities5', 'AdsPriorities6', 'AdsPriorities7'],\n",
       "      dtype='object')"
      ]
     },
     "execution_count": 7,
     "metadata": {
      "tags": []
     },
     "output_type": "execute_result"
    }
   ],
   "source": [
    "#42 numeric features\n",
    "train_data.select_dtypes(include=['int64','float64']).columns"
   ]
  },
  {
   "cell_type": "code",
   "execution_count": 8,
   "metadata": {
    "colab": {
     "base_uri": "https://localhost:8080/",
     "height": 476
    },
    "colab_type": "code",
    "executionInfo": {
     "elapsed": 948,
     "status": "ok",
     "timestamp": 1598858478041,
     "user": {
      "displayName": "Ho Van Nghiem",
      "photoUrl": "",
      "userId": "17867822427606298916"
     },
     "user_tz": -420
    },
    "id": "bCRjnoUzGKXx",
    "outputId": "1cdd4028-59cf-45f0-bfe6-1dc9ce258cf1"
   },
   "outputs": [
    {
     "data": {
      "text/plain": [
       "Index(['Hobby', 'OpenSource', 'Country', 'Student', 'Employment',\n",
       "       'FormalEducation', 'UndergradMajor', 'CompanySize', 'DevType',\n",
       "       'YearsCoding', 'YearsCodingProf', 'JobSatisfaction',\n",
       "       'CareerSatisfaction', 'HopeFiveYears', 'JobSearchStatus', 'LastNewJob',\n",
       "       'UpdateCV', 'Currency', 'SalaryType', 'CurrencySymbol',\n",
       "       'CommunicationTools', 'TimeFullyProductive', 'EducationTypes',\n",
       "       'SelfTaughtTypes', 'TimeAfterBootcamp', 'HackathonReasons',\n",
       "       'AgreeDisagree1', 'AgreeDisagree2', 'AgreeDisagree3',\n",
       "       'LanguageWorkedWith', 'LanguageDesireNextYear', 'DatabaseWorkedWith',\n",
       "       'DatabaseDesireNextYear', 'PlatformWorkedWith',\n",
       "       'PlatformDesireNextYear', 'FrameworkWorkedWith',\n",
       "       'FrameworkDesireNextYear', 'IDE', 'OperatingSystem', 'NumberMonitors',\n",
       "       'Methodology', 'VersionControl', 'CheckInCode', 'AdBlocker',\n",
       "       'AdBlockerDisable', 'AdBlockerReasons', 'AdsAgreeDisagree1',\n",
       "       'AdsAgreeDisagree2', 'AdsAgreeDisagree3', 'AdsActions', 'AIDangerous',\n",
       "       'AIInteresting', 'AIResponsible', 'AIFuture', 'EthicsChoice',\n",
       "       'EthicsReport', 'EthicsResponsible', 'EthicalImplications',\n",
       "       'StackOverflowRecommend', 'StackOverflowVisit',\n",
       "       'StackOverflowHasAccount', 'StackOverflowParticipate',\n",
       "       'StackOverflowJobs', 'StackOverflowDevStory',\n",
       "       'StackOverflowJobsRecommend', 'StackOverflowConsiderMember',\n",
       "       'HypotheticalTools1', 'HypotheticalTools2', 'HypotheticalTools3',\n",
       "       'HypotheticalTools4', 'HypotheticalTools5', 'WakeTime', 'HoursComputer',\n",
       "       'HoursOutside', 'SkipMeals', 'ErgonomicDevices', 'Exercise', 'Gender',\n",
       "       'SexualOrientation', 'EducationParents', 'RaceEthnicity', 'Age',\n",
       "       'Dependents', 'MilitaryUS', 'SurveyTooLong', 'SurveyEasy'],\n",
       "      dtype='object')"
      ]
     },
     "execution_count": 8,
     "metadata": {
      "tags": []
     },
     "output_type": "execute_result"
    }
   ],
   "source": [
    "#86 categorical features\n",
    "train_data.select_dtypes(include=['object']).columns"
   ]
  },
  {
   "cell_type": "code",
   "execution_count": 9,
   "metadata": {
    "colab": {},
    "colab_type": "code",
    "executionInfo": {
     "elapsed": 764,
     "status": "ok",
     "timestamp": 1598858479839,
     "user": {
      "displayName": "Ho Van Nghiem",
      "photoUrl": "",
      "userId": "17867822427606298916"
     },
     "user_tz": -420
    },
    "id": "05rxdKjMGKXz"
   },
   "outputs": [],
   "source": [
    "# we drop No feature\n",
    "train_data = train_data.drop(labels = [\"No\"],axis = 1)\n",
    "test_data = test_data.drop(labels = [\"No\"],axis = 1)"
   ]
  },
  {
   "cell_type": "markdown",
   "metadata": {
    "colab_type": "text",
    "id": "lqQ6LD7FGKX1"
   },
   "source": [
    "## 3. Salaries analysis"
   ]
  },
  {
   "cell_type": "code",
   "execution_count": 10,
   "metadata": {
    "colab": {
     "base_uri": "https://localhost:8080/",
     "height": 170
    },
    "colab_type": "code",
    "executionInfo": {
     "elapsed": 1428,
     "status": "ok",
     "timestamp": 1598858482719,
     "user": {
      "displayName": "Ho Van Nghiem",
      "photoUrl": "",
      "userId": "17867822427606298916"
     },
     "user_tz": -420
    },
    "id": "h7Myrt7XGKX2",
    "outputId": "864ca991-a7b3-49f9-cc22-ab5a586a0635"
   },
   "outputs": [
    {
     "data": {
      "text/plain": [
       "count     33857.000000\n",
       "mean      58960.822459\n",
       "std       44194.201640\n",
       "min           0.000000\n",
       "25%       22452.000000\n",
       "50%       52089.000000\n",
       "75%       85000.000000\n",
       "max      280000.000000\n",
       "Name: Salary, dtype: float64"
      ]
     },
     "execution_count": 10,
     "metadata": {
      "tags": []
     },
     "output_type": "execute_result"
    }
   ],
   "source": [
    "train_data['Salary'].describe()"
   ]
  },
  {
   "cell_type": "code",
   "execution_count": 11,
   "metadata": {
    "colab": {
     "base_uri": "https://localhost:8080/",
     "height": 296
    },
    "colab_type": "code",
    "executionInfo": {
     "elapsed": 1495,
     "status": "ok",
     "timestamp": 1598858485852,
     "user": {
      "displayName": "Ho Van Nghiem",
      "photoUrl": "",
      "userId": "17867822427606298916"
     },
     "user_tz": -420
    },
    "id": "zXSI4KrUGKX4",
    "outputId": "bf4362cf-cc0a-4e69-b88f-c5138181a750"
   },
   "outputs": [
    {
     "data": {
      "image/png": "[encoded data removed]",
      "text/plain": [
       "<Figure size 432x288 with 1 Axes>"
      ]
     },
     "metadata": {
      "needs_background": "light",
      "tags": []
     },
     "output_type": "display_data"
    }
   ],
   "source": [
    "g = sns.distplot(train_data['Salary'],color=\"gray\")\n",
    "g = g.legend(['Skewness : {:.2f}'.format(train_data['Salary'].skew())],loc='best')"
   ]
  },
  {
   "cell_type": "code",
   "execution_count": 12,
   "metadata": {
    "colab": {
     "base_uri": "https://localhost:8080/",
     "height": 377
    },
    "colab_type": "code",
    "executionInfo": {
     "elapsed": 2113,
     "status": "ok",
     "timestamp": 1598858490298,
     "user": {
      "displayName": "Ho Van Nghiem",
      "photoUrl": "",
      "userId": "17867822427606298916"
     },
     "user_tz": -420
    },
    "id": "7znDrSC8GKX6",
    "outputId": "51315d15-4f88-447b-d939-95ef79adf3e5"
   },
   "outputs": [
    {
     "data": {
      "image/png": "[encoded data removed]",
      "text/plain": [
       "<Figure size 432x288 with 2 Axes>"
      ]
     },
     "metadata": {
      "needs_background": "light",
      "tags": []
     },
     "output_type": "display_data"
    }
   ],
   "source": [
    "#Explore correlation\n",
    "corrmat = train_data.corr()\n",
    "g = sns.heatmap(train_data.corr())"
   ]
  },
  {
   "cell_type": "code",
   "execution_count": 13,
   "metadata": {
    "colab": {
     "base_uri": "https://localhost:8080/",
     "height": 378
    },
    "colab_type": "code",
    "executionInfo": {
     "elapsed": 1932,
     "status": "ok",
     "timestamp": 1598858492139,
     "user": {
      "displayName": "Ho Van Nghiem",
      "photoUrl": "",
      "userId": "17867822427606298916"
     },
     "user_tz": -420
    },
    "id": "YXYgaLuUGKX7",
    "outputId": "000ba494-7822-41ad-fee9-c7d3f58330df"
   },
   "outputs": [
    {
     "data": {
      "image/png": "[encoded data removed]",
      "text/plain": [
       "<Figure size 432x288 with 2 Axes>"
      ]
     },
     "metadata": {
      "needs_background": "light",
      "tags": []
     },
     "output_type": "display_data"
    }
   ],
   "source": [
    "# most correlated features\n",
    "top_corr_features = corrmat.index[abs(corrmat['Salary'])>0.2]\n",
    "g = sns.heatmap(train_data[top_corr_features].corr(),annot=True,cmap=\"RdYlGn\")"
   ]
  },
  {
   "cell_type": "markdown",
   "metadata": {
    "colab_type": "text",
    "id": "y7tFmbtnGKX9"
   },
   "source": [
    "Let's explore the relationship between the top correlated feature with Salary."
   ]
  },
  {
   "cell_type": "code",
   "execution_count": 14,
   "metadata": {
    "colab": {
     "base_uri": "https://localhost:8080/",
     "height": 369
    },
    "colab_type": "code",
    "executionInfo": {
     "elapsed": 1215,
     "status": "ok",
     "timestamp": 1598858494314,
     "user": {
      "displayName": "Ho Van Nghiem",
      "photoUrl": "",
      "userId": "17867822427606298916"
     },
     "user_tz": -420
    },
    "id": "q9Lcat2YGKX9",
    "outputId": "7e1f8b11-cf2b-4376-b5c3-e43adf023a17"
   },
   "outputs": [
    {
     "data": {
      "image/png": "[encoded data removed]",
      "text/plain": [
       "<Figure size 900x360 with 1 Axes>"
      ]
     },
     "metadata": {
      "needs_background": "light",
      "tags": []
     },
     "output_type": "display_data"
    }
   ],
   "source": [
    "g = sns.factorplot(x='JobContactPriorities1',y=\"Salary\",data=train_data,kind='box',aspect=2.5)"
   ]
  },
  {
   "cell_type": "code",
   "execution_count": 15,
   "metadata": {
    "colab": {
     "base_uri": "https://localhost:8080/",
     "height": 71
    },
    "colab_type": "code",
    "executionInfo": {
     "elapsed": 734,
     "status": "ok",
     "timestamp": 1598858496300,
     "user": {
      "displayName": "Ho Van Nghiem",
      "photoUrl": "",
      "userId": "17867822427606298916"
     },
     "user_tz": -420
    },
    "id": "xG5vceq7GKX_",
    "outputId": "7452ba03-acbb-43db-b79b-7890189cef7b"
   },
   "outputs": [
    {
     "data": {
      "application/vnd.google.colaboratory.intrinsic+json": {
       "type": "string"
      },
      "text/plain": [
       "'Imagine that a company wanted to contact you about a job that is a good fit for you. Please rank your preference in how you are contacted (by dragging the choices up and down), where 1 is the most preferred and 5 is the least preferred. Telephone call'"
      ]
     },
     "execution_count": 15,
     "metadata": {
      "tags": []
     },
     "output_type": "execute_result"
    }
   ],
   "source": [
    "# what's AssessBenefits6\n",
    "idx=pd.Index(question_data['Column']).get_loc('JobContactPriorities1')\n",
    "question_data['QuestionText'][idx]"
   ]
  },
  {
   "cell_type": "code",
   "execution_count": 16,
   "metadata": {
    "colab": {},
    "colab_type": "code",
    "executionInfo": {
     "elapsed": 755,
     "status": "ok",
     "timestamp": 1598858498713,
     "user": {
      "displayName": "Ho Van Nghiem",
      "photoUrl": "",
      "userId": "17867822427606298916"
     },
     "user_tz": -420
    },
    "id": "1YfThcuiGKYB"
   },
   "outputs": [],
   "source": [
    "#function to plot multiple chart\n",
    "def multiplot(data,features,plottype,nrows,ncols,figsize,y=None,colorize=False):\n",
    "    \"\"\" This function draw a multi plot for 3 types of plots [\"regplot\",\"distplot\",\"coutplot\"]\"\"\"\n",
    "    n = 0\n",
    "    plt.figure(1)\n",
    "    fig, axes = plt.subplots(nrows, ncols, figsize=figsize)\n",
    "    \n",
    "    if colorize:\n",
    "        colors = sns.color_palette(n_colors=(nrows*ncols))\n",
    "    else :\n",
    "        colors = [None]*(nrows*ncols)\n",
    "        \n",
    "    for row in range(ncols):\n",
    "        for col in range(nrows):\n",
    "            \n",
    "            if plottype == 'regplot':\n",
    "                if y == None:\n",
    "                    raise ValueError('y value is needed with regplot type')\n",
    "                \n",
    "                sns.regplot(data = data, x = features[n], y = y ,ax=axes[row,col], color = colors[n])\n",
    "                correlation = np.corrcoef(data[features[n]],data[y])[0,1]\n",
    "                axes[row,col].set_title(\"Correlation {:.2f}\".format(correlation))\n",
    "            \n",
    "            elif plottype == 'distplot':\n",
    "                sns.distplot(a = data[features[n]],ax = axes[row,col],color=colors[n])\n",
    "                skewness = data[features[n]].skew()\n",
    "                axes[row,col].legend([\"Skew : {:.2f}\".format(skewness)])\n",
    "            \n",
    "            elif plottype in ['countplot']:\n",
    "                g = sns.countplot(x = data[features[n]], y = y, ax = axes[row,col],color = colors[n])\n",
    "                g = plt.setp(g.get_xticklabels(), rotation=45)\n",
    "                \n",
    "            n += 1\n",
    "    plt.tight_layout()\n",
    "    plt.show()\n",
    "    plt.gcf().clear()"
   ]
  },
  {
   "cell_type": "code",
   "execution_count": 17,
   "metadata": {
    "colab": {
     "base_uri": "https://localhost:8080/",
     "height": 475
    },
    "colab_type": "code",
    "executionInfo": {
     "elapsed": 11069,
     "status": "ok",
     "timestamp": 1598858512247,
     "user": {
      "displayName": "Ho Van Nghiem",
      "photoUrl": "",
      "userId": "17867822427606298916"
     },
     "user_tz": -420
    },
    "id": "6LkFaVkZGKYC",
    "outputId": "df0d433f-1943-45ce-950e-426ae694013c"
   },
   "outputs": [
    {
     "data": {
      "text/plain": [
       "<Figure size 432x288 with 0 Axes>"
      ]
     },
     "metadata": {
      "tags": []
     },
     "output_type": "display_data"
    },
    {
     "data": {
      "image/png": "[encoded data removed]",
      "text/plain": [
       "<Figure size 720x432 with 4 Axes>"
      ]
     },
     "metadata": {
      "needs_background": "light",
      "tags": []
     },
     "output_type": "display_data"
    },
    {
     "data": {
      "text/plain": [
       "<Figure size 432x288 with 0 Axes>"
      ]
     },
     "metadata": {
      "tags": []
     },
     "output_type": "display_data"
    }
   ],
   "source": [
    "feats = [\"AssessBenefits6\",'AssessBenefits2','AssessJob5','JobContactPriorities4']\n",
    "\n",
    "multiplot(data = train_data,features = feats,plottype = \"regplot\",nrows = 2, ncols = 2,\n",
    "          figsize = (10,6),y = \"Salary\", colorize = True)"
   ]
  },
  {
   "cell_type": "markdown",
   "metadata": {
    "colab_type": "text",
    "id": "RKdY4w_sGKYE"
   },
   "source": [
    "It seems to be no correlation, these features look like an ordinal variable, not continuous"
   ]
  },
  {
   "cell_type": "markdown",
   "metadata": {
    "colab_type": "text",
    "id": "voyPdY0KGKYF"
   },
   "source": [
    "## 4. Imputing missing values"
   ]
  },
  {
   "cell_type": "code",
   "execution_count": 18,
   "metadata": {
    "colab": {},
    "colab_type": "code",
    "executionInfo": {
     "elapsed": 730,
     "status": "ok",
     "timestamp": 1598858533169,
     "user": {
      "displayName": "Ho Van Nghiem",
      "photoUrl": "",
      "userId": "17867822427606298916"
     },
     "user_tz": -420
    },
    "id": "_05FsbeBGKYF"
   },
   "outputs": [],
   "source": [
    "## Join train and test datasets in order to avoid obtain the same number of feature during categorical conversion\n",
    "train_len = len(train_data)\n",
    "target = train_data['Salary']\n",
    "train_data=train_data.drop('Salary',axis=1)\n",
    "dataset =  pd.concat(objs=[train_data, test_data], axis=0).reset_index(drop=True)"
   ]
  },
  {
   "cell_type": "code",
   "execution_count": 20,
   "metadata": {
    "colab": {
     "base_uri": "https://localhost:8080/",
     "height": 34
    },
    "colab_type": "code",
    "executionInfo": {
     "elapsed": 668,
     "status": "ok",
     "timestamp": 1598858541335,
     "user": {
      "displayName": "Ho Van Nghiem",
      "photoUrl": "",
      "userId": "17867822427606298916"
     },
     "user_tz": -420
    },
    "id": "gUNGfuYQGKYH",
    "outputId": "d812e19d-3b3e-4f51-857a-f8063e252f35"
   },
   "outputs": [
    {
     "data": {
      "text/plain": [
       "(45116, 126)"
      ]
     },
     "execution_count": 20,
     "metadata": {
      "tags": []
     },
     "output_type": "execute_result"
    }
   ],
   "source": [
    "dataset.shape"
   ]
  },
  {
   "cell_type": "code",
   "execution_count": 21,
   "metadata": {
    "colab": {},
    "colab_type": "code",
    "executionInfo": {
     "elapsed": 745,
     "status": "ok",
     "timestamp": 1598858542959,
     "user": {
      "displayName": "Ho Van Nghiem",
      "photoUrl": "",
      "userId": "17867822427606298916"
     },
     "user_tz": -420
    },
    "id": "2FuvxxcRGKYJ"
   },
   "outputs": [],
   "source": [
    "# Function to calculate missing values by column# Funct \n",
    "def missing_values_table(df):\n",
    "        # Total missing values\n",
    "        mis_val = df.isnull().sum()\n",
    "        \n",
    "        # Percentage of missing values\n",
    "        mis_val_percent = 100 * df.isnull().sum() / len(df)\n",
    "        \n",
    "        # Make a table with the results\n",
    "        mis_val_table = pd.concat([mis_val, mis_val_percent], axis=1)\n",
    "        \n",
    "        # Rename the columns\n",
    "        mis_val_table_ren_columns = mis_val_table.rename(\n",
    "        columns = {0 : 'Missing Values', 1 : '% of Total Values'})\n",
    "        \n",
    "        # Sort the table by percentage of missing descending\n",
    "        mis_val_table_ren_columns = mis_val_table_ren_columns[\n",
    "            mis_val_table_ren_columns.iloc[:,1] != 0].sort_values(\n",
    "        '% of Total Values', ascending=False).round(1)\n",
    "        \n",
    "        # Print some summary information\n",
    "        print (\"Your selected dataframe has \" + str(df.shape[1]) + \" columns.\\n\"      \n",
    "            \"There are \" + str(mis_val_table_ren_columns.shape[0]) +\n",
    "              \" columns that have missing values.\")\n",
    "        \n",
    "        # Return the dataframe with missing information\n",
    "        return mis_val_table_ren_columns"
   ]
  },
  {
   "cell_type": "code",
   "execution_count": 22,
   "metadata": {
    "colab": {
     "base_uri": "https://localhost:8080/",
     "height": 393
    },
    "colab_type": "code",
    "executionInfo": {
     "elapsed": 877,
     "status": "ok",
     "timestamp": 1598858545159,
     "user": {
      "displayName": "Ho Van Nghiem",
      "photoUrl": "",
      "userId": "17867822427606298916"
     },
     "user_tz": -420
    },
    "id": "vYdCtdJqGKYK",
    "outputId": "8c2f31c1-48ac-4245-882f-37b9900937f6"
   },
   "outputs": [
    {
     "name": "stdout",
     "output_type": "stream",
     "text": [
      "Your selected dataframe has 126 columns.\n",
      "There are 122 columns that have missing values.\n"
     ]
    },
    {
     "data": {
      "text/html": [
       "<div>\n",
       "<style scoped>\n",
       "    .dataframe tbody tr th:only-of-type {\n",
       "        vertical-align: middle;\n",
       "    }\n",
       "\n",
       "    .dataframe tbody tr th {\n",
       "        vertical-align: top;\n",
       "    }\n",
       "\n",
       "    .dataframe thead th {\n",
       "        text-align: right;\n",
       "    }\n",
       "</style>\n",
       "<table border=\"1\" class=\"dataframe\">\n",
       "  <thead>\n",
       "    <tr style=\"text-align: right;\">\n",
       "      <th></th>\n",
       "      <th>Missing Values</th>\n",
       "      <th>% of Total Values</th>\n",
       "    </tr>\n",
       "  </thead>\n",
       "  <tbody>\n",
       "    <tr>\n",
       "      <th>TimeAfterBootcamp</th>\n",
       "      <td>40858</td>\n",
       "      <td>90.6</td>\n",
       "    </tr>\n",
       "    <tr>\n",
       "      <th>MilitaryUS</th>\n",
       "      <td>33409</td>\n",
       "      <td>74.1</td>\n",
       "    </tr>\n",
       "    <tr>\n",
       "      <th>HackathonReasons</th>\n",
       "      <td>27957</td>\n",
       "      <td>62.0</td>\n",
       "    </tr>\n",
       "    <tr>\n",
       "      <th>ErgonomicDevices</th>\n",
       "      <td>24809</td>\n",
       "      <td>55.0</td>\n",
       "    </tr>\n",
       "    <tr>\n",
       "      <th>AdBlockerReasons</th>\n",
       "      <td>21867</td>\n",
       "      <td>48.5</td>\n",
       "    </tr>\n",
       "    <tr>\n",
       "      <th>StackOverflowJobsRecommend</th>\n",
       "      <td>20363</td>\n",
       "      <td>45.1</td>\n",
       "    </tr>\n",
       "    <tr>\n",
       "      <th>JobEmailPriorities5</th>\n",
       "      <td>14445</td>\n",
       "      <td>32.0</td>\n",
       "    </tr>\n",
       "    <tr>\n",
       "      <th>JobEmailPriorities7</th>\n",
       "      <td>14445</td>\n",
       "      <td>32.0</td>\n",
       "    </tr>\n",
       "    <tr>\n",
       "      <th>JobEmailPriorities6</th>\n",
       "      <td>14445</td>\n",
       "      <td>32.0</td>\n",
       "    </tr>\n",
       "    <tr>\n",
       "      <th>JobEmailPriorities4</th>\n",
       "      <td>14445</td>\n",
       "      <td>32.0</td>\n",
       "    </tr>\n",
       "  </tbody>\n",
       "</table>\n",
       "</div>"
      ],
      "text/plain": [
       "                            Missing Values  % of Total Values\n",
       "TimeAfterBootcamp                    40858               90.6\n",
       "MilitaryUS                           33409               74.1\n",
       "HackathonReasons                     27957               62.0\n",
       "ErgonomicDevices                     24809               55.0\n",
       "AdBlockerReasons                     21867               48.5\n",
       "StackOverflowJobsRecommend           20363               45.1\n",
       "JobEmailPriorities5                  14445               32.0\n",
       "JobEmailPriorities7                  14445               32.0\n",
       "JobEmailPriorities6                  14445               32.0\n",
       "JobEmailPriorities4                  14445               32.0"
      ]
     },
     "execution_count": 22,
     "metadata": {
      "tags": []
     },
     "output_type": "execute_result"
    }
   ],
   "source": [
    "missing_values = missing_values_table(dataset)\n",
    "missing_values.head(10)"
   ]
  },
  {
   "cell_type": "code",
   "execution_count": 23,
   "metadata": {
    "colab": {},
    "colab_type": "code",
    "executionInfo": {
     "elapsed": 737,
     "status": "ok",
     "timestamp": 1598858547047,
     "user": {
      "displayName": "Ho Van Nghiem",
      "photoUrl": "",
      "userId": "17867822427606298916"
     },
     "user_tz": -420
    },
    "id": "1p-47ItdGKYL"
   },
   "outputs": [],
   "source": [
    "#drop the column has ~90 percent missing\n",
    "dataset = dataset.drop(labels = [\"TimeAfterBootcamp\"],axis = 1)"
   ]
  },
  {
   "cell_type": "markdown",
   "metadata": {
    "colab_type": "text",
    "id": "kQA94w8zGKYN"
   },
   "source": [
    "### 4.1 Fill missing for numeric columns"
   ]
  },
  {
   "cell_type": "code",
   "execution_count": 24,
   "metadata": {
    "colab": {},
    "colab_type": "code",
    "executionInfo": {
     "elapsed": 1287,
     "status": "ok",
     "timestamp": 1598858572652,
     "user": {
      "displayName": "Ho Van Nghiem",
      "photoUrl": "",
      "userId": "17867822427606298916"
     },
     "user_tz": -420
    },
    "id": "m2aQxlPEGKYN"
   },
   "outputs": [],
   "source": [
    "numeric_columns=dataset.select_dtypes(include=['int64','float64']).columns"
   ]
  },
  {
   "cell_type": "code",
   "execution_count": 25,
   "metadata": {
    "colab": {
     "base_uri": "https://localhost:8080/",
     "height": 258
    },
    "colab_type": "code",
    "executionInfo": {
     "elapsed": 1279,
     "status": "ok",
     "timestamp": 1598858572653,
     "user": {
      "displayName": "Ho Van Nghiem",
      "photoUrl": "",
      "userId": "17867822427606298916"
     },
     "user_tz": -420
    },
    "id": "EsBBsqAoGKYP",
    "outputId": "c43d0019-6dae-444f-8c30-189f49360478"
   },
   "outputs": [
    {
     "data": {
      "text/plain": [
       "Index(['AssessJob1', 'AssessJob2', 'AssessJob3', 'AssessJob4', 'AssessJob5',\n",
       "       'AssessJob6', 'AssessJob7', 'AssessJob8', 'AssessJob9', 'AssessJob10',\n",
       "       'AssessBenefits1', 'AssessBenefits2', 'AssessBenefits3',\n",
       "       'AssessBenefits4', 'AssessBenefits5', 'AssessBenefits6',\n",
       "       'AssessBenefits7', 'AssessBenefits8', 'AssessBenefits9',\n",
       "       'AssessBenefits10', 'AssessBenefits11', 'JobContactPriorities1',\n",
       "       'JobContactPriorities2', 'JobContactPriorities3',\n",
       "       'JobContactPriorities4', 'JobContactPriorities5', 'JobEmailPriorities1',\n",
       "       'JobEmailPriorities2', 'JobEmailPriorities3', 'JobEmailPriorities4',\n",
       "       'JobEmailPriorities5', 'JobEmailPriorities6', 'JobEmailPriorities7',\n",
       "       'AdsPriorities1', 'AdsPriorities2', 'AdsPriorities3', 'AdsPriorities4',\n",
       "       'AdsPriorities5', 'AdsPriorities6', 'AdsPriorities7'],\n",
       "      dtype='object')"
      ]
     },
     "execution_count": 25,
     "metadata": {
      "tags": []
     },
     "output_type": "execute_result"
    }
   ],
   "source": [
    "missing_features_numeric = numeric_columns[dataset[numeric_columns].isnull().any()]\n",
    "missing_features_numeric"
   ]
  },
  {
   "cell_type": "code",
   "execution_count": 26,
   "metadata": {
    "colab": {
     "base_uri": "https://localhost:8080/",
     "height": 88
    },
    "colab_type": "code",
    "executionInfo": {
     "elapsed": 2801,
     "status": "ok",
     "timestamp": 1598858574179,
     "user": {
      "displayName": "Ho Van Nghiem",
      "photoUrl": "",
      "userId": "17867822427606298916"
     },
     "user_tz": -420
    },
    "id": "VVxwJ9IFGKYQ",
    "outputId": "b94a44bc-7e07-4f17-9304-800a20bb44e2"
   },
   "outputs": [
    {
     "data": {
      "text/plain": [
       "<Figure size 432x288 with 0 Axes>"
      ]
     },
     "metadata": {
      "tags": []
     },
     "output_type": "display_data"
    },
    {
     "data": {
      "image/png": "[encoded data removed]",
      "text/plain": [
       "<Figure size 720x432 with 4 Axes>"
      ]
     },
     "metadata": {
      "needs_background": "light",
      "tags": []
     },
     "output_type": "display_data"
    },
    {
     "data": {
      "text/plain": [
       "<Figure size 432x288 with 0 Axes>"
      ]
     },
     "metadata": {
      "tags": []
     },
     "output_type": "display_data"
    }
   ],
   "source": [
    "numeric_feats = [\"AdsPriorities1\",'AssessBenefits1','AssessJob1','JobContactPriorities1']\n",
    "\n",
    "multiplot(data = dataset,features = numeric_feats,plottype = \"countplot\",nrows = 2, ncols = 2,\n",
    "          figsize = (10,6), colorize = True)"
   ]
  },
  {
   "cell_type": "markdown",
   "metadata": {
    "colab_type": "text",
    "id": "lWxuWqZ8GKYR"
   },
   "source": [
    "These numeric columns are an ordinal variable, so we fill missing by most frequent values"
   ]
  },
  {
   "cell_type": "code",
   "execution_count": 27,
   "metadata": {
    "colab": {},
    "colab_type": "code",
    "executionInfo": {
     "elapsed": 2799,
     "status": "ok",
     "timestamp": 1598858574179,
     "user": {
      "displayName": "Ho Van Nghiem",
      "photoUrl": "",
      "userId": "17867822427606298916"
     },
     "user_tz": -420
    },
    "id": "AxURdcrNGKYS"
   },
   "outputs": [],
   "source": [
    "imputer = SimpleImputer(missing_values=np.nan, strategy='most_frequent')\n",
    "numeric_arr = imputer.fit_transform(dataset[missing_features_numeric])"
   ]
  },
  {
   "cell_type": "code",
   "execution_count": 28,
   "metadata": {
    "colab": {},
    "colab_type": "code",
    "executionInfo": {
     "elapsed": 2798,
     "status": "ok",
     "timestamp": 1598858574180,
     "user": {
      "displayName": "Ho Van Nghiem",
      "photoUrl": "",
      "userId": "17867822427606298916"
     },
     "user_tz": -420
    },
    "id": "Xo1IaO9-GKYT"
   },
   "outputs": [],
   "source": [
    "for i,col in enumerate(missing_features_numeric):\n",
    "    dataset[col]=numeric_arr[:,i]"
   ]
  },
  {
   "cell_type": "code",
   "execution_count": 29,
   "metadata": {
    "colab": {
     "base_uri": "https://localhost:8080/",
     "height": 88
    },
    "colab_type": "code",
    "executionInfo": {
     "elapsed": 3452,
     "status": "ok",
     "timestamp": 1598858574837,
     "user": {
      "displayName": "Ho Van Nghiem",
      "photoUrl": "",
      "userId": "17867822427606298916"
     },
     "user_tz": -420
    },
    "id": "iMK4VID9GKYU",
    "outputId": "0047ec3b-c824-4f3e-b23b-9273f3e363bd"
   },
   "outputs": [
    {
     "data": {
      "text/plain": [
       "<Figure size 432x288 with 0 Axes>"
      ]
     },
     "metadata": {
      "tags": []
     },
     "output_type": "display_data"
    },
    {
     "data": {
      "image/png": "[encoded data removed]",
      "text/plain": [
       "<Figure size 720x432 with 4 Axes>"
      ]
     },
     "metadata": {
      "needs_background": "light",
      "tags": []
     },
     "output_type": "display_data"
    },
    {
     "data": {
      "text/plain": [
       "<Figure size 432x288 with 0 Axes>"
      ]
     },
     "metadata": {
      "tags": []
     },
     "output_type": "display_data"
    }
   ],
   "source": [
    "#explore numeric data after fill missing\n",
    "numeric_feats = [\"AdsPriorities1\",'AssessBenefits1','AssessJob1','JobContactPriorities1']\n",
    "\n",
    "multiplot(data = dataset,features = numeric_feats,plottype = \"countplot\",nrows = 2, ncols = 2,\n",
    "          figsize = (10,6), colorize = True)"
   ]
  },
  {
   "cell_type": "markdown",
   "metadata": {
    "colab_type": "text",
    "id": "_LQYljVdGKYV"
   },
   "source": [
    "### 4.2 Fill missing for categorical columns"
   ]
  },
  {
   "cell_type": "code",
   "execution_count": 30,
   "metadata": {
    "colab": {
     "base_uri": "https://localhost:8080/",
     "height": 54
    },
    "colab_type": "code",
    "executionInfo": {
     "elapsed": 1120,
     "status": "ok",
     "timestamp": 1598858578172,
     "user": {
      "displayName": "Ho Van Nghiem",
      "photoUrl": "",
      "userId": "17867822427606298916"
     },
     "user_tz": -420
    },
    "id": "8y8bITpUGKYW",
    "outputId": "1f46a6b8-b3a8-4d4e-e350-954cd0c93728"
   },
   "outputs": [
    {
     "data": {
      "text/plain": [
       "85"
      ]
     },
     "execution_count": 30,
     "metadata": {
      "tags": []
     },
     "output_type": "execute_result"
    }
   ],
   "source": [
    "categorical_columns=dataset.select_dtypes(include=['object']).columns\n",
    "len(categorical_columns)"
   ]
  },
  {
   "cell_type": "code",
   "execution_count": 31,
   "metadata": {
    "colab": {
     "base_uri": "https://localhost:8080/",
     "height": 479
    },
    "colab_type": "code",
    "executionInfo": {
     "elapsed": 1931,
     "status": "ok",
     "timestamp": 1598858578987,
     "user": {
      "displayName": "Ho Van Nghiem",
      "photoUrl": "",
      "userId": "17867822427606298916"
     },
     "user_tz": -420
    },
    "id": "A4AfX_iNGKYX",
    "outputId": "1fdb8879-61c1-476d-d178-d7eb81f5a39d"
   },
   "outputs": [
    {
     "data": {
      "text/plain": [
       "Index(['Student', 'Employment', 'FormalEducation', 'UndergradMajor',\n",
       "       'CompanySize', 'DevType', 'YearsCoding', 'YearsCodingProf',\n",
       "       'JobSatisfaction', 'CareerSatisfaction', 'HopeFiveYears',\n",
       "       'JobSearchStatus', 'LastNewJob', 'UpdateCV', 'Currency', 'SalaryType',\n",
       "       'CommunicationTools', 'TimeFullyProductive', 'EducationTypes',\n",
       "       'SelfTaughtTypes', 'HackathonReasons', 'AgreeDisagree1',\n",
       "       'AgreeDisagree2', 'AgreeDisagree3', 'LanguageWorkedWith',\n",
       "       'LanguageDesireNextYear', 'DatabaseWorkedWith',\n",
       "       'DatabaseDesireNextYear', 'PlatformWorkedWith',\n",
       "       'PlatformDesireNextYear', 'FrameworkWorkedWith',\n",
       "       'FrameworkDesireNextYear', 'IDE', 'OperatingSystem', 'NumberMonitors',\n",
       "       'Methodology', 'VersionControl', 'CheckInCode', 'AdBlocker',\n",
       "       'AdBlockerDisable', 'AdBlockerReasons', 'AdsAgreeDisagree1',\n",
       "       'AdsAgreeDisagree2', 'AdsAgreeDisagree3', 'AdsActions', 'AIDangerous',\n",
       "       'AIInteresting', 'AIResponsible', 'AIFuture', 'EthicsChoice',\n",
       "       'EthicsReport', 'EthicsResponsible', 'EthicalImplications',\n",
       "       'StackOverflowRecommend', 'StackOverflowVisit',\n",
       "       'StackOverflowHasAccount', 'StackOverflowParticipate',\n",
       "       'StackOverflowJobs', 'StackOverflowDevStory',\n",
       "       'StackOverflowJobsRecommend', 'StackOverflowConsiderMember',\n",
       "       'HypotheticalTools1', 'HypotheticalTools2', 'HypotheticalTools3',\n",
       "       'HypotheticalTools4', 'HypotheticalTools5', 'WakeTime', 'HoursComputer',\n",
       "       'HoursOutside', 'SkipMeals', 'ErgonomicDevices', 'Exercise', 'Gender',\n",
       "       'SexualOrientation', 'EducationParents', 'RaceEthnicity', 'Age',\n",
       "       'Dependents', 'MilitaryUS', 'SurveyTooLong', 'SurveyEasy'],\n",
       "      dtype='object')"
      ]
     },
     "execution_count": 31,
     "metadata": {
      "tags": []
     },
     "output_type": "execute_result"
    }
   ],
   "source": [
    "#the columns have missing value on categorical variable\n",
    "missing_features_categorical = categorical_columns[dataset[categorical_columns].isnull().any()]\n",
    "missing_features_categorical"
   ]
  },
  {
   "cell_type": "code",
   "execution_count": 32,
   "metadata": {
    "colab": {
     "base_uri": "https://localhost:8080/",
     "height": 394
    },
    "colab_type": "code",
    "executionInfo": {
     "elapsed": 1928,
     "status": "ok",
     "timestamp": 1598858578988,
     "user": {
      "displayName": "Ho Van Nghiem",
      "photoUrl": "",
      "userId": "17867822427606298916"
     },
     "user_tz": -420
    },
    "id": "Ht27RjBEGKYY",
    "outputId": "2cd78025-4d8f-4b86-d0d4-b863abd95197"
   },
   "outputs": [
    {
     "data": {
      "text/plain": [
       "LanguageDesireNextYear     18373\n",
       "LanguageWorkedWith         16994\n",
       "PlatformDesireNextYear      9236\n",
       "DatabaseDesireNextYear      6923\n",
       "PlatformWorkedWith          6422\n",
       "DevType                     5921\n",
       "IDE                         5429\n",
       "DatabaseWorkedWith          5036\n",
       "FrameworkDesireNextYear     1397\n",
       "CommunicationTools          1004\n",
       "FrameworkWorkedWith          810\n",
       "EducationTypes               472\n",
       "SelfTaughtTypes              431\n",
       "Methodology                  420\n",
       "HackathonReasons             127\n",
       "VersionControl                84\n",
       "AdBlockerReasons              63\n",
       "RaceEthnicity                 60\n",
       "Currency                      19\n",
       "Gender                        15\n",
       "dtype: int64"
      ]
     },
     "execution_count": 32,
     "metadata": {
      "tags": []
     },
     "output_type": "execute_result"
    }
   ],
   "source": [
    "#Explore number of category on each columns\n",
    "dataset[missing_features_categorical].apply(pd.Series.nunique, axis = 0).sort_values(ascending=False).head(20)"
   ]
  },
  {
   "cell_type": "markdown",
   "metadata": {
    "colab_type": "text",
    "id": "jljrcQWjGKYZ"
   },
   "source": [
    "There are too many categories on those features. So we will go to inside that and see what is it "
   ]
  },
  {
   "cell_type": "code",
   "execution_count": 33,
   "metadata": {
    "colab": {
     "base_uri": "https://localhost:8080/",
     "height": 139
    },
    "colab_type": "code",
    "executionInfo": {
     "elapsed": 1924,
     "status": "ok",
     "timestamp": 1598858578988,
     "user": {
      "displayName": "Ho Van Nghiem",
      "photoUrl": "",
      "userId": "17867822427606298916"
     },
     "user_tz": -420
    },
    "id": "cGXj3FI2GKYZ",
    "outputId": "3c3d9b67-b926-4203-a8d5-e0a1491974b8"
   },
   "outputs": [
    {
     "data": {
      "text/plain": [
       "0                   C#;Java;PHP;Python;SQL;HTML;CSS\n",
       "1                                    Go;Java;Kotlin\n",
       "2                                           Haskell\n",
       "3                                    Assembly;C;C++\n",
       "4    C++;C#;Java;JavaScript;PHP;Python;SQL;HTML;CSS\n",
       "Name: LanguageDesireNextYear, dtype: object"
      ]
     },
     "execution_count": 33,
     "metadata": {
      "tags": []
     },
     "output_type": "execute_result"
    }
   ],
   "source": [
    "dataset['LanguageDesireNextYear'].head(5)"
   ]
  },
  {
   "cell_type": "markdown",
   "metadata": {
    "colab_type": "text",
    "id": "f1RAg2dSGKYb"
   },
   "source": [
    "It is delimited by \";\". Maybe that comes from the question has multiple-choices answers.\n",
    "\n",
    "We will count the number of that kind of types"
   ]
  },
  {
   "cell_type": "code",
   "execution_count": 34,
   "metadata": {
    "colab": {},
    "colab_type": "code",
    "executionInfo": {
     "elapsed": 1924,
     "status": "ok",
     "timestamp": 1598858578989,
     "user": {
      "displayName": "Ho Van Nghiem",
      "photoUrl": "",
      "userId": "17867822427606298916"
     },
     "user_tz": -420
    },
    "id": "gGYcCPR9GKYb"
   },
   "outputs": [],
   "source": [
    "#function for check which column contains multiple-choice\n",
    "def check_multiple_choices(text):\n",
    "    if type(text)==str:\n",
    "        if ';' in text:\n",
    "            return True\n",
    "        else:\n",
    "            return False\n",
    "    return False"
   ]
  },
  {
   "cell_type": "code",
   "execution_count": 35,
   "metadata": {
    "colab": {},
    "colab_type": "code",
    "executionInfo": {
     "elapsed": 3885,
     "status": "ok",
     "timestamp": 1598858580952,
     "user": {
      "displayName": "Ho Van Nghiem",
      "photoUrl": "",
      "userId": "17867822427606298916"
     },
     "user_tz": -420
    },
    "id": "3Gi22BMzGKYc"
   },
   "outputs": [],
   "source": [
    "categorical_columns\n",
    "mul_choices_cols_name=[]\n",
    "for i in categorical_columns:\n",
    "    if sum(dataset[i].apply(check_multiple_choices))>0:\n",
    "        mul_choices_cols_name.append(i)"
   ]
  },
  {
   "cell_type": "code",
   "execution_count": 36,
   "metadata": {
    "colab": {
     "base_uri": "https://localhost:8080/",
     "height": 54
    },
    "colab_type": "code",
    "executionInfo": {
     "elapsed": 3883,
     "status": "ok",
     "timestamp": 1598858580953,
     "user": {
      "displayName": "Ho Van Nghiem",
      "photoUrl": "",
      "userId": "17867822427606298916"
     },
     "user_tz": -420
    },
    "id": "07Rzz2v0GKYd",
    "outputId": "418a7fbc-290d-480b-d40b-b5e3aeaf7904"
   },
   "outputs": [
    {
     "data": {
      "text/plain": [
       "22"
      ]
     },
     "execution_count": 36,
     "metadata": {
      "tags": []
     },
     "output_type": "execute_result"
    }
   ],
   "source": [
    "# the columns belong to multiple-choices categorical\n",
    "len(mul_choices_cols_name)"
   ]
  },
  {
   "cell_type": "markdown",
   "metadata": {
    "colab_type": "text",
    "id": "1kfH-kzFGKYf"
   },
   "source": [
    "We will come back to these columns on session Feature Engineering. Now we focus on the rest of categorical that we call option-choices "
   ]
  },
  {
   "cell_type": "code",
   "execution_count": 37,
   "metadata": {
    "colab": {},
    "colab_type": "code",
    "executionInfo": {
     "elapsed": 3882,
     "status": "ok",
     "timestamp": 1598858580954,
     "user": {
      "displayName": "Ho Van Nghiem",
      "photoUrl": "",
      "userId": "17867822427606298916"
     },
     "user_tz": -420
    },
    "id": "BebrCXLMGKYf"
   },
   "outputs": [],
   "source": [
    "option_choices_columns=[col for col in categorical_columns if col not in mul_choices_cols_name]"
   ]
  },
  {
   "cell_type": "code",
   "execution_count": 38,
   "metadata": {
    "colab": {
     "base_uri": "https://localhost:8080/",
     "height": 54
    },
    "colab_type": "code",
    "executionInfo": {
     "elapsed": 3879,
     "status": "ok",
     "timestamp": 1598858580954,
     "user": {
      "displayName": "Ho Van Nghiem",
      "photoUrl": "",
      "userId": "17867822427606298916"
     },
     "user_tz": -420
    },
    "id": "7Jc1pGtuGKYg",
    "outputId": "74edea97-9f63-4faa-f672-e718e1ad647f"
   },
   "outputs": [
    {
     "data": {
      "text/plain": [
       "63"
      ]
     },
     "execution_count": 38,
     "metadata": {
      "tags": []
     },
     "output_type": "execute_result"
    }
   ],
   "source": [
    "len(option_choices_columns)"
   ]
  },
  {
   "cell_type": "code",
   "execution_count": 39,
   "metadata": {
    "colab": {
     "base_uri": "https://localhost:8080/",
     "height": 139
    },
    "colab_type": "code",
    "executionInfo": {
     "elapsed": 3876,
     "status": "ok",
     "timestamp": 1598858580955,
     "user": {
      "displayName": "Ho Van Nghiem",
      "photoUrl": "",
      "userId": "17867822427606298916"
     },
     "user_tz": -420
    },
    "id": "4FCUbYgdGKYh",
    "outputId": "5ad56d75-5ce3-4ad2-f691-8e3389de7f3f"
   },
   "outputs": [
    {
     "data": {
      "text/plain": [
       "MilitaryUS                    33409\n",
       "StackOverflowJobsRecommend    20363\n",
       "AdBlockerDisable              12340\n",
       "TimeFullyProductive            7414\n",
       "AIDangerous                    6857\n",
       "dtype: int64"
      ]
     },
     "execution_count": 39,
     "metadata": {
      "tags": []
     },
     "output_type": "execute_result"
    }
   ],
   "source": [
    "dataset[option_choices_columns].isnull().sum(axis=0).sort_values(ascending=False).head(5)"
   ]
  },
  {
   "cell_type": "code",
   "execution_count": 40,
   "metadata": {
    "colab": {
     "base_uri": "https://localhost:8080/",
     "height": 139
    },
    "colab_type": "code",
    "executionInfo": {
     "elapsed": 3873,
     "status": "ok",
     "timestamp": 1598858580955,
     "user": {
      "displayName": "Ho Van Nghiem",
      "photoUrl": "",
      "userId": "17867822427606298916"
     },
     "user_tz": -420
    },
    "id": "q1hJ7VSeGKYj",
    "outputId": "72a134d2-68ab-426f-8982-95e26b23b15d"
   },
   "outputs": [
    {
     "data": {
      "text/plain": [
       "JobSearchStatus    1\n",
       "OpenSource         0\n",
       "CurrencySymbol     0\n",
       "Country            0\n",
       "Hobby              0\n",
       "dtype: int64"
      ]
     },
     "execution_count": 40,
     "metadata": {
      "tags": []
     },
     "output_type": "execute_result"
    }
   ],
   "source": [
    "dataset[option_choices_columns].isnull().sum(axis=0).sort_values(ascending=False).tail(5)"
   ]
  },
  {
   "cell_type": "code",
   "execution_count": 41,
   "metadata": {
    "colab": {
     "base_uri": "https://localhost:8080/",
     "height": 54
    },
    "colab_type": "code",
    "executionInfo": {
     "elapsed": 4906,
     "status": "ok",
     "timestamp": 1598858581992,
     "user": {
      "displayName": "Ho Van Nghiem",
      "photoUrl": "",
      "userId": "17867822427606298916"
     },
     "user_tz": -420
    },
    "id": "bVsE2WIvGKYk",
    "outputId": "df69c610-37d0-470e-ecef-3c4a5aeb6fec"
   },
   "outputs": [
    {
     "data": {
      "image/png": "[encoded data removed]",
      "text/plain": [
       "<Figure size 432x288 with 1 Axes>"
      ]
     },
     "metadata": {
      "needs_background": "light",
      "tags": []
     },
     "output_type": "display_data"
    }
   ],
   "source": [
    "g = sns.countplot(dataset[\"MilitaryUS\"])"
   ]
  },
  {
   "cell_type": "markdown",
   "metadata": {
    "colab_type": "text",
    "id": "B3Ti8npyGKYl"
   },
   "source": [
    "fill the missing by most frequent values"
   ]
  },
  {
   "cell_type": "code",
   "execution_count": 42,
   "metadata": {
    "colab": {},
    "colab_type": "code",
    "executionInfo": {
     "elapsed": 211529,
     "status": "ok",
     "timestamp": 1598858788616,
     "user": {
      "displayName": "Ho Van Nghiem",
      "photoUrl": "",
      "userId": "17867822427606298916"
     },
     "user_tz": -420
    },
    "id": "L-DJQqA8GKYm"
   },
   "outputs": [],
   "source": [
    "imputer = SimpleImputer(missing_values=np.nan, strategy='most_frequent')\n",
    "category_arr = imputer.fit_transform(dataset[option_choices_columns])"
   ]
  },
  {
   "cell_type": "code",
   "execution_count": 43,
   "metadata": {
    "colab": {},
    "colab_type": "code",
    "executionInfo": {
     "elapsed": 211529,
     "status": "ok",
     "timestamp": 1598858788618,
     "user": {
      "displayName": "Ho Van Nghiem",
      "photoUrl": "",
      "userId": "17867822427606298916"
     },
     "user_tz": -420
    },
    "id": "BqhhWgakGKYo"
   },
   "outputs": [],
   "source": [
    "for i,col in enumerate(option_choices_columns):\n",
    "    dataset[col]=category_arr[:,i]"
   ]
  },
  {
   "cell_type": "markdown",
   "metadata": {
    "colab_type": "text",
    "id": "g8B2VNRpGKYp"
   },
   "source": [
    "## 5. Feature Engineering"
   ]
  },
  {
   "cell_type": "markdown",
   "metadata": {
    "colab_type": "text",
    "id": "2RV25e5cGKYp"
   },
   "source": [
    "### 5.1. Categorical multiple-choices"
   ]
  },
  {
   "cell_type": "markdown",
   "metadata": {
    "colab_type": "text",
    "id": "2HWx3Y1rGKYq"
   },
   "source": [
    "Due to the values on these columns is delimited by \";\", so we need to transform it into the dummy variable"
   ]
  },
  {
   "cell_type": "code",
   "execution_count": 44,
   "metadata": {
    "colab": {},
    "colab_type": "code",
    "executionInfo": {
     "elapsed": 1740,
     "status": "ok",
     "timestamp": 1598858802821,
     "user": {
      "displayName": "Ho Van Nghiem",
      "photoUrl": "",
      "userId": "17867822427606298916"
     },
     "user_tz": -420
    },
    "id": "dzDOMinIGKYq"
   },
   "outputs": [],
   "source": [
    "#function for encoding multiple-choice to one hot\n",
    "def encode(ls,ref):\n",
    "    ini_vec = np.zeros((len(ref)))\n",
    "    ini_ls=[]\n",
    "    for i in ls:\n",
    "        ini_ls.append(ref.index(i))\n",
    "    ini_vec[ini_ls]=1\n",
    "    return ini_vec.astype('int')"
   ]
  },
  {
   "cell_type": "code",
   "execution_count": 45,
   "metadata": {
    "colab": {},
    "colab_type": "code",
    "executionInfo": {
     "elapsed": 1738,
     "status": "ok",
     "timestamp": 1598858802822,
     "user": {
      "displayName": "Ho Van Nghiem",
      "photoUrl": "",
      "userId": "17867822427606298916"
     },
     "user_tz": -420
    },
    "id": "Me0nlIHaGKYs"
   },
   "outputs": [],
   "source": [
    "#function for count the number of choices on each column\n",
    "def count_multiple_choice(text):\n",
    "    if type(text)==str:\n",
    "        return text.split(\";\")\n",
    "    else:\n",
    "        return []"
   ]
  },
  {
   "cell_type": "code",
   "execution_count": 46,
   "metadata": {
    "colab": {},
    "colab_type": "code",
    "executionInfo": {
     "elapsed": 8634,
     "status": "ok",
     "timestamp": 1598858809719,
     "user": {
      "displayName": "Ho Van Nghiem",
      "photoUrl": "",
      "userId": "17867822427606298916"
     },
     "user_tz": -420
    },
    "id": "4FY34CtRGKYt"
   },
   "outputs": [],
   "source": [
    "#apply the function to handle multiple-choices columns\n",
    "ls_v4_train=[]\n",
    "ls_v2=[]\n",
    "for c in mul_choices_cols_name:\n",
    "    \n",
    "    v1_train = dataset[c].apply(count_multiple_choice) #series\n",
    "    \n",
    "    v2 = list(set(list(itertools.chain(*v1_train)))) #list of unique of multiple-choices\n",
    "    v3_train = v1_train.apply(encode,ref=v2) #numpy array\n",
    "    \n",
    "    v4_train = np.concatenate(v3_train.values).reshape(-1,len(v2))\n",
    "\n",
    "    ls_v4_train.append(v4_train)\n",
    "\n",
    "    ls_v2.append(v2)\n",
    "v5_train = np.concatenate(ls_v4_train,axis=1)\n",
    "\n",
    "v6 = list(itertools.chain(*ls_v2))\n",
    "multi_choice_dataset = pd.DataFrame(v5_train,columns = v6)\n"
   ]
  },
  {
   "cell_type": "code",
   "execution_count": 47,
   "metadata": {
    "colab": {
     "base_uri": "https://localhost:8080/",
     "height": 491
    },
    "colab_type": "code",
    "executionInfo": {
     "elapsed": 8629,
     "status": "ok",
     "timestamp": 1598858809721,
     "user": {
      "displayName": "Ho Van Nghiem",
      "photoUrl": "",
      "userId": "17867822427606298916"
     },
     "user_tz": -420
    },
    "id": "E62AlK4wGKYv",
    "outputId": "f3f86114-782e-4bfa-9bb1-44374124f9eb"
   },
   "outputs": [
    {
     "data": {
      "text/html": [
       "<div>\n",
       "<style scoped>\n",
       "    .dataframe tbody tr th:only-of-type {\n",
       "        vertical-align: middle;\n",
       "    }\n",
       "\n",
       "    .dataframe tbody tr th {\n",
       "        vertical-align: top;\n",
       "    }\n",
       "\n",
       "    .dataframe thead th {\n",
       "        text-align: right;\n",
       "    }\n",
       "</style>\n",
       "<table border=\"1\" class=\"dataframe\">\n",
       "  <thead>\n",
       "    <tr style=\"text-align: right;\">\n",
       "      <th></th>\n",
       "      <th>Designer</th>\n",
       "      <th>Desktop or enterprise applications developer</th>\n",
       "      <th>Embedded applications or devices developer</th>\n",
       "      <th>Data scientist or machine learning specialist</th>\n",
       "      <th>Full-stack developer</th>\n",
       "      <th>Front-end developer</th>\n",
       "      <th>C-suite executive (CEO, CTO, etc.)</th>\n",
       "      <th>Mobile developer</th>\n",
       "      <th>Student</th>\n",
       "      <th>Marketing or sales professional</th>\n",
       "      <th>Engineering manager</th>\n",
       "      <th>System administrator</th>\n",
       "      <th>Product manager</th>\n",
       "      <th>Database administrator</th>\n",
       "      <th>Game or graphics developer</th>\n",
       "      <th>Educator or academic researcher</th>\n",
       "      <th>QA or test developer</th>\n",
       "      <th>Back-end developer</th>\n",
       "      <th>DevOps specialist</th>\n",
       "      <th>Data or business analyst</th>\n",
       "      <th>Facebook</th>\n",
       "      <th>Other chat system (IRC, proprietary software, etc.)</th>\n",
       "      <th>Trello</th>\n",
       "      <th>Jira</th>\n",
       "      <th>Office / productivity suite (Microsoft Office, Google Suite, etc.)</th>\n",
       "      <th>Google Hangouts/Chat</th>\n",
       "      <th>Other wiki tool (Github, Google Sites, proprietary software, etc.)</th>\n",
       "      <th>Stack Overflow Enterprise</th>\n",
       "      <th>HipChat</th>\n",
       "      <th>Slack</th>\n",
       "      <th>Confluence</th>\n",
       "      <th>Completed an industry certification program (e.g. MCPD)</th>\n",
       "      <th>Received on-the-job training in software development</th>\n",
       "      <th>Participated in a hackathon</th>\n",
       "      <th>Contributed to open source software</th>\n",
       "      <th>Participated in a full-time developer training program or bootcamp</th>\n",
       "      <th>Participated in online coding competitions (e.g. HackerRank, CodeChef, TopCoder)</th>\n",
       "      <th>Taught yourself a new language, framework, or tool without taking a formal course</th>\n",
       "      <th>Taken a part-time in-person course in programming or software development</th>\n",
       "      <th>Taken an online course in programming or software development (e.g. a MOOC)</th>\n",
       "      <th>...</th>\n",
       "      <th>Mob programming</th>\n",
       "      <th>Agile</th>\n",
       "      <th>Kanban</th>\n",
       "      <th>Evidence-based software engineering</th>\n",
       "      <th>I don't use version control</th>\n",
       "      <th>Team Foundation Version Control</th>\n",
       "      <th>Git</th>\n",
       "      <th>Copying and pasting files to network shares</th>\n",
       "      <th>Zip file back-ups</th>\n",
       "      <th>Subversion</th>\n",
       "      <th>Mercurial</th>\n",
       "      <th>I wanted to support the website I was visiting by viewing their ads</th>\n",
       "      <th>The website I was visiting has interesting ads</th>\n",
       "      <th>I wanted to view a specific advertisement</th>\n",
       "      <th>The ad-blocking software was causing display issues on a website</th>\n",
       "      <th>The website I was visiting forced me to disable it to access their content</th>\n",
       "      <th>The website I was visiting asked me to disable it</th>\n",
       "      <th>Clicked on an online advertisement</th>\n",
       "      <th>Paid to access a website advertisement-free</th>\n",
       "      <th>Stopped going to a website because of their advertising</th>\n",
       "      <th>Saw an online advertisement and then researched it (without clicking on the ad)</th>\n",
       "      <th>Ergonomic keyboard or mouse</th>\n",
       "      <th>Wrist/hand supports or braces</th>\n",
       "      <th>Fatigue-relieving floor mat</th>\n",
       "      <th>Standing desk</th>\n",
       "      <th>Female</th>\n",
       "      <th>Non-binary, genderqueer, or gender non-conforming</th>\n",
       "      <th>Male</th>\n",
       "      <th>Transgender</th>\n",
       "      <th>Bisexual or Queer</th>\n",
       "      <th>Asexual</th>\n",
       "      <th>Gay or Lesbian</th>\n",
       "      <th>Straight or heterosexual</th>\n",
       "      <th>Middle Eastern</th>\n",
       "      <th>South Asian</th>\n",
       "      <th>East Asian</th>\n",
       "      <th>Hispanic or Latino/Latina</th>\n",
       "      <th>Black or of African descent</th>\n",
       "      <th>White or of European descent</th>\n",
       "      <th>Native American, Pacific Islander, or Indigenous Australian</th>\n",
       "    </tr>\n",
       "  </thead>\n",
       "  <tbody>\n",
       "    <tr>\n",
       "      <th>0</th>\n",
       "      <td>1</td>\n",
       "      <td>0</td>\n",
       "      <td>0</td>\n",
       "      <td>0</td>\n",
       "      <td>1</td>\n",
       "      <td>0</td>\n",
       "      <td>0</td>\n",
       "      <td>0</td>\n",
       "      <td>0</td>\n",
       "      <td>0</td>\n",
       "      <td>0</td>\n",
       "      <td>0</td>\n",
       "      <td>0</td>\n",
       "      <td>1</td>\n",
       "      <td>0</td>\n",
       "      <td>0</td>\n",
       "      <td>0</td>\n",
       "      <td>0</td>\n",
       "      <td>0</td>\n",
       "      <td>0</td>\n",
       "      <td>1</td>\n",
       "      <td>0</td>\n",
       "      <td>0</td>\n",
       "      <td>0</td>\n",
       "      <td>1</td>\n",
       "      <td>0</td>\n",
       "      <td>1</td>\n",
       "      <td>1</td>\n",
       "      <td>0</td>\n",
       "      <td>0</td>\n",
       "      <td>0</td>\n",
       "      <td>0</td>\n",
       "      <td>0</td>\n",
       "      <td>0</td>\n",
       "      <td>0</td>\n",
       "      <td>0</td>\n",
       "      <td>0</td>\n",
       "      <td>1</td>\n",
       "      <td>1</td>\n",
       "      <td>0</td>\n",
       "      <td>...</td>\n",
       "      <td>0</td>\n",
       "      <td>0</td>\n",
       "      <td>0</td>\n",
       "      <td>0</td>\n",
       "      <td>0</td>\n",
       "      <td>0</td>\n",
       "      <td>0</td>\n",
       "      <td>0</td>\n",
       "      <td>0</td>\n",
       "      <td>0</td>\n",
       "      <td>0</td>\n",
       "      <td>0</td>\n",
       "      <td>0</td>\n",
       "      <td>0</td>\n",
       "      <td>0</td>\n",
       "      <td>0</td>\n",
       "      <td>0</td>\n",
       "      <td>0</td>\n",
       "      <td>0</td>\n",
       "      <td>0</td>\n",
       "      <td>1</td>\n",
       "      <td>0</td>\n",
       "      <td>0</td>\n",
       "      <td>0</td>\n",
       "      <td>0</td>\n",
       "      <td>0</td>\n",
       "      <td>0</td>\n",
       "      <td>1</td>\n",
       "      <td>0</td>\n",
       "      <td>0</td>\n",
       "      <td>0</td>\n",
       "      <td>0</td>\n",
       "      <td>1</td>\n",
       "      <td>0</td>\n",
       "      <td>0</td>\n",
       "      <td>0</td>\n",
       "      <td>0</td>\n",
       "      <td>1</td>\n",
       "      <td>0</td>\n",
       "      <td>0</td>\n",
       "    </tr>\n",
       "    <tr>\n",
       "      <th>1</th>\n",
       "      <td>0</td>\n",
       "      <td>0</td>\n",
       "      <td>0</td>\n",
       "      <td>0</td>\n",
       "      <td>0</td>\n",
       "      <td>0</td>\n",
       "      <td>0</td>\n",
       "      <td>0</td>\n",
       "      <td>0</td>\n",
       "      <td>0</td>\n",
       "      <td>0</td>\n",
       "      <td>0</td>\n",
       "      <td>0</td>\n",
       "      <td>0</td>\n",
       "      <td>0</td>\n",
       "      <td>0</td>\n",
       "      <td>0</td>\n",
       "      <td>1</td>\n",
       "      <td>0</td>\n",
       "      <td>0</td>\n",
       "      <td>0</td>\n",
       "      <td>1</td>\n",
       "      <td>0</td>\n",
       "      <td>1</td>\n",
       "      <td>0</td>\n",
       "      <td>1</td>\n",
       "      <td>0</td>\n",
       "      <td>0</td>\n",
       "      <td>1</td>\n",
       "      <td>1</td>\n",
       "      <td>1</td>\n",
       "      <td>1</td>\n",
       "      <td>1</td>\n",
       "      <td>0</td>\n",
       "      <td>1</td>\n",
       "      <td>0</td>\n",
       "      <td>0</td>\n",
       "      <td>1</td>\n",
       "      <td>1</td>\n",
       "      <td>1</td>\n",
       "      <td>...</td>\n",
       "      <td>0</td>\n",
       "      <td>1</td>\n",
       "      <td>1</td>\n",
       "      <td>0</td>\n",
       "      <td>0</td>\n",
       "      <td>0</td>\n",
       "      <td>1</td>\n",
       "      <td>0</td>\n",
       "      <td>0</td>\n",
       "      <td>0</td>\n",
       "      <td>1</td>\n",
       "      <td>1</td>\n",
       "      <td>0</td>\n",
       "      <td>0</td>\n",
       "      <td>1</td>\n",
       "      <td>0</td>\n",
       "      <td>0</td>\n",
       "      <td>0</td>\n",
       "      <td>0</td>\n",
       "      <td>1</td>\n",
       "      <td>0</td>\n",
       "      <td>1</td>\n",
       "      <td>0</td>\n",
       "      <td>0</td>\n",
       "      <td>0</td>\n",
       "      <td>0</td>\n",
       "      <td>0</td>\n",
       "      <td>1</td>\n",
       "      <td>0</td>\n",
       "      <td>0</td>\n",
       "      <td>0</td>\n",
       "      <td>0</td>\n",
       "      <td>1</td>\n",
       "      <td>0</td>\n",
       "      <td>0</td>\n",
       "      <td>0</td>\n",
       "      <td>0</td>\n",
       "      <td>0</td>\n",
       "      <td>1</td>\n",
       "      <td>0</td>\n",
       "    </tr>\n",
       "    <tr>\n",
       "      <th>2</th>\n",
       "      <td>1</td>\n",
       "      <td>0</td>\n",
       "      <td>0</td>\n",
       "      <td>0</td>\n",
       "      <td>1</td>\n",
       "      <td>0</td>\n",
       "      <td>0</td>\n",
       "      <td>0</td>\n",
       "      <td>0</td>\n",
       "      <td>0</td>\n",
       "      <td>0</td>\n",
       "      <td>0</td>\n",
       "      <td>0</td>\n",
       "      <td>0</td>\n",
       "      <td>0</td>\n",
       "      <td>0</td>\n",
       "      <td>0</td>\n",
       "      <td>0</td>\n",
       "      <td>0</td>\n",
       "      <td>0</td>\n",
       "      <td>0</td>\n",
       "      <td>0</td>\n",
       "      <td>0</td>\n",
       "      <td>0</td>\n",
       "      <td>1</td>\n",
       "      <td>0</td>\n",
       "      <td>0</td>\n",
       "      <td>0</td>\n",
       "      <td>0</td>\n",
       "      <td>0</td>\n",
       "      <td>0</td>\n",
       "      <td>0</td>\n",
       "      <td>0</td>\n",
       "      <td>0</td>\n",
       "      <td>1</td>\n",
       "      <td>0</td>\n",
       "      <td>0</td>\n",
       "      <td>1</td>\n",
       "      <td>0</td>\n",
       "      <td>0</td>\n",
       "      <td>...</td>\n",
       "      <td>0</td>\n",
       "      <td>1</td>\n",
       "      <td>0</td>\n",
       "      <td>0</td>\n",
       "      <td>0</td>\n",
       "      <td>0</td>\n",
       "      <td>1</td>\n",
       "      <td>1</td>\n",
       "      <td>1</td>\n",
       "      <td>0</td>\n",
       "      <td>0</td>\n",
       "      <td>0</td>\n",
       "      <td>0</td>\n",
       "      <td>0</td>\n",
       "      <td>0</td>\n",
       "      <td>0</td>\n",
       "      <td>0</td>\n",
       "      <td>0</td>\n",
       "      <td>0</td>\n",
       "      <td>0</td>\n",
       "      <td>1</td>\n",
       "      <td>0</td>\n",
       "      <td>0</td>\n",
       "      <td>0</td>\n",
       "      <td>0</td>\n",
       "      <td>0</td>\n",
       "      <td>0</td>\n",
       "      <td>1</td>\n",
       "      <td>0</td>\n",
       "      <td>0</td>\n",
       "      <td>0</td>\n",
       "      <td>0</td>\n",
       "      <td>1</td>\n",
       "      <td>0</td>\n",
       "      <td>0</td>\n",
       "      <td>0</td>\n",
       "      <td>0</td>\n",
       "      <td>0</td>\n",
       "      <td>1</td>\n",
       "      <td>0</td>\n",
       "    </tr>\n",
       "    <tr>\n",
       "      <th>3</th>\n",
       "      <td>0</td>\n",
       "      <td>1</td>\n",
       "      <td>1</td>\n",
       "      <td>0</td>\n",
       "      <td>0</td>\n",
       "      <td>0</td>\n",
       "      <td>0</td>\n",
       "      <td>0</td>\n",
       "      <td>0</td>\n",
       "      <td>0</td>\n",
       "      <td>0</td>\n",
       "      <td>1</td>\n",
       "      <td>0</td>\n",
       "      <td>0</td>\n",
       "      <td>0</td>\n",
       "      <td>0</td>\n",
       "      <td>0</td>\n",
       "      <td>1</td>\n",
       "      <td>1</td>\n",
       "      <td>0</td>\n",
       "      <td>0</td>\n",
       "      <td>1</td>\n",
       "      <td>0</td>\n",
       "      <td>0</td>\n",
       "      <td>0</td>\n",
       "      <td>0</td>\n",
       "      <td>1</td>\n",
       "      <td>0</td>\n",
       "      <td>0</td>\n",
       "      <td>0</td>\n",
       "      <td>0</td>\n",
       "      <td>0</td>\n",
       "      <td>0</td>\n",
       "      <td>0</td>\n",
       "      <td>1</td>\n",
       "      <td>0</td>\n",
       "      <td>1</td>\n",
       "      <td>1</td>\n",
       "      <td>0</td>\n",
       "      <td>1</td>\n",
       "      <td>...</td>\n",
       "      <td>0</td>\n",
       "      <td>0</td>\n",
       "      <td>0</td>\n",
       "      <td>0</td>\n",
       "      <td>0</td>\n",
       "      <td>0</td>\n",
       "      <td>1</td>\n",
       "      <td>0</td>\n",
       "      <td>0</td>\n",
       "      <td>0</td>\n",
       "      <td>0</td>\n",
       "      <td>0</td>\n",
       "      <td>1</td>\n",
       "      <td>0</td>\n",
       "      <td>1</td>\n",
       "      <td>0</td>\n",
       "      <td>0</td>\n",
       "      <td>0</td>\n",
       "      <td>0</td>\n",
       "      <td>1</td>\n",
       "      <td>0</td>\n",
       "      <td>0</td>\n",
       "      <td>0</td>\n",
       "      <td>0</td>\n",
       "      <td>0</td>\n",
       "      <td>0</td>\n",
       "      <td>0</td>\n",
       "      <td>1</td>\n",
       "      <td>0</td>\n",
       "      <td>0</td>\n",
       "      <td>0</td>\n",
       "      <td>0</td>\n",
       "      <td>1</td>\n",
       "      <td>0</td>\n",
       "      <td>0</td>\n",
       "      <td>0</td>\n",
       "      <td>0</td>\n",
       "      <td>0</td>\n",
       "      <td>1</td>\n",
       "      <td>0</td>\n",
       "    </tr>\n",
       "    <tr>\n",
       "      <th>4</th>\n",
       "      <td>0</td>\n",
       "      <td>0</td>\n",
       "      <td>0</td>\n",
       "      <td>0</td>\n",
       "      <td>0</td>\n",
       "      <td>0</td>\n",
       "      <td>0</td>\n",
       "      <td>0</td>\n",
       "      <td>0</td>\n",
       "      <td>0</td>\n",
       "      <td>0</td>\n",
       "      <td>0</td>\n",
       "      <td>0</td>\n",
       "      <td>0</td>\n",
       "      <td>1</td>\n",
       "      <td>0</td>\n",
       "      <td>0</td>\n",
       "      <td>1</td>\n",
       "      <td>0</td>\n",
       "      <td>0</td>\n",
       "      <td>0</td>\n",
       "      <td>1</td>\n",
       "      <td>0</td>\n",
       "      <td>0</td>\n",
       "      <td>0</td>\n",
       "      <td>0</td>\n",
       "      <td>0</td>\n",
       "      <td>0</td>\n",
       "      <td>0</td>\n",
       "      <td>0</td>\n",
       "      <td>0</td>\n",
       "      <td>0</td>\n",
       "      <td>0</td>\n",
       "      <td>0</td>\n",
       "      <td>0</td>\n",
       "      <td>0</td>\n",
       "      <td>0</td>\n",
       "      <td>1</td>\n",
       "      <td>0</td>\n",
       "      <td>0</td>\n",
       "      <td>...</td>\n",
       "      <td>0</td>\n",
       "      <td>0</td>\n",
       "      <td>0</td>\n",
       "      <td>0</td>\n",
       "      <td>1</td>\n",
       "      <td>0</td>\n",
       "      <td>0</td>\n",
       "      <td>0</td>\n",
       "      <td>0</td>\n",
       "      <td>0</td>\n",
       "      <td>0</td>\n",
       "      <td>1</td>\n",
       "      <td>0</td>\n",
       "      <td>0</td>\n",
       "      <td>0</td>\n",
       "      <td>0</td>\n",
       "      <td>0</td>\n",
       "      <td>0</td>\n",
       "      <td>0</td>\n",
       "      <td>1</td>\n",
       "      <td>0</td>\n",
       "      <td>0</td>\n",
       "      <td>0</td>\n",
       "      <td>0</td>\n",
       "      <td>0</td>\n",
       "      <td>0</td>\n",
       "      <td>0</td>\n",
       "      <td>1</td>\n",
       "      <td>0</td>\n",
       "      <td>0</td>\n",
       "      <td>0</td>\n",
       "      <td>0</td>\n",
       "      <td>1</td>\n",
       "      <td>0</td>\n",
       "      <td>0</td>\n",
       "      <td>0</td>\n",
       "      <td>0</td>\n",
       "      <td>0</td>\n",
       "      <td>1</td>\n",
       "      <td>0</td>\n",
       "    </tr>\n",
       "  </tbody>\n",
       "</table>\n",
       "<p>5 rows × 320 columns</p>\n",
       "</div>"
      ],
      "text/plain": [
       "   Designer  ...  Native American, Pacific Islander, or Indigenous Australian\n",
       "0         1  ...                                                  0          \n",
       "1         0  ...                                                  0          \n",
       "2         1  ...                                                  0          \n",
       "3         0  ...                                                  0          \n",
       "4         0  ...                                                  0          \n",
       "\n",
       "[5 rows x 320 columns]"
      ]
     },
     "execution_count": 47,
     "metadata": {
      "tags": []
     },
     "output_type": "execute_result"
    }
   ],
   "source": [
    "multi_choice_dataset.head(5)"
   ]
  },
  {
   "cell_type": "code",
   "execution_count": 48,
   "metadata": {
    "colab": {
     "base_uri": "https://localhost:8080/",
     "height": 54
    },
    "colab_type": "code",
    "executionInfo": {
     "elapsed": 8625,
     "status": "ok",
     "timestamp": 1598858809721,
     "user": {
      "displayName": "Ho Van Nghiem",
      "photoUrl": "",
      "userId": "17867822427606298916"
     },
     "user_tz": -420
    },
    "id": "1wof3Ct8GKYx",
    "outputId": "fbc73a98-7457-496b-af51-7008b8106074"
   },
   "outputs": [
    {
     "data": {
      "text/plain": [
       "320"
      ]
     },
     "execution_count": 48,
     "metadata": {
      "tags": []
     },
     "output_type": "execute_result"
    }
   ],
   "source": [
    "len(multi_choice_dataset.columns)"
   ]
  },
  {
   "cell_type": "code",
   "execution_count": 49,
   "metadata": {
    "colab": {},
    "colab_type": "code",
    "executionInfo": {
     "elapsed": 8625,
     "status": "ok",
     "timestamp": 1598858809722,
     "user": {
      "displayName": "Ho Van Nghiem",
      "photoUrl": "",
      "userId": "17867822427606298916"
     },
     "user_tz": -420
    },
    "id": "x-GHiQC4GKY-"
   },
   "outputs": [],
   "source": [
    "#rebuild dataset\n",
    "temp = dataset.drop(mul_choices_cols_name,axis=1)\n",
    "dataset = pd.concat(objs=[temp, multi_choice_dataset], axis=1)"
   ]
  },
  {
   "cell_type": "code",
   "execution_count": 50,
   "metadata": {
    "colab": {
     "base_uri": "https://localhost:8080/",
     "height": 54
    },
    "colab_type": "code",
    "executionInfo": {
     "elapsed": 8622,
     "status": "ok",
     "timestamp": 1598858809723,
     "user": {
      "displayName": "Ho Van Nghiem",
      "photoUrl": "",
      "userId": "17867822427606298916"
     },
     "user_tz": -420
    },
    "id": "zMLHxowmGKZA",
    "outputId": "51ad5db5-81dd-4846-f931-c828d659556c"
   },
   "outputs": [
    {
     "data": {
      "text/plain": [
       "(45116, 423)"
      ]
     },
     "execution_count": 50,
     "metadata": {
      "tags": []
     },
     "output_type": "execute_result"
    }
   ],
   "source": [
    "dataset.shape"
   ]
  },
  {
   "cell_type": "markdown",
   "metadata": {
    "colab_type": "text",
    "id": "2VmG5Xt1GKZC"
   },
   "source": [
    "### 5.2 Categorical option-choices"
   ]
  },
  {
   "cell_type": "markdown",
   "metadata": {
    "colab_type": "text",
    "id": "j9qrKzOfGKZD"
   },
   "source": [
    "#### 5.2.1 Ordered variables"
   ]
  },
  {
   "cell_type": "markdown",
   "metadata": {
    "colab_type": "text",
    "id": "cimcI86hGKZD"
   },
   "source": [
    "Ordered categorical features, for example this kernel is (\"Very bad\", \"Bad\", \"okay\", \"Good\", \"Amazing\") need to be encoded as numerical ordered values (0->4 for example)."
   ]
  },
  {
   "cell_type": "code",
   "execution_count": 51,
   "metadata": {
    "colab": {},
    "colab_type": "code",
    "executionInfo": {
     "elapsed": 1270,
     "status": "ok",
     "timestamp": 1598858812570,
     "user": {
      "displayName": "Ho Van Nghiem",
      "photoUrl": "",
      "userId": "17867822427606298916"
     },
     "user_tz": -420
    },
    "id": "20esHYvgGKZD"
   },
   "outputs": [],
   "source": [
    "Ordered_feats=['YearsCodingProf','YearsCoding','StackOverflowRecommend','StackOverflowJobsRecommend','CompanySize',\n",
    "              'CareerSatisfaction','Age','CheckInCode','StackOverflowParticipate','TimeFullyProductive','StackOverflowVisit',\n",
    "              'SurveyEasy','AgreeDisagree3','NumberMonitors','LastNewJob','AgreeDisagree2','AgreeDisagree1','AdsAgreeDisagree1',\n",
    "              'AdsAgreeDisagree2','AdsAgreeDisagree3','HypotheticalTools1','HypotheticalTools2','HypotheticalTools3','HypotheticalTools4',\n",
    "              'HypotheticalTools5','HoursComputer','HoursOutside','SkipMeals','Exercise','SurveyTooLong','FormalEducation','EducationParents','Country']"
   ]
  },
  {
   "cell_type": "code",
   "execution_count": 52,
   "metadata": {
    "colab": {},
    "colab_type": "code",
    "executionInfo": {
     "elapsed": 2167,
     "status": "ok",
     "timestamp": 1598858813470,
     "user": {
      "displayName": "Ho Van Nghiem",
      "photoUrl": "",
      "userId": "17867822427606298916"
     },
     "user_tz": -420
    },
    "id": "YQPsfZRlGKZF"
   },
   "outputs": [],
   "source": [
    "# Categorical values\n",
    "# Ordered\n",
    "cat_type_1 = CategoricalDtype(categories=['0-2 years', '3-5 years','6-8 years','9-11 years','12-14 years','15-17 years','18-20 years',\n",
    "                                        '21-23 years','24-26 years','27-29 years','30 or more years'], ordered=True)\n",
    "dataset['YearsCodingProf']=dataset['YearsCodingProf'].astype(cat_type_1).cat.codes\n",
    "\n",
    "cat_type_2 = CategoricalDtype(categories=['0-2 years', '3-5 years','6-8 years','9-11 years','12-14 years',\n",
    "                                       '15-17 years','18-20 years','21-23 years','24-26 years','27-29 years','30 or more years'],ordered=True)\n",
    "dataset['YearsCoding']=dataset['YearsCoding'].astype(cat_type_2).cat.codes\n",
    "\n",
    "cat_type_3 = CategoricalDtype(categories=['0 (Not Likely)', '1','2','3','4','5','6','7','8','9','10 (Very Likely)'],ordered=True)\n",
    "dataset['StackOverflowRecommend']=dataset['StackOverflowRecommend'].astype(cat_type_3).cat.codes\n",
    "dataset['StackOverflowJobsRecommend']=dataset['StackOverflowJobsRecommend'].astype(cat_type_3).cat.codes\n",
    "\n",
    "cat_type_4 = CategoricalDtype(categories=['Fewer than 10 employees', '10 to 19 employees','20 to 99 employees','100 to 499 employees','500 to 999 employees',\n",
    "                                          '1,000 to 4,999 employees','5,000 to 9,999 employees','10,000 or more employees'],ordered=True)\n",
    "dataset['CompanySize']=dataset['CompanySize'].astype(cat_type_4).cat.codes\n",
    "\n",
    "cat_type_5 = CategoricalDtype(categories=['Extremely dissatisfied', 'Moderately dissatisfied','Slightly dissatisfied','Neither satisfied nor dissatisfied',\n",
    "                                          'Slightly satisfied','Moderately satisfied','Extremely satisfied'],ordered=True)\n",
    "dataset['CareerSatisfaction']=dataset['CareerSatisfaction'].astype(cat_type_5).cat.codes\n",
    "\n",
    "cat_type_6 = CategoricalDtype(categories=['Under 18 years old', '18 - 24 years old','25 - 34 years old','35 - 44 years old','45 - 54 years old',\n",
    "                                           '55 - 64 years old','65 years or older'],ordered=True)\n",
    "dataset['Age']=dataset['Age'].astype(cat_type_6).cat.codes\n",
    "\n",
    "cat_type_7 = CategoricalDtype(categories=['Never', 'Less than once per month','Weekly or a few times per month','A few times per week',\n",
    "                                          'Once a day','Multiple times per day'],ordered=True)\n",
    "dataset['CheckInCode']=dataset['CheckInCode'].astype(cat_type_7).cat.codes\n",
    "\n",
    "cat_type_8 = CategoricalDtype(categories=['I have never participated in Q&A on Stack Overflow', 'Less than once per month or monthly','A few times per month or weekly',\n",
    "                                          'A few times per week','Daily or almost daily','Multiple times per day'],ordered=True)\n",
    "dataset['StackOverflowParticipate']=dataset['StackOverflowParticipate'].astype(cat_type_8).cat.codes\n",
    "\n",
    "cat_type_9 = CategoricalDtype(categories=['Less than a month', 'One to three months','Three to six months','Six to nine months',\n",
    "                                           'Nine months to a year','More than a year'],ordered=True)\n",
    "dataset['TimeFullyProductive']=dataset['TimeFullyProductive'].astype(cat_type_9).cat.codes\n",
    "\n",
    "cat_type_10 = CategoricalDtype(categories=['I have never visited Stack Overflow (before today)', 'Less than once per month or monthly','A few times per month or weekly',\n",
    "                                           'A few times per week','Daily or almost daily','Multiple times per day'],ordered=True)\n",
    "dataset['StackOverflowVisit']=dataset['StackOverflowVisit'].astype(cat_type_10).cat.codes\n",
    "\n",
    "cat_type_11 = CategoricalDtype(categories=['Very easy', 'Somewhat easy','Neither easy nor difficult','Somewhat difficult',\n",
    "                                            'Very difficult'],ordered=True)\n",
    "dataset['SurveyEasy']=dataset['SurveyEasy'].astype(cat_type_11).cat.codes\n",
    "\n",
    "cat_type_12 = CategoricalDtype(categories=['Strongly disagree', 'Disagree','Neither Agree nor Disagree','Agree',\n",
    "                                            'Strongly agree'],ordered=True)\n",
    "dataset['AgreeDisagree3']=dataset['AgreeDisagree3'].astype(cat_type_12).cat.codes\n",
    "\n",
    "cat_type_13 = CategoricalDtype(categories=['1', '2','3','4','More than 4'],ordered=True)\n",
    "dataset['NumberMonitors']=dataset['NumberMonitors'].astype(cat_type_13).cat.codes\n",
    "\n",
    "cat_type_14 = CategoricalDtype(categories=['I\\'ve never had a job', 'Less than a year ago','Between 1 and 2 years ago','Between 2 and 4 years ago',\n",
    "                                           'More than 4 years ago'],ordered=True)\n",
    "dataset['LastNewJob']=dataset['LastNewJob'].astype(cat_type_14).cat.codes\n",
    "\n",
    "cat_type_15 = CategoricalDtype(categories=['Strongly disagree', 'Disagree','Neither Agree nor Disagree','Agree','Strongly agree'],ordered=True)\n",
    "dataset['AgreeDisagree2']=dataset['AgreeDisagree2'].astype(cat_type_15).cat.codes\n",
    "\n",
    "cat_type_16 = CategoricalDtype(categories=['Strongly disagree', 'Disagree','Neither Agree nor Disagree','Agree','Strongly agree'],ordered=True)\n",
    "dataset['AgreeDisagree1']=dataset['AgreeDisagree1'].astype(cat_type_16).cat.codes\n",
    "\n",
    "cat_type_17 = CategoricalDtype(categories=['Strongly disagree', 'Somewhat disagree','Neither agree nor disagree','Somewhat agree','Strongly agree'],ordered=True)\n",
    "dataset['AdsAgreeDisagree1']=dataset['AdsAgreeDisagree1'].astype(cat_type_17).cat.codes\n",
    "dataset['AdsAgreeDisagree2']=dataset['AdsAgreeDisagree2'].astype(cat_type_17).cat.codes\n",
    "dataset['AdsAgreeDisagree3']=dataset['AdsAgreeDisagree3'].astype(cat_type_17).cat.codes\n",
    "\n",
    "cat_type_18 = CategoricalDtype(categories=['Not at all interested', 'A little bit interested','Somewhat interested','Very interested',\n",
    "                                           'Extremely interested'],ordered=True)\n",
    "dataset['HypotheticalTools1']=dataset['HypotheticalTools1'].astype(cat_type_18).cat.codes\n",
    "dataset['HypotheticalTools2']=dataset['HypotheticalTools2'].astype(cat_type_18).cat.codes\n",
    "dataset['HypotheticalTools3']=dataset['HypotheticalTools3'].astype(cat_type_18).cat.codes\n",
    "dataset['HypotheticalTools4']=dataset['HypotheticalTools4'].astype(cat_type_18).cat.codes\n",
    "dataset['HypotheticalTools5']=dataset['HypotheticalTools5'].astype(cat_type_18).cat.codes\n",
    "\n",
    "cat_type_19 = CategoricalDtype(categories=['Less than 1 hour', '1 - 4 hours','5 - 8 hours','9 - 12 hours','Over 12 hours'],ordered=True)\n",
    "dataset['HoursComputer']=dataset['HoursComputer'].astype(cat_type_19).cat.codes\n",
    "\n",
    "cat_type_20 = CategoricalDtype(categories=['Less than 30 minutes', '30 - 59 minutes','1 - 2 hours','3 - 4 hours','Over 4 hours'],ordered=True)\n",
    "dataset['HoursOutside']=dataset['HoursOutside'].astype(cat_type_20).cat.codes\n",
    "\n",
    "cat_type_21 = CategoricalDtype(categories=['Daily or almost every day', '3 - 4 times per week','1 - 2 times per week','Never'],ordered=True)\n",
    "dataset['SkipMeals']=dataset['SkipMeals'].astype(cat_type_21).cat.codes\n",
    "\n",
    "cat_type_22 = CategoricalDtype(categories=['I don\\'t typically exercise', '1 - 2 times per week','3 - 4 times per week','Daily or almost every day'],ordered=True)                                                                                 \n",
    "dataset['Exercise']=dataset['Exercise'].astype(cat_type_22).cat.codes\n",
    "\n",
    "cat_type_23 = CategoricalDtype(categories=['The survey was too long', 'The survey was an appropriate length','The survey was too short'],ordered=True)\n",
    "dataset['SurveyTooLong']=dataset['SurveyTooLong'].astype(cat_type_23).cat.codes\n",
    "\n",
    "cat_type_24 = CategoricalDtype(categories=['I never completed any formal education', 'Primary/elementary school','Secondary school (e.g. American high school, German Realschule or Gymnasium, etc.)',\n",
    "                                           'Some college/university study without earning a degree',\n",
    "                                           'Associate degree','Bachelor’s degree (BA, BS, B.Eng., etc.)','Master’s degree (MA, MS, M.Eng., MBA, etc.)',\n",
    "                                        'Professional degree (JD, MD, etc.)','Other doctoral degree (Ph.D, Ed.D., etc.)'],ordered=True)\n",
    "dataset['FormalEducation']=dataset['FormalEducation'].astype(cat_type_24).cat.codes\n",
    "\n",
    "\n",
    "cat_type_25 = CategoricalDtype(categories=['They never completed any formal education', 'Primary/elementary school','Secondary school (e.g. American high school, German Realschule or Gymnasium, etc.)',\n",
    "                                           'Some college/university study without earning a degree',\n",
    "                                           'Associate degree','Bachelor’s degree (BA, BS, B.Eng., etc.)','Master’s degree (MA, MS, M.Eng., MBA, etc.)',\n",
    "                                        'Professional degree (JD, MD, etc.)','Other doctoral degree (Ph.D, Ed.D., etc.)'],ordered=True)\n",
    "dataset['EducationParents']=dataset['EducationParents'].astype(cat_type_25).cat.codes"
   ]
  },
  {
   "cell_type": "markdown",
   "metadata": {
    "colab_type": "text",
    "id": "-0dM7iwrGKZG"
   },
   "source": [
    "For \"Country\" feature it has about 152 categories. It probably makes overfitting if it is transformed into a dummy variable. So we bin it into 7 groups ordered it based on average salary"
   ]
  },
  {
   "cell_type": "code",
   "execution_count": 53,
   "metadata": {
    "colab": {},
    "colab_type": "code",
    "executionInfo": {
     "elapsed": 2166,
     "status": "ok",
     "timestamp": 1598858813471,
     "user": {
      "displayName": "Ho Van Nghiem",
      "photoUrl": "",
      "userId": "17867822427606298916"
     },
     "user_tz": -420
    },
    "id": "hkv5_56TGKZG"
   },
   "outputs": [],
   "source": [
    "top1=['Botswana','Sierra Leone','United States','Qatar','Israel','Switzerland','Bahamas','Iceland','Denmark','Norway']\n",
    "top2=['Ireland','United Kingdom','New Zealand','Canada','Oman','Luxembourg','Libyan Arab Jamahiriya','Germany','Sweden',\n",
    "     'Finland','Netherlands','Japan','Austria','Singapore','Hong Kong (S.A.R.)']\n",
    "top3=['Belgium','France','Andorra','United Arab Emirates','South Korea','Other Country (Not Listed Above)','South Africa',\n",
    "     'Malta','Marshall Islands','Kuwait','Italy','Uruguay','Slovenia','Estonia','Costa Rica','Cyprus','Nicaragua']\n",
    "top4=['Spain','Lesotho','Liechtenstein','Republic of Korea','Saudi Arabia','Democratic Republic of the Congo',\n",
    "     'Madagascar','Czech Republic','Poland','Slovakia','Lithuania','Hungary','Romania','Chile','Latvia','Lebanon',\n",
    "     'Thailand','Taiwan','Bulgaria','Croatia','Panama','Greece']\n",
    "top5=['Portugal','China','Tajikistan','United Republic of Tanzania','Serbia','Turkey','Bosnia and Herzegovina','Argentina',\n",
    "     'Cameroon','Armenia','The former Yugoslav Republic of Macedonia','Belarus','Benin','Zimbabwe','Guatemala','Cambodia',\n",
    "     'Russian Federation','Morocco','Togo','Ecuador','Paraguay','Brazil','Ukraine','Jordan','Trinidad and Tobago','Dominican Republic',\n",
    "     'Colombia','Mexico','Malaysia','Montenegro','Barbados','Peru','Kenya']\n",
    "top6=['Republic of Moldova','Honduras','Azerbaijan','Senegal','Venezuela, Bolivarian Republic of...',\n",
    "     'Suriname','El Salvador','Rwanda','Viet Nam','Kazakhstan','Uzbekistan','Somalia','Uganda','India','Georgia','Mauritius',\n",
    "     'Namibia','Cuba','Mozambique','Maldives','Bangladesh','Albania','Philippines','Bolivia','Pakistan','Iran, Islamic Republic of...',\n",
    "     'Indonesia','Bahrain','Turkmenistan','Congo, Republic of the...','Egypt']\n",
    "top7=['Fiji','Ghana','Algeria','Syrian Arab Republic','Sri Lanka','Tunisia','Nigeria','Kyrgyzstan','Nepal','Ethiopia',\n",
    "     'Yemen','Sudan','Mongolia','Iraq','Myanmar','Bhutan','Gambia','Côte d\\'Ivoire','Jamaica','Eritrea','Zambia','Afghanistan','Monaco']"
   ]
  },
  {
   "cell_type": "code",
   "execution_count": 54,
   "metadata": {
    "colab": {},
    "colab_type": "code",
    "executionInfo": {
     "elapsed": 2164,
     "status": "ok",
     "timestamp": 1598858813471,
     "user": {
      "displayName": "Ho Van Nghiem",
      "photoUrl": "",
      "userId": "17867822427606298916"
     },
     "user_tz": -420
    },
    "id": "bF40Jb62GKZI"
   },
   "outputs": [],
   "source": [
    "country=[top1,top2,top3,top4,top5,top6,top7]"
   ]
  },
  {
   "cell_type": "code",
   "execution_count": 55,
   "metadata": {
    "colab": {},
    "colab_type": "code",
    "executionInfo": {
     "elapsed": 2164,
     "status": "ok",
     "timestamp": 1598858813472,
     "user": {
      "displayName": "Ho Van Nghiem",
      "photoUrl": "",
      "userId": "17867822427606298916"
     },
     "user_tz": -420
    },
    "id": "WZjCTa-eGKZK"
   },
   "outputs": [],
   "source": [
    "#function to group Country feature\n",
    "def convert(x,group):\n",
    "    for i,j in enumerate(group):\n",
    "        if x in j:\n",
    "            return i+1\n",
    "    return 6"
   ]
  },
  {
   "cell_type": "code",
   "execution_count": 56,
   "metadata": {
    "colab": {},
    "colab_type": "code",
    "executionInfo": {
     "elapsed": 3032,
     "status": "ok",
     "timestamp": 1598858814342,
     "user": {
      "displayName": "Ho Van Nghiem",
      "photoUrl": "",
      "userId": "17867822427606298916"
     },
     "user_tz": -420
    },
    "id": "Dz8CZB04GKZL"
   },
   "outputs": [],
   "source": [
    "dataset['Country']=dataset['Country'].apply(convert,group=country)"
   ]
  },
  {
   "cell_type": "markdown",
   "metadata": {
    "colab_type": "text",
    "id": "jU0GGtN7GKZN"
   },
   "source": [
    "#### 5.2.2 Non Ordered variables"
   ]
  },
  {
   "cell_type": "code",
   "execution_count": 57,
   "metadata": {
    "colab": {},
    "colab_type": "code",
    "executionInfo": {
     "elapsed": 3032,
     "status": "ok",
     "timestamp": 1598858814343,
     "user": {
      "displayName": "Ho Van Nghiem",
      "photoUrl": "",
      "userId": "17867822427606298916"
     },
     "user_tz": -420
    },
    "id": "iv5vErj2GKZN"
   },
   "outputs": [],
   "source": [
    "Non_ordered_feats=[col for col in option_choices_columns if col not in Ordered_feats]"
   ]
  },
  {
   "cell_type": "code",
   "execution_count": 58,
   "metadata": {
    "colab": {
     "base_uri": "https://localhost:8080/",
     "height": 547
    },
    "colab_type": "code",
    "executionInfo": {
     "elapsed": 3024,
     "status": "ok",
     "timestamp": 1598858814343,
     "user": {
      "displayName": "Ho Van Nghiem",
      "photoUrl": "",
      "userId": "17867822427606298916"
     },
     "user_tz": -420
    },
    "id": "9ak3XIwhGKZO",
    "outputId": "2e41c4e1-6f77-4c26-d18d-240ea9e598b6"
   },
   "outputs": [
    {
     "data": {
      "text/plain": [
       "['Hobby',\n",
       " 'OpenSource',\n",
       " 'Student',\n",
       " 'Employment',\n",
       " 'UndergradMajor',\n",
       " 'JobSatisfaction',\n",
       " 'HopeFiveYears',\n",
       " 'JobSearchStatus',\n",
       " 'UpdateCV',\n",
       " 'Currency',\n",
       " 'SalaryType',\n",
       " 'CurrencySymbol',\n",
       " 'OperatingSystem',\n",
       " 'AdBlocker',\n",
       " 'AdBlockerDisable',\n",
       " 'AIDangerous',\n",
       " 'AIInteresting',\n",
       " 'AIResponsible',\n",
       " 'AIFuture',\n",
       " 'EthicsChoice',\n",
       " 'EthicsReport',\n",
       " 'EthicsResponsible',\n",
       " 'EthicalImplications',\n",
       " 'StackOverflowHasAccount',\n",
       " 'StackOverflowJobs',\n",
       " 'StackOverflowDevStory',\n",
       " 'StackOverflowConsiderMember',\n",
       " 'WakeTime',\n",
       " 'Dependents',\n",
       " 'MilitaryUS']"
      ]
     },
     "execution_count": 58,
     "metadata": {
      "tags": []
     },
     "output_type": "execute_result"
    }
   ],
   "source": [
    "Non_ordered_feats"
   ]
  },
  {
   "cell_type": "markdown",
   "metadata": {
    "colab_type": "text",
    "id": "6R-6dkP0GKZQ"
   },
   "source": [
    "Let's transform them with into dummies variables and set the argument drop_firt=True to reduce reduce the collinearity."
   ]
  },
  {
   "cell_type": "code",
   "execution_count": 59,
   "metadata": {
    "colab": {},
    "colab_type": "code",
    "executionInfo": {
     "elapsed": 3024,
     "status": "ok",
     "timestamp": 1598858814344,
     "user": {
      "displayName": "Ho Van Nghiem",
      "photoUrl": "",
      "userId": "17867822427606298916"
     },
     "user_tz": -420
    },
    "id": "AH0PmGvkGKZR"
   },
   "outputs": [],
   "source": [
    "dataset = pd.get_dummies(dataset,columns=Non_ordered_feats,drop_first=True)"
   ]
  },
  {
   "cell_type": "code",
   "execution_count": 60,
   "metadata": {
    "colab": {
     "base_uri": "https://localhost:8080/",
     "height": 54
    },
    "colab_type": "code",
    "executionInfo": {
     "elapsed": 3020,
     "status": "ok",
     "timestamp": 1598858814344,
     "user": {
      "displayName": "Ho Van Nghiem",
      "photoUrl": "",
      "userId": "17867822427606298916"
     },
     "user_tz": -420
    },
    "id": "kL50YHIbGKZT",
    "outputId": "13b17e93-0275-4499-d96c-5fa99c9ab3a2"
   },
   "outputs": [
    {
     "data": {
      "text/plain": [
       "(45116, 610)"
      ]
     },
     "execution_count": 60,
     "metadata": {
      "tags": []
     },
     "output_type": "execute_result"
    }
   ],
   "source": [
    "dataset.shape"
   ]
  },
  {
   "cell_type": "markdown",
   "metadata": {
    "colab_type": "text",
    "id": "jZA0Jlb-GKZV"
   },
   "source": [
    "### 5.3 Normalization"
   ]
  },
  {
   "cell_type": "markdown",
   "metadata": {
    "colab_type": "text",
    "id": "mvToL1JBGKZV"
   },
   "source": [
    "Since, we have features with different scales, we need to normalize the data."
   ]
  },
  {
   "cell_type": "code",
   "execution_count": 61,
   "metadata": {
    "colab": {},
    "colab_type": "code",
    "executionInfo": {
     "elapsed": 1200,
     "status": "ok",
     "timestamp": 1598858818243,
     "user": {
      "displayName": "Ho Van Nghiem",
      "photoUrl": "",
      "userId": "17867822427606298916"
     },
     "user_tz": -420
    },
    "id": "sgFygk2pGKZY"
   },
   "outputs": [],
   "source": [
    "#apply standard scaler\n",
    "X_scaler = StandardScaler()\n",
    "X = X_scaler.fit_transform(dataset.values)"
   ]
  },
  {
   "cell_type": "code",
   "execution_count": 62,
   "metadata": {
    "colab": {},
    "colab_type": "code",
    "executionInfo": {
     "elapsed": 1198,
     "status": "ok",
     "timestamp": 1598858818244,
     "user": {
      "displayName": "Ho Van Nghiem",
      "photoUrl": "",
      "userId": "17867822427606298916"
     },
     "user_tz": -420
    },
    "id": "DVUjJHREGKZZ"
   },
   "outputs": [],
   "source": [
    "X_train = X[:train_len]\n",
    "X_test = X[train_len:]"
   ]
  },
  {
   "cell_type": "code",
   "execution_count": 63,
   "metadata": {
    "colab": {},
    "colab_type": "code",
    "executionInfo": {
     "elapsed": 1198,
     "status": "ok",
     "timestamp": 1598858818245,
     "user": {
      "displayName": "Ho Van Nghiem",
      "photoUrl": "",
      "userId": "17867822427606298916"
     },
     "user_tz": -420
    },
    "id": "tOlq0xThO3zD"
   },
   "outputs": [],
   "source": [
    "y_train=target.values"
   ]
  },
  {
   "cell_type": "code",
   "execution_count": 64,
   "metadata": {
    "colab": {
     "base_uri": "https://localhost:8080/",
     "height": 71
    },
    "colab_type": "code",
    "executionInfo": {
     "elapsed": 1191,
     "status": "ok",
     "timestamp": 1598858818245,
     "user": {
      "displayName": "Ho Van Nghiem",
      "photoUrl": "",
      "userId": "17867822427606298916"
     },
     "user_tz": -420
    },
    "id": "jAX-AB1TO47c",
    "outputId": "cf168303-47be-48b0-c350-da015f1f6d4a"
   },
   "outputs": [
    {
     "name": "stdout",
     "output_type": "stream",
     "text": [
      "(33857, 610)\n",
      "(33857,)\n"
     ]
    }
   ],
   "source": [
    "print(X_train.shape)\n",
    "print(y_train.shape)"
   ]
  },
  {
   "cell_type": "markdown",
   "metadata": {
    "colab_type": "text",
    "id": "PzMV31ILGKZf"
   },
   "source": [
    "## 6. Modeling"
   ]
  },
  {
   "cell_type": "markdown",
   "metadata": {
    "colab_type": "text",
    "id": "DRpjeY9pGKZf"
   },
   "source": [
    "### 6.1 Simple modeling"
   ]
  },
  {
   "cell_type": "markdown",
   "metadata": {
    "colab_type": "text",
    "id": "D3ZS5wPQGKZf"
   },
   "source": [
    "I choosed linear regression techniques. The very good points with theses techniques is that they do automatically the feature selection. No need to remove features."
   ]
  },
  {
   "cell_type": "code",
   "execution_count": 65,
   "metadata": {
    "colab": {},
    "colab_type": "code",
    "executionInfo": {
     "elapsed": 1725,
     "status": "ok",
     "timestamp": 1598858823347,
     "user": {
      "displayName": "Ho Van Nghiem",
      "photoUrl": "",
      "userId": "17867822427606298916"
     },
     "user_tz": -420
    },
    "id": "bN9SZ0LsGKZg"
   },
   "outputs": [],
   "source": [
    "lasso = Lasso() \n",
    "ridge = Ridge() \n"
   ]
  },
  {
   "cell_type": "markdown",
   "metadata": {
    "colab_type": "text",
    "id": "LgOoSkiIGKZh"
   },
   "source": [
    "#### 6.1.1 Fine tuning parameters"
   ]
  },
  {
   "cell_type": "code",
   "execution_count": 66,
   "metadata": {
    "colab": {},
    "colab_type": "code",
    "executionInfo": {
     "elapsed": 1723,
     "status": "ok",
     "timestamp": 1598858823348,
     "user": {
      "displayName": "Ho Van Nghiem",
      "photoUrl": "",
      "userId": "17867822427606298916"
     },
     "user_tz": -420
    },
    "id": "C8zhVmQrGKZi"
   },
   "outputs": [],
   "source": [
    "def plot_valscore(cv_instance,params,scale='log'):\n",
    "    train = -cv_instance.cv_results_['mean_train_score']\n",
    "    val = -cv_instance.cv_results_['mean_test_score']\n",
    "    fig, axes = plt.subplots()\n",
    "    axes.set_xlabel(\"Params\")\n",
    "    axes.set_ylabel(\"Score\")\n",
    "    axes.set_xscale(scale)\n",
    "    axes.plot(params, train, 'o-', color=\"r\",label=\"Training score\")\n",
    "    axes.plot(params, val, 'o-', color=\"g\",label=\"Validation score\")\n",
    "    axes.legend(loc=\"best\")\n",
    "    plt.show()"
   ]
  },
  {
   "cell_type": "code",
   "execution_count": null,
   "metadata": {
    "colab": {},
    "colab_type": "code",
    "id": "TgWGQm_NGKZj"
   },
   "outputs": [],
   "source": [
    "param_lasso = {'alpha':[1e-2,1,1e2,1e3]}\n",
    "lasso_cv = GridSearchCV(estimator=lasso,param_grid=param_lasso,cv=5,scoring=\"neg_root_mean_squared_error\",return_train_score=True)\n",
    "lasso_cv.fit(X_train,y_train)"
   ]
  },
  {
   "cell_type": "code",
   "execution_count": null,
   "metadata": {
    "colab": {},
    "colab_type": "code",
    "executionInfo": {
     "elapsed": 56,
     "status": "aborted",
     "timestamp": 1598858870183,
     "user": {
      "displayName": "Ho Van Nghiem",
      "photoUrl": "",
      "userId": "17867822427606298916"
     },
     "user_tz": -420
    },
    "id": "BCaw5NL9RMBV"
   },
   "outputs": [],
   "source": [
    "plot_valscore(lasso_cv,[1e-2,1,1e2,1e3])"
   ]
  },
  {
   "cell_type": "code",
   "execution_count": null,
   "metadata": {
    "colab": {},
    "colab_type": "code",
    "executionInfo": {
     "elapsed": 48,
     "status": "aborted",
     "timestamp": 1598858870184,
     "user": {
      "displayName": "Ho Van Nghiem",
      "photoUrl": "",
      "userId": "17867822427606298916"
     },
     "user_tz": -420
    },
    "id": "lD5B2XjbGKZk"
   },
   "outputs": [],
   "source": [
    "param_ridge = {'alpha':[1e-2,1,1e2,1e3]}\n",
    "ridge_cv = GridSearchCV(estimator=ridge,param_grid=param_ridge,cv=5,scoring=\"neg_root_mean_squared_error\",return_train_score=True)\n",
    "ridge_cv.fit(X_train,y_train)"
   ]
  },
  {
   "cell_type": "code",
   "execution_count": null,
   "metadata": {
    "colab": {},
    "colab_type": "code",
    "executionInfo": {
     "elapsed": 42,
     "status": "aborted",
     "timestamp": 1598858870185,
     "user": {
      "displayName": "Ho Van Nghiem",
      "photoUrl": "",
      "userId": "17867822427606298916"
     },
     "user_tz": -420
    },
    "id": "vlldoT7dSDgu"
   },
   "outputs": [],
   "source": [
    "plot_valscore(ridge_cv,[1e-2,1,1e2,1e3])"
   ]
  },
  {
   "cell_type": "markdown",
   "metadata": {
    "colab_type": "text",
    "id": "GbzZwZ3dQknm"
   },
   "source": [
    "#### 6.1.2 Features coefficients"
   ]
  },
  {
   "cell_type": "code",
   "execution_count": null,
   "metadata": {
    "colab": {},
    "colab_type": "code",
    "executionInfo": {
     "elapsed": 34,
     "status": "aborted",
     "timestamp": 1598858870186,
     "user": {
      "displayName": "Ho Van Nghiem",
      "photoUrl": "",
      "userId": "17867822427606298916"
     },
     "user_tz": -420
    },
    "id": "UZ93pOyXQonr"
   },
   "outputs": [],
   "source": [
    "features = dataset.columns"
   ]
  },
  {
   "cell_type": "code",
   "execution_count": null,
   "metadata": {
    "colab": {},
    "colab_type": "code",
    "executionInfo": {
     "elapsed": 27,
     "status": "aborted",
     "timestamp": 1598858870187,
     "user": {
      "displayName": "Ho Van Nghiem",
      "photoUrl": "",
      "userId": "17867822427606298916"
     },
     "user_tz": -420
    },
    "id": "yGRYBDUIb8sk"
   },
   "outputs": [],
   "source": [
    "lasso = Lasso(1e2).fit(X_train,y_train)\n",
    "ridge = Ridge(1).fit(X_train,y_train)"
   ]
  },
  {
   "cell_type": "code",
   "execution_count": null,
   "metadata": {
    "colab": {},
    "colab_type": "code",
    "executionInfo": {
     "elapsed": 19,
     "status": "aborted",
     "timestamp": 1598858870187,
     "user": {
      "displayName": "Ho Van Nghiem",
      "photoUrl": "",
      "userId": "17867822427606298916"
     },
     "user_tz": -420
    },
    "id": "fEbnEeTGGKZm"
   },
   "outputs": [],
   "source": [
    "print(\"Lasso regression has conserved %d features over %d\"%(len(features[lasso.coef_!=0]),X_train.shape[1]))\n",
    "print(\"Ridge regression has conserved %d features over %d\"%(len(features[ridge.coef_!=0]),X_train.shape[1]))"
   ]
  },
  {
   "cell_type": "markdown",
   "metadata": {
    "colab_type": "text",
    "id": "wDSG24VnUNlj"
   },
   "source": [
    "### 6.2 Tree based modeling"
   ]
  },
  {
   "cell_type": "code",
   "execution_count": null,
   "metadata": {
    "colab": {},
    "colab_type": "code",
    "id": "LMNPwe2vUmTF"
   },
   "outputs": [],
   "source": [
    "xgboost = xgb.XGBRegressor()\n",
    "lighgbm = lgb.LGBMRegressor()"
   ]
  },
  {
   "cell_type": "markdown",
   "metadata": {
    "colab_type": "text",
    "id": "9P15bsZFV37h"
   },
   "source": [
    "#### 6.2.1 Fine tuning for XGBoost parameters"
   ]
  },
  {
   "cell_type": "markdown",
   "metadata": {
    "colab_type": "text",
    "id": "t61Qj-qeW1jE"
   },
   "source": [
    "##### Set 1"
   ]
  },
  {
   "cell_type": "markdown",
   "metadata": {},
   "source": [
    "Fine tuning the n_estimators parameter"
   ]
  },
  {
   "cell_type": "code",
   "execution_count": null,
   "metadata": {
    "colab": {
     "base_uri": "https://localhost:8080/",
     "height": 561
    },
    "colab_type": "code",
    "executionInfo": {
     "elapsed": 560119,
     "status": "ok",
     "timestamp": 1598690317026,
     "user": {
      "displayName": "Ho Van Nghiem",
      "photoUrl": "",
      "userId": "17867822427606298916"
     },
     "user_tz": -420
    },
    "id": "03p04MzrGKZn",
    "outputId": "8d2cf937-bf18-4243-9711-bc2983745c60"
   },
   "outputs": [
    {
     "name": "stdout",
     "output_type": "stream",
     "text": [
      "[08:29:17] WARNING: /workspace/src/objective/regression_obj.cu:152: reg:linear is now deprecated in favor of reg:squarederror.\n",
      "[08:29:34] WARNING: /workspace/src/objective/regression_obj.cu:152: reg:linear is now deprecated in favor of reg:squarederror.\n",
      "[08:29:51] WARNING: /workspace/src/objective/regression_obj.cu:152: reg:linear is now deprecated in favor of reg:squarederror.\n",
      "[08:30:08] WARNING: /workspace/src/objective/regression_obj.cu:152: reg:linear is now deprecated in favor of reg:squarederror.\n",
      "[08:30:26] WARNING: /workspace/src/objective/regression_obj.cu:152: reg:linear is now deprecated in favor of reg:squarederror.\n",
      "[08:30:43] WARNING: /workspace/src/objective/regression_obj.cu:152: reg:linear is now deprecated in favor of reg:squarederror.\n",
      "[08:31:16] WARNING: /workspace/src/objective/regression_obj.cu:152: reg:linear is now deprecated in favor of reg:squarederror.\n",
      "[08:31:49] WARNING: /workspace/src/objective/regression_obj.cu:152: reg:linear is now deprecated in favor of reg:squarederror.\n",
      "[08:32:22] WARNING: /workspace/src/objective/regression_obj.cu:152: reg:linear is now deprecated in favor of reg:squarederror.\n",
      "[08:32:55] WARNING: /workspace/src/objective/regression_obj.cu:152: reg:linear is now deprecated in favor of reg:squarederror.\n",
      "[08:33:28] WARNING: /workspace/src/objective/regression_obj.cu:152: reg:linear is now deprecated in favor of reg:squarederror.\n",
      "[08:34:17] WARNING: /workspace/src/objective/regression_obj.cu:152: reg:linear is now deprecated in favor of reg:squarederror.\n",
      "[08:35:06] WARNING: /workspace/src/objective/regression_obj.cu:152: reg:linear is now deprecated in favor of reg:squarederror.\n",
      "[08:35:54] WARNING: /workspace/src/objective/regression_obj.cu:152: reg:linear is now deprecated in favor of reg:squarederror.\n",
      "[08:36:44] WARNING: /workspace/src/objective/regression_obj.cu:152: reg:linear is now deprecated in favor of reg:squarederror.\n",
      "[08:37:35] WARNING: /workspace/src/objective/regression_obj.cu:152: reg:linear is now deprecated in favor of reg:squarederror.\n"
     ]
    },
    {
     "data": {
      "text/plain": [
       "GridSearchCV(cv=5, error_score=nan,\n",
       "             estimator=XGBRegressor(base_score=0.5, booster='gbtree',\n",
       "                                    colsample_bylevel=1, colsample_bynode=1,\n",
       "                                    colsample_bytree=1, gamma=0,\n",
       "                                    importance_type='gain', learning_rate=0.1,\n",
       "                                    max_delta_step=0, max_depth=3,\n",
       "                                    min_child_weight=1, missing=None,\n",
       "                                    n_estimators=100, n_jobs=1, nthread=None,\n",
       "                                    objective='reg:linear', random_state=0,\n",
       "                                    reg_alpha=0, reg_lambda=1,\n",
       "                                    scale_pos_weight=1, seed=None, silent=None,\n",
       "                                    subsample=1, verbosity=1),\n",
       "             iid='deprecated', n_jobs=None,\n",
       "             param_grid={'n_estimators': [50, 100, 150]},\n",
       "             pre_dispatch='2*n_jobs', refit=True, return_train_score=True,\n",
       "             scoring='neg_root_mean_squared_error', verbose=0)"
      ]
     },
     "execution_count": 286,
     "metadata": {
      "tags": []
     },
     "output_type": "execute_result"
    }
   ],
   "source": [
    "param_xgb = {'n_estimators':[50,100,150]}\n",
    "xgboost_cv = GridSearchCV(estimator=xgboost,param_grid=param_xgb,cv=5,scoring=\"neg_root_mean_squared_error\",return_train_score=True)\n",
    "xgboost_cv.fit(X_train,y_train)"
   ]
  },
  {
   "cell_type": "code",
   "execution_count": null,
   "metadata": {
    "colab": {
     "base_uri": "https://localhost:8080/",
     "height": 285
    },
    "colab_type": "code",
    "executionInfo": {
     "elapsed": 5246,
     "status": "ok",
     "timestamp": 1598690339124,
     "user": {
      "displayName": "Ho Van Nghiem",
      "photoUrl": "",
      "userId": "17867822427606298916"
     },
     "user_tz": -420
    },
    "id": "MbAn_VdVGKZo",
    "outputId": "d300b47b-b3be-4854-8820-5de4e3c9b310"
   },
   "outputs": [
    {
     "data": {
      "image/png": "[encoded data removed]",
      "text/plain": [
       "<Figure size 432x288 with 1 Axes>"
      ]
     },
     "metadata": {
      "needs_background": "light",
      "tags": []
     },
     "output_type": "display_data"
    }
   ],
   "source": [
    "plot_valscore(xgboost_cv,[50,100,150],scale='linear')"
   ]
  },
  {
   "cell_type": "code",
   "execution_count": null,
   "metadata": {
    "colab": {
     "base_uri": "https://localhost:8080/",
     "height": 34
    },
    "colab_type": "code",
    "executionInfo": {
     "elapsed": 1390,
     "status": "ok",
     "timestamp": 1598691663675,
     "user": {
      "displayName": "Ho Van Nghiem",
      "photoUrl": "",
      "userId": "17867822427606298916"
     },
     "user_tz": -420
    },
    "id": "IOCm49Mecj61",
    "outputId": "114b44e3-a2b6-4a86-e3bf-2ed4afbd490f"
   },
   "outputs": [
    {
     "data": {
      "text/plain": [
       "-21614.949011227884"
      ]
     },
     "execution_count": 292,
     "metadata": {
      "tags": []
     },
     "output_type": "execute_result"
    }
   ],
   "source": [
    "xgboost_cv.best_score_"
   ]
  },
  {
   "cell_type": "markdown",
   "metadata": {},
   "source": [
    "When increasing the number of trees on the model, both the training and validation score is decreased. So we increase that parameter continue"
   ]
  },
  {
   "cell_type": "markdown",
   "metadata": {
    "colab_type": "text",
    "id": "otGz51hZXEYG"
   },
   "source": [
    "##### Set 2"
   ]
  },
  {
   "cell_type": "markdown",
   "metadata": {},
   "source": [
    "Fine tuning the n_estimators parameter"
   ]
  },
  {
   "cell_type": "code",
   "execution_count": null,
   "metadata": {
    "colab": {
     "base_uri": "https://localhost:8080/",
     "height": 561
    },
    "colab_type": "code",
    "executionInfo": {
     "elapsed": 1084814,
     "status": "ok",
     "timestamp": 1598691548633,
     "user": {
      "displayName": "Ho Van Nghiem",
      "photoUrl": "",
      "userId": "17867822427606298916"
     },
     "user_tz": -420
    },
    "id": "rIulndnKGKZp",
    "outputId": "31b3da8f-c0ce-476e-be79-60750cc4a552"
   },
   "outputs": [
    {
     "name": "stdout",
     "output_type": "stream",
     "text": [
      "[08:41:04] WARNING: /workspace/src/objective/regression_obj.cu:152: reg:linear is now deprecated in favor of reg:squarederror.\n",
      "[08:41:54] WARNING: /workspace/src/objective/regression_obj.cu:152: reg:linear is now deprecated in favor of reg:squarederror.\n",
      "[08:42:43] WARNING: /workspace/src/objective/regression_obj.cu:152: reg:linear is now deprecated in favor of reg:squarederror.\n",
      "[08:43:33] WARNING: /workspace/src/objective/regression_obj.cu:152: reg:linear is now deprecated in favor of reg:squarederror.\n",
      "[08:44:22] WARNING: /workspace/src/objective/regression_obj.cu:152: reg:linear is now deprecated in favor of reg:squarederror.\n",
      "[08:45:11] WARNING: /workspace/src/objective/regression_obj.cu:152: reg:linear is now deprecated in favor of reg:squarederror.\n",
      "[08:46:16] WARNING: /workspace/src/objective/regression_obj.cu:152: reg:linear is now deprecated in favor of reg:squarederror.\n",
      "[08:47:23] WARNING: /workspace/src/objective/regression_obj.cu:152: reg:linear is now deprecated in favor of reg:squarederror.\n",
      "[08:48:29] WARNING: /workspace/src/objective/regression_obj.cu:152: reg:linear is now deprecated in favor of reg:squarederror.\n",
      "[08:49:34] WARNING: /workspace/src/objective/regression_obj.cu:152: reg:linear is now deprecated in favor of reg:squarederror.\n",
      "[08:50:39] WARNING: /workspace/src/objective/regression_obj.cu:152: reg:linear is now deprecated in favor of reg:squarederror.\n",
      "[08:52:00] WARNING: /workspace/src/objective/regression_obj.cu:152: reg:linear is now deprecated in favor of reg:squarederror.\n",
      "[08:53:21] WARNING: /workspace/src/objective/regression_obj.cu:152: reg:linear is now deprecated in favor of reg:squarederror.\n",
      "[08:54:42] WARNING: /workspace/src/objective/regression_obj.cu:152: reg:linear is now deprecated in favor of reg:squarederror.\n",
      "[08:56:03] WARNING: /workspace/src/objective/regression_obj.cu:152: reg:linear is now deprecated in favor of reg:squarederror.\n",
      "[08:57:27] WARNING: /workspace/src/objective/regression_obj.cu:152: reg:linear is now deprecated in favor of reg:squarederror.\n"
     ]
    },
    {
     "data": {
      "text/plain": [
       "GridSearchCV(cv=5, error_score=nan,\n",
       "             estimator=XGBRegressor(base_score=0.5, booster='gbtree',\n",
       "                                    colsample_bylevel=1, colsample_bynode=1,\n",
       "                                    colsample_bytree=1, gamma=0,\n",
       "                                    importance_type='gain', learning_rate=0.1,\n",
       "                                    max_delta_step=0, max_depth=3,\n",
       "                                    min_child_weight=1, missing=None,\n",
       "                                    n_estimators=100, n_jobs=1, nthread=None,\n",
       "                                    objective='reg:linear', random_state=0,\n",
       "                                    reg_alpha=0, reg_lambda=1,\n",
       "                                    scale_pos_weight=1, seed=None, silent=None,\n",
       "                                    subsample=1, verbosity=1),\n",
       "             iid='deprecated', n_jobs=None,\n",
       "             param_grid={'n_estimators': [150, 200, 250]},\n",
       "             pre_dispatch='2*n_jobs', refit=True, return_train_score=True,\n",
       "             scoring='neg_root_mean_squared_error', verbose=0)"
      ]
     },
     "execution_count": 288,
     "metadata": {
      "tags": []
     },
     "output_type": "execute_result"
    }
   ],
   "source": [
    "xgboost_set2 = xgb.XGBRegressor()\n",
    "param_xgb_set2 = {'n_estimators':[150,200,250]}\n",
    "xgboost_cv_set2 = GridSearchCV(estimator=xgboost_set2,param_grid=param_xgb_set2,cv=5,scoring=\"neg_root_mean_squared_error\",return_train_score=True)\n",
    "xgboost_cv_set2.fit(X_train,y_train)"
   ]
  },
  {
   "cell_type": "code",
   "execution_count": null,
   "metadata": {
    "colab": {
     "base_uri": "https://localhost:8080/",
     "height": 285
    },
    "colab_type": "code",
    "executionInfo": {
     "elapsed": 1188,
     "status": "ok",
     "timestamp": 1598691596769,
     "user": {
      "displayName": "Ho Van Nghiem",
      "photoUrl": "",
      "userId": "17867822427606298916"
     },
     "user_tz": -420
    },
    "id": "Uj0vk69QGKZr",
    "outputId": "cd2a379d-5962-45a7-dab0-40496d9cb0c8"
   },
   "outputs": [
    {
     "data": {
      "image/png": "[encoded data removed]",
      "text/plain": [
       "<Figure size 432x288 with 1 Axes>"
      ]
     },
     "metadata": {
      "needs_background": "light",
      "tags": []
     },
     "output_type": "display_data"
    }
   ],
   "source": [
    "plot_valscore(xgboost_cv_set2,[150,200,250],scale='linear')"
   ]
  },
  {
   "cell_type": "code",
   "execution_count": null,
   "metadata": {
    "colab": {
     "base_uri": "https://localhost:8080/",
     "height": 34
    },
    "colab_type": "code",
    "executionInfo": {
     "elapsed": 2459,
     "status": "ok",
     "timestamp": 1598691684825,
     "user": {
      "displayName": "Ho Van Nghiem",
      "photoUrl": "",
      "userId": "17867822427606298916"
     },
     "user_tz": -420
    },
    "id": "aM6RrbUEcvtT",
    "outputId": "d09ac35e-9268-412e-cd6f-2375bd193548"
   },
   "outputs": [
    {
     "data": {
      "text/plain": [
       "-21255.184783995865"
      ]
     },
     "execution_count": 293,
     "metadata": {
      "tags": []
     },
     "output_type": "execute_result"
    }
   ],
   "source": [
    "xgboost_cv_set2.best_score_"
   ]
  },
  {
   "cell_type": "markdown",
   "metadata": {},
   "source": [
    "The model tends to be overfitting when the number of trees is large"
   ]
  },
  {
   "cell_type": "markdown",
   "metadata": {
    "colab_type": "text",
    "id": "HLeNN5CkYb7h"
   },
   "source": [
    "#### Set 3"
   ]
  },
  {
   "cell_type": "markdown",
   "metadata": {},
   "source": [
    "Fine tuning the learning_rate parameter"
   ]
  },
  {
   "cell_type": "code",
   "execution_count": null,
   "metadata": {
    "colab": {
     "base_uri": "https://localhost:8080/",
     "height": 561
    },
    "colab_type": "code",
    "executionInfo": {
     "elapsed": 1260363,
     "status": "ok",
     "timestamp": 1598791651176,
     "user": {
      "displayName": "Ho Van Nghiem",
      "photoUrl": "",
      "userId": "17867822427606298916"
     },
     "user_tz": -420
    },
    "id": "kFwA4tUBGKZs",
    "outputId": "a6dd4b93-1020-429b-eeb2-d8a73dbeafd7"
   },
   "outputs": [
    {
     "name": "stdout",
     "output_type": "stream",
     "text": [
      "[12:26:31] WARNING: /workspace/src/objective/regression_obj.cu:152: reg:linear is now deprecated in favor of reg:squarederror.\n",
      "[12:27:51] WARNING: /workspace/src/objective/regression_obj.cu:152: reg:linear is now deprecated in favor of reg:squarederror.\n",
      "[12:29:11] WARNING: /workspace/src/objective/regression_obj.cu:152: reg:linear is now deprecated in favor of reg:squarederror.\n",
      "[12:30:29] WARNING: /workspace/src/objective/regression_obj.cu:152: reg:linear is now deprecated in favor of reg:squarederror.\n",
      "[12:31:48] WARNING: /workspace/src/objective/regression_obj.cu:152: reg:linear is now deprecated in favor of reg:squarederror.\n",
      "[12:33:06] WARNING: /workspace/src/objective/regression_obj.cu:152: reg:linear is now deprecated in favor of reg:squarederror.\n",
      "[12:34:23] WARNING: /workspace/src/objective/regression_obj.cu:152: reg:linear is now deprecated in favor of reg:squarederror.\n",
      "[12:35:41] WARNING: /workspace/src/objective/regression_obj.cu:152: reg:linear is now deprecated in favor of reg:squarederror.\n",
      "[12:36:57] WARNING: /workspace/src/objective/regression_obj.cu:152: reg:linear is now deprecated in favor of reg:squarederror.\n",
      "[12:38:14] WARNING: /workspace/src/objective/regression_obj.cu:152: reg:linear is now deprecated in favor of reg:squarederror.\n",
      "[12:39:31] WARNING: /workspace/src/objective/regression_obj.cu:152: reg:linear is now deprecated in favor of reg:squarederror.\n",
      "[12:40:47] WARNING: /workspace/src/objective/regression_obj.cu:152: reg:linear is now deprecated in favor of reg:squarederror.\n",
      "[12:42:03] WARNING: /workspace/src/objective/regression_obj.cu:152: reg:linear is now deprecated in favor of reg:squarederror.\n",
      "[12:43:21] WARNING: /workspace/src/objective/regression_obj.cu:152: reg:linear is now deprecated in favor of reg:squarederror.\n",
      "[12:44:37] WARNING: /workspace/src/objective/regression_obj.cu:152: reg:linear is now deprecated in favor of reg:squarederror.\n",
      "[12:45:53] WARNING: /workspace/src/objective/regression_obj.cu:152: reg:linear is now deprecated in favor of reg:squarederror.\n"
     ]
    },
    {
     "data": {
      "text/plain": [
       "GridSearchCV(cv=5, error_score=nan,\n",
       "             estimator=XGBRegressor(base_score=0.5, booster='gbtree',\n",
       "                                    colsample_bylevel=1, colsample_bynode=1,\n",
       "                                    colsample_bytree=1, gamma=0,\n",
       "                                    importance_type='gain', learning_rate=0.1,\n",
       "                                    max_delta_step=0, max_depth=3,\n",
       "                                    min_child_weight=1, missing=None,\n",
       "                                    n_estimators=250, n_jobs=1, nthread=None,\n",
       "                                    objective='reg:linear', random_state=0,\n",
       "                                    reg_alpha=0, reg_lambda=1,\n",
       "                                    scale_pos_weight=1, seed=None, silent=None,\n",
       "                                    subsample=1, verbosity=1),\n",
       "             iid='deprecated', n_jobs=None,\n",
       "             param_grid={'learning_rate': [0.1, 0.2, 0.3]},\n",
       "             pre_dispatch='2*n_jobs', refit=True, return_train_score=True,\n",
       "             scoring='neg_root_mean_squared_error', verbose=0)"
      ]
     },
     "execution_count": 70,
     "metadata": {
      "tags": []
     },
     "output_type": "execute_result"
    }
   ],
   "source": [
    "xgboost_set3= xgb.XGBRegressor(n_estimators=250)\n",
    "param_xgb_set3 = {'learning_rate':[0.1,0.2,0.3]}\n",
    "xgboost_cv_set3 = GridSearchCV(estimator=xgboost_set3,param_grid=param_xgb_set3,cv=5,scoring=\"neg_root_mean_squared_error\",return_train_score=True)\n",
    "xgboost_cv_set3.fit(X_train,y_train)"
   ]
  },
  {
   "cell_type": "code",
   "execution_count": null,
   "metadata": {
    "colab": {
     "base_uri": "https://localhost:8080/",
     "height": 285
    },
    "colab_type": "code",
    "executionInfo": {
     "elapsed": 1757,
     "status": "ok",
     "timestamp": 1598792840810,
     "user": {
      "displayName": "Ho Van Nghiem",
      "photoUrl": "",
      "userId": "17867822427606298916"
     },
     "user_tz": -420
    },
    "id": "KA0rIc_DGKZt",
    "outputId": "bbc28788-e862-4061-e32e-7f6f3bbb26b3"
   },
   "outputs": [
    {
     "data": {
      "image/png": "[encoded data removed]",
      "text/plain": [
       "<Figure size 432x288 with 1 Axes>"
      ]
     },
     "metadata": {
      "needs_background": "light",
      "tags": []
     },
     "output_type": "display_data"
    }
   ],
   "source": [
    "plot_valscore(xgboost_cv_set3,[0.1,0.2,0.3],scale='linear')"
   ]
  },
  {
   "cell_type": "code",
   "execution_count": null,
   "metadata": {
    "colab": {
     "base_uri": "https://localhost:8080/",
     "height": 34
    },
    "colab_type": "code",
    "executionInfo": {
     "elapsed": 1936,
     "status": "ok",
     "timestamp": 1598791822154,
     "user": {
      "displayName": "Ho Van Nghiem",
      "photoUrl": "",
      "userId": "17867822427606298916"
     },
     "user_tz": -420
    },
    "id": "XTP_96QzVGrv",
    "outputId": "797de0d6-cb2d-4301-8e41-463778fb4bad"
   },
   "outputs": [
    {
     "data": {
      "text/plain": [
       "-21041.890311095696"
      ]
     },
     "execution_count": 72,
     "metadata": {
      "tags": []
     },
     "output_type": "execute_result"
    }
   ],
   "source": [
    "xgboost_cv_set3.best_score_"
   ]
  },
  {
   "cell_type": "markdown",
   "metadata": {},
   "source": [
    "The model tends to be overfitting when increasing the value for that parameter"
   ]
  },
  {
   "cell_type": "markdown",
   "metadata": {
    "colab_type": "text",
    "id": "Nxvh28GAYvuM"
   },
   "source": [
    "#### Set 4"
   ]
  },
  {
   "cell_type": "markdown",
   "metadata": {},
   "source": [
    "Due to the model is on overfitting, we will try with the regularization parameter to check whether this parameter can help the model is better?"
   ]
  },
  {
   "cell_type": "code",
   "execution_count": null,
   "metadata": {
    "colab": {
     "base_uri": "https://localhost:8080/"
    },
    "colab_type": "code",
    "executionInfo": {
     "elapsed": 1289407,
     "status": "ok",
     "timestamp": 1598794154644,
     "user": {
      "displayName": "Ho Van Nghiem",
      "photoUrl": "",
      "userId": "17867822427606298916"
     },
     "user_tz": -420
    },
    "id": "x3_ECktaYui_",
    "outputId": "ebf97b8a-c114-4c2a-bbb2-36e9e6f0be96"
   },
   "outputs": [
    {
     "name": "stdout",
     "output_type": "stream",
     "text": [
      "[13:07:45] WARNING: /workspace/src/objective/regression_obj.cu:152: reg:linear is now deprecated in favor of reg:squarederror.\n",
      "[13:09:04] WARNING: /workspace/src/objective/regression_obj.cu:152: reg:linear is now deprecated in favor of reg:squarederror.\n",
      "[13:10:23] WARNING: /workspace/src/objective/regression_obj.cu:152: reg:linear is now deprecated in favor of reg:squarederror.\n",
      "[13:11:42] WARNING: /workspace/src/objective/regression_obj.cu:152: reg:linear is now deprecated in favor of reg:squarederror.\n",
      "[13:13:02] WARNING: /workspace/src/objective/regression_obj.cu:152: reg:linear is now deprecated in favor of reg:squarederror.\n",
      "[13:14:21] WARNING: /workspace/src/objective/regression_obj.cu:152: reg:linear is now deprecated in favor of reg:squarederror.\n",
      "[13:15:41] WARNING: /workspace/src/objective/regression_obj.cu:152: reg:linear is now deprecated in favor of reg:squarederror.\n",
      "[13:17:00] WARNING: /workspace/src/objective/regression_obj.cu:152: reg:linear is now deprecated in favor of reg:squarederror.\n",
      "[13:18:19] WARNING: /workspace/src/objective/regression_obj.cu:152: reg:linear is now deprecated in favor of reg:squarederror.\n",
      "[13:19:39] WARNING: /workspace/src/objective/regression_obj.cu:152: reg:linear is now deprecated in favor of reg:squarederror.\n",
      "[13:20:58] WARNING: /workspace/src/objective/regression_obj.cu:152: reg:linear is now deprecated in favor of reg:squarederror.\n",
      "[13:22:17] WARNING: /workspace/src/objective/regression_obj.cu:152: reg:linear is now deprecated in favor of reg:squarederror.\n",
      "[13:23:36] WARNING: /workspace/src/objective/regression_obj.cu:152: reg:linear is now deprecated in favor of reg:squarederror.\n",
      "[13:24:56] WARNING: /workspace/src/objective/regression_obj.cu:152: reg:linear is now deprecated in favor of reg:squarederror.\n",
      "[13:26:15] WARNING: /workspace/src/objective/regression_obj.cu:152: reg:linear is now deprecated in favor of reg:squarederror.\n",
      "[13:27:35] WARNING: /workspace/src/objective/regression_obj.cu:152: reg:linear is now deprecated in favor of reg:squarederror.\n"
     ]
    },
    {
     "data": {
      "text/plain": [
       "GridSearchCV(cv=5, error_score=nan,\n",
       "             estimator=XGBRegressor(base_score=0.5, booster='gbtree',\n",
       "                                    colsample_bylevel=1, colsample_bynode=1,\n",
       "                                    colsample_bytree=1, gamma=0,\n",
       "                                    importance_type='gain', learning_rate=0.2,\n",
       "                                    max_delta_step=0, max_depth=3,\n",
       "                                    min_child_weight=1, missing=None,\n",
       "                                    n_estimators=250, n_jobs=1, nthread=None,\n",
       "                                    objective='reg:linear', random_state=0,\n",
       "                                    reg_alpha=0, reg_lambda=1,\n",
       "                                    scale_pos_weight=1, seed=None, silent=None,\n",
       "                                    subsample=1, verbosity=1),\n",
       "             iid='deprecated', n_jobs=None,\n",
       "             param_grid={'reg_alpha': [0.01, 1, 100.0]},\n",
       "             pre_dispatch='2*n_jobs', refit=True, return_train_score=True,\n",
       "             scoring='neg_root_mean_squared_error', verbose=0)"
      ]
     },
     "execution_count": 74,
     "metadata": {
      "tags": []
     },
     "output_type": "execute_result"
    }
   ],
   "source": [
    "xgboost_set4= xgb.XGBRegressor(n_estimators=250,learning_rate=0.2)\n",
    "param_xgb_set4 = {'reg_alpha':[1e-2,1,1e2]}\n",
    "xgboost_cv_set4 = GridSearchCV(estimator=xgboost_set4,param_grid=param_xgb_set4,cv=5,scoring=\"neg_root_mean_squared_error\",return_train_score=True)\n",
    "xgboost_cv_set4.fit(X_train,y_train)"
   ]
  },
  {
   "cell_type": "code",
   "execution_count": null,
   "metadata": {
    "colab": {
     "base_uri": "https://localhost:8080/",
     "height": 291
    },
    "colab_type": "code",
    "executionInfo": {
     "elapsed": 2781,
     "status": "ok",
     "timestamp": 1598794766483,
     "user": {
      "displayName": "Ho Van Nghiem",
      "photoUrl": "",
      "userId": "17867822427606298916"
     },
     "user_tz": -420
    },
    "id": "5FGdx5dYGKZv",
    "outputId": "fe69a6e2-8553-498a-e6ae-709670fba35f"
   },
   "outputs": [
    {
     "data": {
      "image/png": "[encoded data removed]",
      "text/plain": [
       "<Figure size 432x288 with 1 Axes>"
      ]
     },
     "metadata": {
      "needs_background": "light",
      "tags": []
     },
     "output_type": "display_data"
    }
   ],
   "source": [
    "plot_valscore(xgboost_cv_set4,[1e-2,1,1e2])"
   ]
  },
  {
   "cell_type": "markdown",
   "metadata": {},
   "source": [
    "That parameter does not affect when changing the value..."
   ]
  },
  {
   "cell_type": "markdown",
   "metadata": {
    "colab_type": "text",
    "id": "lcSKs_tRZ_r7"
   },
   "source": [
    "#### 6.2.2 Fine tuning for LighGBM parameters"
   ]
  },
  {
   "cell_type": "markdown",
   "metadata": {
    "colab_type": "text",
    "id": "cfQgXeM8aEZn"
   },
   "source": [
    "#### Set 1"
   ]
  },
  {
   "cell_type": "markdown",
   "metadata": {},
   "source": [
    "Fine tuning the n_estimators parameter"
   ]
  },
  {
   "cell_type": "code",
   "execution_count": 71,
   "metadata": {
    "colab": {
     "base_uri": "https://localhost:8080/",
     "height": 272
    },
    "colab_type": "code",
    "executionInfo": {
     "elapsed": 156626,
     "status": "ok",
     "timestamp": 1598859490979,
     "user": {
      "displayName": "Ho Van Nghiem",
      "photoUrl": "",
      "userId": "17867822427606298916"
     },
     "user_tz": -420
    },
    "id": "ZmeWEpglGKZv",
    "outputId": "5d5343a3-e6c4-463e-d7c9-2a8c2b969ebc"
   },
   "outputs": [
    {
     "data": {
      "text/plain": [
       "GridSearchCV(cv=5, error_score=nan,\n",
       "             estimator=LGBMRegressor(boosting_type='gbdt', class_weight=None,\n",
       "                                     colsample_bytree=1.0,\n",
       "                                     importance_type='split', learning_rate=0.1,\n",
       "                                     max_depth=-1, min_child_samples=20,\n",
       "                                     min_child_weight=0.001, min_split_gain=0.0,\n",
       "                                     n_estimators=100, n_jobs=-1, num_leaves=31,\n",
       "                                     objective=None, random_state=None,\n",
       "                                     reg_alpha=0.0, reg_lambda=0.0, silent=True,\n",
       "                                     subsample=1.0, subsample_for_bin=200000,\n",
       "                                     subsample_freq=0),\n",
       "             iid='deprecated', n_jobs=None,\n",
       "             param_grid={'n_estimators': [50, 100, 150]},\n",
       "             pre_dispatch='2*n_jobs', refit=True, return_train_score=True,\n",
       "             scoring='neg_root_mean_squared_error', verbose=0)"
      ]
     },
     "execution_count": 71,
     "metadata": {
      "tags": []
     },
     "output_type": "execute_result"
    }
   ],
   "source": [
    "lgbm_set1 = lgb.LGBMRegressor()\n",
    "param_lgbm_set1 = {'n_estimators':[50,100,150]}\n",
    "lgbm_cv_set1 = GridSearchCV(estimator=lgbm_set1,param_grid=param_lgbm_set1,cv=5,scoring=\"neg_root_mean_squared_error\",return_train_score=True)\n",
    "lgbm_cv_set1.fit(X_train,y_train)"
   ]
  },
  {
   "cell_type": "code",
   "execution_count": 72,
   "metadata": {
    "colab": {
     "base_uri": "https://localhost:8080/",
     "height": 285
    },
    "colab_type": "code",
    "executionInfo": {
     "elapsed": 1162,
     "status": "ok",
     "timestamp": 1598859547971,
     "user": {
      "displayName": "Ho Van Nghiem",
      "photoUrl": "",
      "userId": "17867822427606298916"
     },
     "user_tz": -420
    },
    "id": "jUQH7Cv4aoKn",
    "outputId": "e360662f-fb6b-4611-98a7-ae5f813ca4f3"
   },
   "outputs": [
    {
     "data": {
      "image/png": "[encoded data removed]",
      "text/plain": [
       "<Figure size 432x288 with 1 Axes>"
      ]
     },
     "metadata": {
      "needs_background": "light",
      "tags": []
     },
     "output_type": "display_data"
    }
   ],
   "source": [
    "plot_valscore(lgbm_cv_set1,[50,100,150],scale='linear')"
   ]
  },
  {
   "cell_type": "code",
   "execution_count": 73,
   "metadata": {
    "colab": {
     "base_uri": "https://localhost:8080/",
     "height": 34
    },
    "colab_type": "code",
    "executionInfo": {
     "elapsed": 890,
     "status": "ok",
     "timestamp": 1598859554833,
     "user": {
      "displayName": "Ho Van Nghiem",
      "photoUrl": "",
      "userId": "17867822427606298916"
     },
     "user_tz": -420
    },
    "id": "ADNIU0Ozb_ZT",
    "outputId": "272846ea-4ad9-4d44-9a78-6011e22c6be6"
   },
   "outputs": [
    {
     "data": {
      "text/plain": [
       "-20805.52964809963"
      ]
     },
     "execution_count": 73,
     "metadata": {
      "tags": []
     },
     "output_type": "execute_result"
    }
   ],
   "source": [
    "lgbm_cv_set1.best_score_"
   ]
  },
  {
   "cell_type": "markdown",
   "metadata": {},
   "source": [
    "The model tends to be overfitting"
   ]
  },
  {
   "cell_type": "markdown",
   "metadata": {
    "colab_type": "text",
    "id": "OgQ9fCSVbcgJ"
   },
   "source": [
    "#### Set 2"
   ]
  },
  {
   "cell_type": "markdown",
   "metadata": {},
   "source": [
    "Fine tuning the num_leaves parameter"
   ]
  },
  {
   "cell_type": "code",
   "execution_count": 74,
   "metadata": {
    "colab": {
     "base_uri": "https://localhost:8080/",
     "height": 272
    },
    "colab_type": "code",
    "executionInfo": {
     "elapsed": 244395,
     "status": "ok",
     "timestamp": 1598859837336,
     "user": {
      "displayName": "Ho Van Nghiem",
      "photoUrl": "",
      "userId": "17867822427606298916"
     },
     "user_tz": -420
    },
    "id": "i4DcL-BIbgHY",
    "outputId": "4aecb494-f4c3-4cb9-f921-3deb89dbd4f2"
   },
   "outputs": [
    {
     "data": {
      "text/plain": [
       "GridSearchCV(cv=5, error_score=nan,\n",
       "             estimator=LGBMRegressor(boosting_type='gbdt', class_weight=None,\n",
       "                                     colsample_bytree=1.0,\n",
       "                                     importance_type='split', learning_rate=0.1,\n",
       "                                     max_depth=-1, min_child_samples=20,\n",
       "                                     min_child_weight=0.001, min_split_gain=0.0,\n",
       "                                     n_estimators=150, n_jobs=-1, num_leaves=31,\n",
       "                                     objective=None, random_state=None,\n",
       "                                     reg_alpha=0.0, reg_lambda=0.0, silent=True,\n",
       "                                     subsample=1.0, subsample_for_bin=200000,\n",
       "                                     subsample_freq=0),\n",
       "             iid='deprecated', n_jobs=None,\n",
       "             param_grid={'num_leaves': [50, 100, 150]}, pre_dispatch='2*n_jobs',\n",
       "             refit=True, return_train_score=True,\n",
       "             scoring='neg_root_mean_squared_error', verbose=0)"
      ]
     },
     "execution_count": 74,
     "metadata": {
      "tags": []
     },
     "output_type": "execute_result"
    }
   ],
   "source": [
    "lgbm_set2 = lgb.LGBMRegressor(n_estimators=150)\n",
    "param_lgbm_set2 = {'num_leaves':[50,100,150]}\n",
    "lgbm_cv_set2 = GridSearchCV(estimator=lgbm_set2,param_grid=param_lgbm_set2,cv=5,scoring=\"neg_root_mean_squared_error\",return_train_score=True)\n",
    "lgbm_cv_set2.fit(X_train,y_train)"
   ]
  },
  {
   "cell_type": "code",
   "execution_count": 75,
   "metadata": {
    "colab": {
     "base_uri": "https://localhost:8080/",
     "height": 285
    },
    "colab_type": "code",
    "executionInfo": {
     "elapsed": 950,
     "status": "ok",
     "timestamp": 1598859855600,
     "user": {
      "displayName": "Ho Van Nghiem",
      "photoUrl": "",
      "userId": "17867822427606298916"
     },
     "user_tz": -420
    },
    "id": "gvGw5je3bumP",
    "outputId": "03e25005-2169-4abd-8354-e1c7a7b10554"
   },
   "outputs": [
    {
     "data": {
      "image/png": "[encoded data removed]",
      "text/plain": [
       "<Figure size 432x288 with 1 Axes>"
      ]
     },
     "metadata": {
      "needs_background": "light",
      "tags": []
     },
     "output_type": "display_data"
    }
   ],
   "source": [
    "plot_valscore(lgbm_cv_set2,[50,100,150],scale='linear')"
   ]
  },
  {
   "cell_type": "code",
   "execution_count": 76,
   "metadata": {
    "colab": {
     "base_uri": "https://localhost:8080/",
     "height": 34
    },
    "colab_type": "code",
    "executionInfo": {
     "elapsed": 911,
     "status": "ok",
     "timestamp": 1598859892808,
     "user": {
      "displayName": "Ho Van Nghiem",
      "photoUrl": "",
      "userId": "17867822427606298916"
     },
     "user_tz": -420
    },
    "id": "FX-3lUyYea2-",
    "outputId": "a95db578-c082-4bd8-8810-7ba46ff8ed1e"
   },
   "outputs": [
    {
     "data": {
      "text/plain": [
       "-20794.534347390472"
      ]
     },
     "execution_count": 76,
     "metadata": {
      "tags": []
     },
     "output_type": "execute_result"
    }
   ],
   "source": [
    "lgbm_cv_set2.best_score_"
   ]
  },
  {
   "cell_type": "markdown",
   "metadata": {},
   "source": [
    "The validation score does not decrease, so the model goes worse when increasing that parameter"
   ]
  },
  {
   "cell_type": "markdown",
   "metadata": {},
   "source": [
    "#### Set 3"
   ]
  },
  {
   "cell_type": "markdown",
   "metadata": {},
   "source": [
    "Fine tuning the learning_rate parameter"
   ]
  },
  {
   "cell_type": "code",
   "execution_count": 77,
   "metadata": {
    "colab": {
     "base_uri": "https://localhost:8080/",
     "height": 272
    },
    "colab_type": "code",
    "executionInfo": {
     "elapsed": 236340,
     "status": "ok",
     "timestamp": 1598860227857,
     "user": {
      "displayName": "Ho Van Nghiem",
      "photoUrl": "",
      "userId": "17867822427606298916"
     },
     "user_tz": -420
    },
    "id": "7bUYwejhejo9",
    "outputId": "7991d5ef-baf4-4b7e-c536-878dcf9526df"
   },
   "outputs": [
    {
     "data": {
      "text/plain": [
       "GridSearchCV(cv=5, error_score=nan,\n",
       "             estimator=LGBMRegressor(boosting_type='gbdt', class_weight=None,\n",
       "                                     colsample_bytree=1.0,\n",
       "                                     importance_type='split', learning_rate=0.1,\n",
       "                                     max_depth=-1, min_child_samples=20,\n",
       "                                     min_child_weight=0.001, min_split_gain=0.0,\n",
       "                                     n_estimators=150, n_jobs=-1, num_leaves=50,\n",
       "                                     objective=None, random_state=None,\n",
       "                                     reg_alpha=0.0, reg_lambda=0.0, silent=True,\n",
       "                                     subsample=1.0, subsample_for_bin=200000,\n",
       "                                     subsample_freq=0),\n",
       "             iid='deprecated', n_jobs=None,\n",
       "             param_grid={'learning_rate': [0.03, 0.05, 0.1]},\n",
       "             pre_dispatch='2*n_jobs', refit=True, return_train_score=True,\n",
       "             scoring='neg_root_mean_squared_error', verbose=0)"
      ]
     },
     "execution_count": 77,
     "metadata": {
      "tags": []
     },
     "output_type": "execute_result"
    }
   ],
   "source": [
    "lgbm_set3 = lgb.LGBMRegressor(n_estimators=150,num_leaves=50)\n",
    "param_lgbm_set3 = {'learning_rate':[0.03,0.05,0.1]}\n",
    "lgbm_cv_set3 = GridSearchCV(estimator=lgbm_set3,param_grid=param_lgbm_set3,cv=5,scoring=\"neg_root_mean_squared_error\",return_train_score=True)\n",
    "lgbm_cv_set3.fit(X_train,y_train)"
   ]
  },
  {
   "cell_type": "code",
   "execution_count": 78,
   "metadata": {
    "colab": {
     "base_uri": "https://localhost:8080/",
     "height": 285
    },
    "colab_type": "code",
    "executionInfo": {
     "elapsed": 1239,
     "status": "ok",
     "timestamp": 1598860746723,
     "user": {
      "displayName": "Ho Van Nghiem",
      "photoUrl": "",
      "userId": "17867822427606298916"
     },
     "user_tz": -420
    },
    "id": "Yp0Ec5KtekDb",
    "outputId": "21f64122-b517-431b-8bb2-96ba189b4647"
   },
   "outputs": [
    {
     "data": {
      "image/png": "[encoded data removed]",
      "text/plain": [
       "<Figure size 432x288 with 1 Axes>"
      ]
     },
     "metadata": {
      "needs_background": "light",
      "tags": []
     },
     "output_type": "display_data"
    }
   ],
   "source": [
    "plot_valscore(lgbm_cv_set3,[0.03,0.05,0.1],scale='linear')"
   ]
  },
  {
   "cell_type": "code",
   "execution_count": 79,
   "metadata": {
    "colab": {
     "base_uri": "https://localhost:8080/",
     "height": 34
    },
    "colab_type": "code",
    "executionInfo": {
     "elapsed": 1065,
     "status": "ok",
     "timestamp": 1598860767758,
     "user": {
      "displayName": "Ho Van Nghiem",
      "photoUrl": "",
      "userId": "17867822427606298916"
     },
     "user_tz": -420
    },
    "id": "q4wVogMOhwGa",
    "outputId": "0549024d-2897-4fb8-d76c-103a8d482ed7"
   },
   "outputs": [
    {
     "data": {
      "text/plain": [
       "-20794.534347390472"
      ]
     },
     "execution_count": 79,
     "metadata": {
      "tags": []
     },
     "output_type": "execute_result"
    }
   ],
   "source": [
    "lgbm_cv_set3.best_score_"
   ]
  },
  {
   "cell_type": "markdown",
   "metadata": {},
   "source": [
    "#### Set 4"
   ]
  },
  {
   "cell_type": "markdown",
   "metadata": {},
   "source": [
    "Fine tuning max_depth parameter"
   ]
  },
  {
   "cell_type": "code",
   "execution_count": 80,
   "metadata": {
    "colab": {
     "base_uri": "https://localhost:8080/",
     "height": 272
    },
    "colab_type": "code",
    "executionInfo": {
     "elapsed": 213802,
     "status": "ok",
     "timestamp": 1598861207779,
     "user": {
      "displayName": "Ho Van Nghiem",
      "photoUrl": "",
      "userId": "17867822427606298916"
     },
     "user_tz": -420
    },
    "id": "5wK--do4iaea",
    "outputId": "d264c44e-0c39-4c44-fdf8-05610bba9ed3"
   },
   "outputs": [
    {
     "data": {
      "text/plain": [
       "GridSearchCV(cv=5, error_score=nan,\n",
       "             estimator=LGBMRegressor(boosting_type='gbdt', class_weight=None,\n",
       "                                     colsample_bytree=1.0,\n",
       "                                     importance_type='split', learning_rate=0.1,\n",
       "                                     max_depth=-1, min_child_samples=20,\n",
       "                                     min_child_weight=0.001, min_split_gain=0.0,\n",
       "                                     n_estimators=150, n_jobs=-1, num_leaves=50,\n",
       "                                     objective=None, random_state=None,\n",
       "                                     reg_alpha=0.0, reg_lambda=0.0, silent=True,\n",
       "                                     subsample=1.0, subsample_for_bin=200000,\n",
       "                                     subsample_freq=0),\n",
       "             iid='deprecated', n_jobs=None,\n",
       "             param_grid={'max_depth': [5, 7, 10]}, pre_dispatch='2*n_jobs',\n",
       "             refit=True, return_train_score=True,\n",
       "             scoring='neg_root_mean_squared_error', verbose=0)"
      ]
     },
     "execution_count": 80,
     "metadata": {
      "tags": []
     },
     "output_type": "execute_result"
    }
   ],
   "source": [
    "lgbm_set4 = lgb.LGBMRegressor(n_estimators=150,num_leaves=50,learning_rate=0.1)\n",
    "param_lgbm_set4= {'max_depth':[5,7,10]}\n",
    "lgbm_cv_set4 = GridSearchCV(estimator=lgbm_set4,param_grid=param_lgbm_set4,cv=5,scoring=\"neg_root_mean_squared_error\",return_train_score=True)\n",
    "lgbm_cv_set4.fit(X_train,y_train)"
   ]
  },
  {
   "cell_type": "code",
   "execution_count": 82,
   "metadata": {
    "colab": {
     "base_uri": "https://localhost:8080/",
     "height": 285
    },
    "colab_type": "code",
    "executionInfo": {
     "elapsed": 1329,
     "status": "ok",
     "timestamp": 1598861380314,
     "user": {
      "displayName": "Ho Van Nghiem",
      "photoUrl": "",
      "userId": "17867822427606298916"
     },
     "user_tz": -420
    },
    "id": "8SRbqFeQiaxk",
    "outputId": "51a00a9b-7f36-4ab8-b893-a855fb19a65b"
   },
   "outputs": [
    {
     "data": {
      "image/png": "[encoded data removed]",
      "text/plain": [
       "<Figure size 432x288 with 1 Axes>"
      ]
     },
     "metadata": {
      "needs_background": "light",
      "tags": []
     },
     "output_type": "display_data"
    }
   ],
   "source": [
    "plot_valscore(lgbm_cv_set4,[5,7,10],scale='linear')"
   ]
  },
  {
   "cell_type": "code",
   "execution_count": 83,
   "metadata": {
    "colab": {
     "base_uri": "https://localhost:8080/",
     "height": 34
    },
    "colab_type": "code",
    "executionInfo": {
     "elapsed": 1313,
     "status": "ok",
     "timestamp": 1598861391901,
     "user": {
      "displayName": "Ho Van Nghiem",
      "photoUrl": "",
      "userId": "17867822427606298916"
     },
     "user_tz": -420
    },
    "id": "ftgQGPEYia9u",
    "outputId": "e8c7086c-d109-41a0-b7d6-1f6afe2eb2c2"
   },
   "outputs": [
    {
     "data": {
      "text/plain": [
       "-20782.86712591542"
      ]
     },
     "execution_count": 83,
     "metadata": {
      "tags": []
     },
     "output_type": "execute_result"
    }
   ],
   "source": [
    "lgbm_cv_set4.best_score_"
   ]
  },
  {
   "cell_type": "code",
   "execution_count": 84,
   "metadata": {
    "colab": {
     "base_uri": "https://localhost:8080/",
     "height": 34
    },
    "colab_type": "code",
    "executionInfo": {
     "elapsed": 746,
     "status": "ok",
     "timestamp": 1598861576107,
     "user": {
      "displayName": "Ho Van Nghiem",
      "photoUrl": "",
      "userId": "17867822427606298916"
     },
     "user_tz": -420
    },
    "id": "O8J6CxS6k153",
    "outputId": "860690b9-4ace-4809-da4c-4e9b850377c7"
   },
   "outputs": [
    {
     "data": {
      "text/plain": [
       "{'max_depth': 10}"
      ]
     },
     "execution_count": 84,
     "metadata": {
      "tags": []
     },
     "output_type": "execute_result"
    }
   ],
   "source": [
    "lgbm_cv_set4.best_params_"
   ]
  },
  {
   "cell_type": "markdown",
   "metadata": {},
   "source": [
    "The validation score is reducing very slightly but the training score decrease too much, the model is overfitting"
   ]
  },
  {
   "cell_type": "markdown",
   "metadata": {
    "colab_type": "text",
    "id": "vDsbGcGhfDGg"
   },
   "source": [
    "### 6.3 Voting"
   ]
  },
  {
   "cell_type": "markdown",
   "metadata": {},
   "source": [
    "Both XGBoost and LighGBM is generating a better score on validation but make the model slightly overfitting. Ridge and Lasso look like poor performance on this dataset. So we chose two the boosting model for voting the final result"
   ]
  },
  {
   "cell_type": "code",
   "execution_count": 85,
   "metadata": {
    "colab": {
     "base_uri": "https://localhost:8080/",
     "height": 54
    },
    "colab_type": "code",
    "executionInfo": {
     "elapsed": 119750,
     "status": "ok",
     "timestamp": 1598861721818,
     "user": {
      "displayName": "Ho Van Nghiem",
      "photoUrl": "",
      "userId": "17867822427606298916"
     },
     "user_tz": -420
    },
    "id": "2kgNE9_ffJeT",
    "outputId": "6c846429-5ecd-4e7d-d5f9-2c973458cd51"
   },
   "outputs": [
    {
     "name": "stdout",
     "output_type": "stream",
     "text": [
      "[08:13:22] WARNING: /workspace/src/objective/regression_obj.cu:152: reg:linear is now deprecated in favor of reg:squarederror.\n"
     ]
    }
   ],
   "source": [
    "r1 = xgb.XGBRegressor(n_estimators=250,learning_rate=0.2)\n",
    "r2 = lgb.LGBMRegressor(n_estimators=150,num_leaves=50,learning_rate=0.1, max_depth=10)\n",
    "regressor = VotingRegressor([('xgb', r1), ('lgb', r2)]).fit(X_train,y_train)"
   ]
  },
  {
   "cell_type": "markdown",
   "metadata": {
    "colab_type": "text",
    "id": "z5zFMsLfGKZx"
   },
   "source": [
    "# Submit"
   ]
  },
  {
   "cell_type": "code",
   "execution_count": 86,
   "metadata": {
    "colab": {},
    "colab_type": "code",
    "executionInfo": {
     "elapsed": 1465,
     "status": "ok",
     "timestamp": 1598862090974,
     "user": {
      "displayName": "Ho Van Nghiem",
      "photoUrl": "",
      "userId": "17867822427606298916"
     },
     "user_tz": -420
    },
    "id": "8JCpmmHGGKZx"
   },
   "outputs": [],
   "source": [
    "def to_submit_file(file_name, probs):\n",
    "    \"\"\"\n",
    "    A helper function helps generating submit files\n",
    "    \n",
    "    :param file_name: submit file name\n",
    "    :param probs: list of probabilities for test samples\n",
    "    \n",
    "    :return: None\n",
    "    \"\"\"\n",
    "    submit = test_id.copy()\n",
    "    submit['Salary'] = probs\n",
    "    submit.to_csv(file_name, index = False)\n",
    "    print ('Done writting submit file: ', file_name)"
   ]
  },
  {
   "cell_type": "code",
   "execution_count": 87,
   "metadata": {
    "colab": {},
    "colab_type": "code",
    "executionInfo": {
     "elapsed": 2265,
     "status": "ok",
     "timestamp": 1598862093936,
     "user": {
      "displayName": "Ho Van Nghiem",
      "photoUrl": "",
      "userId": "17867822427606298916"
     },
     "user_tz": -420
    },
    "id": "ZoFN5T8sGKZz"
   },
   "outputs": [],
   "source": [
    "test_id = pd.read_csv('/content/gdrive/My Drive/Python/Final project/Predict Engineer salary/data_all/submit.csv')"
   ]
  },
  {
   "cell_type": "code",
   "execution_count": 88,
   "metadata": {
    "colab": {},
    "colab_type": "code",
    "executionInfo": {
     "elapsed": 2137,
     "status": "ok",
     "timestamp": 1598862095971,
     "user": {
      "displayName": "Ho Van Nghiem",
      "photoUrl": "",
      "userId": "17867822427606298916"
     },
     "user_tz": -420
    },
    "id": "PGdafVb5GKZ0"
   },
   "outputs": [],
   "source": [
    "y_pred = regressor.predict(X_test)"
   ]
  },
  {
   "cell_type": "code",
   "execution_count": 89,
   "metadata": {
    "colab": {
     "base_uri": "https://localhost:8080/",
     "height": 34
    },
    "colab_type": "code",
    "executionInfo": {
     "elapsed": 1720,
     "status": "ok",
     "timestamp": 1598862141713,
     "user": {
      "displayName": "Ho Van Nghiem",
      "photoUrl": "",
      "userId": "17867822427606298916"
     },
     "user_tz": -420
    },
    "id": "HYbxDWrTGKZ1",
    "outputId": "0c6414a1-0be2-45cc-e101-5fc8cffceeaa"
   },
   "outputs": [
    {
     "name": "stdout",
     "output_type": "stream",
     "text": [
      "Done writting submit file:  xgb-lgb-voting.csv\n"
     ]
    }
   ],
   "source": [
    "to_submit_file('xgb-lgb-voting.csv',y_pred)"
   ]
  }
 ],
 "metadata": {
  "accelerator": "GPU",
  "colab": {
   "name": "fine-tune-EDA (1).ipynb",
   "provenance": [],
   "toc_visible": true
  },
  "kernelspec": {
   "display_name": "Python 3",
   "language": "python",
   "name": "python3"
  },
  "language_info": {
   "codemirror_mode": {
    "name": "ipython",
    "version": 3
   },
   "file_extension": ".py",
   "mimetype": "text/x-python",
   "name": "python",
   "nbconvert_exporter": "python",
   "pygments_lexer": "ipython3",
   "version": "3.7.7"
  }
 },
 "nbformat": 4,
 "nbformat_minor": 1
}
